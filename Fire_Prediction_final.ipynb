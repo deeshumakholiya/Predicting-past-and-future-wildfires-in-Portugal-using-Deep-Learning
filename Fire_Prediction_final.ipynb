{
  "cells": [
    {
      "cell_type": "code",
      "execution_count": null,
      "metadata": {
        "id": "g_5u0OVMMgv9"
      },
      "outputs": [],
      "source": [
        "import pandas as pd\n",
        "import numpy as np\n",
        "import tensorflow as tf\n",
        "from tensorflow import keras"
      ]
    },
    {
      "cell_type": "code",
      "source": [
        "!pip3 install pickle5\n",
        "import pickle5 as pickle\n",
        "with open('dataset_time.pkl', \"rb\") as fh:\n",
        "  df = pickle.load(fh)"
      ],
      "metadata": {
        "colab": {
          "base_uri": "https://localhost:8080/"
        },
        "id": "8ecXURdYNGSM",
        "outputId": "c88ae2ab-d1b8-4705-9b8c-83ed026163f1"
      },
      "execution_count": null,
      "outputs": [
        {
          "output_type": "stream",
          "name": "stdout",
          "text": [
            "Collecting pickle5\n",
            "  Downloading pickle5-0.0.12-cp37-cp37m-manylinux_2_5_x86_64.manylinux1_x86_64.whl (256 kB)\n",
            "\u001b[?25l\r\u001b[K     |█▎                              | 10 kB 20.2 MB/s eta 0:00:01\r\u001b[K     |██▋                             | 20 kB 9.9 MB/s eta 0:00:01\r\u001b[K     |███▉                            | 30 kB 7.6 MB/s eta 0:00:01\r\u001b[K     |█████▏                          | 40 kB 7.1 MB/s eta 0:00:01\r\u001b[K     |██████▍                         | 51 kB 4.2 MB/s eta 0:00:01\r\u001b[K     |███████▊                        | 61 kB 5.0 MB/s eta 0:00:01\r\u001b[K     |█████████                       | 71 kB 5.2 MB/s eta 0:00:01\r\u001b[K     |██████████▎                     | 81 kB 5.1 MB/s eta 0:00:01\r\u001b[K     |███████████▌                    | 92 kB 5.6 MB/s eta 0:00:01\r\u001b[K     |████████████▉                   | 102 kB 5.2 MB/s eta 0:00:01\r\u001b[K     |██████████████                  | 112 kB 5.2 MB/s eta 0:00:01\r\u001b[K     |███████████████▍                | 122 kB 5.2 MB/s eta 0:00:01\r\u001b[K     |████████████████▋               | 133 kB 5.2 MB/s eta 0:00:01\r\u001b[K     |██████████████████              | 143 kB 5.2 MB/s eta 0:00:01\r\u001b[K     |███████████████████▏            | 153 kB 5.2 MB/s eta 0:00:01\r\u001b[K     |████████████████████▌           | 163 kB 5.2 MB/s eta 0:00:01\r\u001b[K     |█████████████████████▊          | 174 kB 5.2 MB/s eta 0:00:01\r\u001b[K     |███████████████████████         | 184 kB 5.2 MB/s eta 0:00:01\r\u001b[K     |████████████████████████▎       | 194 kB 5.2 MB/s eta 0:00:01\r\u001b[K     |█████████████████████████▋      | 204 kB 5.2 MB/s eta 0:00:01\r\u001b[K     |██████████████████████████▉     | 215 kB 5.2 MB/s eta 0:00:01\r\u001b[K     |████████████████████████████▏   | 225 kB 5.2 MB/s eta 0:00:01\r\u001b[K     |█████████████████████████████▍  | 235 kB 5.2 MB/s eta 0:00:01\r\u001b[K     |██████████████████████████████▊ | 245 kB 5.2 MB/s eta 0:00:01\r\u001b[K     |████████████████████████████████| 256 kB 5.2 MB/s eta 0:00:01\r\u001b[K     |████████████████████████████████| 256 kB 5.2 MB/s \n",
            "\u001b[?25hInstalling collected packages: pickle5\n",
            "Successfully installed pickle5-0.0.12\n"
          ]
        }
      ]
    },
    {
      "cell_type": "code",
      "execution_count": null,
      "metadata": {
        "id": "ds5Q2yBuMgwB",
        "colab": {
          "base_uri": "https://localhost:8080/",
          "height": 250
        },
        "outputId": "b6075155-185c-4046-db9e-d81e2cae1d87"
      },
      "outputs": [
        {
          "output_type": "execute_result",
          "data": {
            "text/plain": [
              "   fire       veg        tair        tmax          prec      wind  year  month\n",
              "0   0.0  0.519537  281.850800  287.042877  0.000000e+00  2.924010  2001      1\n",
              "1   0.0  0.522642  282.009521  286.676941  1.428358e-07  2.436872  2001      1\n",
              "2   0.0  0.525748  280.715393  283.814606  1.779684e-05  1.660926  2001      1\n",
              "3   0.0  0.528854  281.651886  283.489288  9.013197e-05  2.029600  2001      1\n",
              "4   0.0  0.531959  280.482574  283.335846  1.318250e-04  3.849517  2001      1"
            ],
            "text/html": [
              "\n",
              "  <div id=\"df-a036ee1d-427b-40d6-9f2c-40a7f8d52325\">\n",
              "    <div class=\"colab-df-container\">\n",
              "      <div>\n",
              "<style scoped>\n",
              "    .dataframe tbody tr th:only-of-type {\n",
              "        vertical-align: middle;\n",
              "    }\n",
              "\n",
              "    .dataframe tbody tr th {\n",
              "        vertical-align: top;\n",
              "    }\n",
              "\n",
              "    .dataframe thead th {\n",
              "        text-align: right;\n",
              "    }\n",
              "</style>\n",
              "<table border=\"1\" class=\"dataframe\">\n",
              "  <thead>\n",
              "    <tr style=\"text-align: right;\">\n",
              "      <th></th>\n",
              "      <th>fire</th>\n",
              "      <th>veg</th>\n",
              "      <th>tair</th>\n",
              "      <th>tmax</th>\n",
              "      <th>prec</th>\n",
              "      <th>wind</th>\n",
              "      <th>year</th>\n",
              "      <th>month</th>\n",
              "    </tr>\n",
              "  </thead>\n",
              "  <tbody>\n",
              "    <tr>\n",
              "      <th>0</th>\n",
              "      <td>0.0</td>\n",
              "      <td>0.519537</td>\n",
              "      <td>281.850800</td>\n",
              "      <td>287.042877</td>\n",
              "      <td>0.000000e+00</td>\n",
              "      <td>2.924010</td>\n",
              "      <td>2001</td>\n",
              "      <td>1</td>\n",
              "    </tr>\n",
              "    <tr>\n",
              "      <th>1</th>\n",
              "      <td>0.0</td>\n",
              "      <td>0.522642</td>\n",
              "      <td>282.009521</td>\n",
              "      <td>286.676941</td>\n",
              "      <td>1.428358e-07</td>\n",
              "      <td>2.436872</td>\n",
              "      <td>2001</td>\n",
              "      <td>1</td>\n",
              "    </tr>\n",
              "    <tr>\n",
              "      <th>2</th>\n",
              "      <td>0.0</td>\n",
              "      <td>0.525748</td>\n",
              "      <td>280.715393</td>\n",
              "      <td>283.814606</td>\n",
              "      <td>1.779684e-05</td>\n",
              "      <td>1.660926</td>\n",
              "      <td>2001</td>\n",
              "      <td>1</td>\n",
              "    </tr>\n",
              "    <tr>\n",
              "      <th>3</th>\n",
              "      <td>0.0</td>\n",
              "      <td>0.528854</td>\n",
              "      <td>281.651886</td>\n",
              "      <td>283.489288</td>\n",
              "      <td>9.013197e-05</td>\n",
              "      <td>2.029600</td>\n",
              "      <td>2001</td>\n",
              "      <td>1</td>\n",
              "    </tr>\n",
              "    <tr>\n",
              "      <th>4</th>\n",
              "      <td>0.0</td>\n",
              "      <td>0.531959</td>\n",
              "      <td>280.482574</td>\n",
              "      <td>283.335846</td>\n",
              "      <td>1.318250e-04</td>\n",
              "      <td>3.849517</td>\n",
              "      <td>2001</td>\n",
              "      <td>1</td>\n",
              "    </tr>\n",
              "  </tbody>\n",
              "</table>\n",
              "</div>\n",
              "      <button class=\"colab-df-convert\" onclick=\"convertToInteractive('df-a036ee1d-427b-40d6-9f2c-40a7f8d52325')\"\n",
              "              title=\"Convert this dataframe to an interactive table.\"\n",
              "              style=\"display:none;\">\n",
              "        \n",
              "  <svg xmlns=\"http://www.w3.org/2000/svg\" height=\"24px\"viewBox=\"0 0 24 24\"\n",
              "       width=\"24px\">\n",
              "    <path d=\"M0 0h24v24H0V0z\" fill=\"none\"/>\n",
              "    <path d=\"M18.56 5.44l.94 2.06.94-2.06 2.06-.94-2.06-.94-.94-2.06-.94 2.06-2.06.94zm-11 1L8.5 8.5l.94-2.06 2.06-.94-2.06-.94L8.5 2.5l-.94 2.06-2.06.94zm10 10l.94 2.06.94-2.06 2.06-.94-2.06-.94-.94-2.06-.94 2.06-2.06.94z\"/><path d=\"M17.41 7.96l-1.37-1.37c-.4-.4-.92-.59-1.43-.59-.52 0-1.04.2-1.43.59L10.3 9.45l-7.72 7.72c-.78.78-.78 2.05 0 2.83L4 21.41c.39.39.9.59 1.41.59.51 0 1.02-.2 1.41-.59l7.78-7.78 2.81-2.81c.8-.78.8-2.07 0-2.86zM5.41 20L4 18.59l7.72-7.72 1.47 1.35L5.41 20z\"/>\n",
              "  </svg>\n",
              "      </button>\n",
              "      \n",
              "  <style>\n",
              "    .colab-df-container {\n",
              "      display:flex;\n",
              "      flex-wrap:wrap;\n",
              "      gap: 12px;\n",
              "    }\n",
              "\n",
              "    .colab-df-convert {\n",
              "      background-color: #E8F0FE;\n",
              "      border: none;\n",
              "      border-radius: 50%;\n",
              "      cursor: pointer;\n",
              "      display: none;\n",
              "      fill: #1967D2;\n",
              "      height: 32px;\n",
              "      padding: 0 0 0 0;\n",
              "      width: 32px;\n",
              "    }\n",
              "\n",
              "    .colab-df-convert:hover {\n",
              "      background-color: #E2EBFA;\n",
              "      box-shadow: 0px 1px 2px rgba(60, 64, 67, 0.3), 0px 1px 3px 1px rgba(60, 64, 67, 0.15);\n",
              "      fill: #174EA6;\n",
              "    }\n",
              "\n",
              "    [theme=dark] .colab-df-convert {\n",
              "      background-color: #3B4455;\n",
              "      fill: #D2E3FC;\n",
              "    }\n",
              "\n",
              "    [theme=dark] .colab-df-convert:hover {\n",
              "      background-color: #434B5C;\n",
              "      box-shadow: 0px 1px 3px 1px rgba(0, 0, 0, 0.15);\n",
              "      filter: drop-shadow(0px 1px 2px rgba(0, 0, 0, 0.3));\n",
              "      fill: #FFFFFF;\n",
              "    }\n",
              "  </style>\n",
              "\n",
              "      <script>\n",
              "        const buttonEl =\n",
              "          document.querySelector('#df-a036ee1d-427b-40d6-9f2c-40a7f8d52325 button.colab-df-convert');\n",
              "        buttonEl.style.display =\n",
              "          google.colab.kernel.accessAllowed ? 'block' : 'none';\n",
              "\n",
              "        async function convertToInteractive(key) {\n",
              "          const element = document.querySelector('#df-a036ee1d-427b-40d6-9f2c-40a7f8d52325');\n",
              "          const dataTable =\n",
              "            await google.colab.kernel.invokeFunction('convertToInteractive',\n",
              "                                                     [key], {});\n",
              "          if (!dataTable) return;\n",
              "\n",
              "          const docLinkHtml = 'Like what you see? Visit the ' +\n",
              "            '<a target=\"_blank\" href=https://colab.research.google.com/notebooks/data_table.ipynb>data table notebook</a>'\n",
              "            + ' to learn more about interactive tables.';\n",
              "          element.innerHTML = '';\n",
              "          dataTable['output_type'] = 'display_data';\n",
              "          await google.colab.output.renderOutput(dataTable, element);\n",
              "          const docLink = document.createElement('div');\n",
              "          docLink.innerHTML = docLinkHtml;\n",
              "          element.appendChild(docLink);\n",
              "        }\n",
              "      </script>\n",
              "    </div>\n",
              "  </div>\n",
              "  "
            ]
          },
          "metadata": {},
          "execution_count": 3
        }
      ],
      "source": [
        "df.head()"
      ]
    },
    {
      "cell_type": "code",
      "execution_count": null,
      "metadata": {
        "id": "mOfkStSQMgwC",
        "colab": {
          "base_uri": "https://localhost:8080/"
        },
        "outputId": "e3fe9017-ae06-4c12-ce93-ca6a24f0ee93"
      },
      "outputs": [
        {
          "output_type": "execute_result",
          "data": {
            "text/plain": [
              "(4932, 8)"
            ]
          },
          "metadata": {},
          "execution_count": 4
        }
      ],
      "source": [
        "df.shape"
      ]
    },
    {
      "cell_type": "code",
      "execution_count": null,
      "metadata": {
        "colab": {
          "base_uri": "https://localhost:8080/"
        },
        "id": "zGkBv0cNMgwC",
        "outputId": "164b1d61-92f0-4ebe-bf10-75e23992f0de"
      },
      "outputs": [
        {
          "output_type": "execute_result",
          "data": {
            "text/plain": [
              "fire     False\n",
              "veg      False\n",
              "tair     False\n",
              "tmax     False\n",
              "prec     False\n",
              "wind     False\n",
              "year     False\n",
              "month    False\n",
              "dtype: bool"
            ]
          },
          "metadata": {},
          "execution_count": 5
        }
      ],
      "source": [
        "df.isnull().any() "
      ]
    },
    {
      "cell_type": "code",
      "execution_count": null,
      "metadata": {
        "colab": {
          "base_uri": "https://localhost:8080/",
          "height": 364
        },
        "id": "ex42tNbvMgwD",
        "outputId": "b6f9479d-8f5e-4ada-c7d7-15be98006746"
      },
      "outputs": [
        {
          "output_type": "execute_result",
          "data": {
            "text/plain": [
              "               fire          veg         tair         tmax          prec  \\\n",
              "count  4.932000e+03  4932.000000  4932.000000  4932.000000  4.932000e+03   \n",
              "mean   4.851529e+05     0.615639   287.358276   291.962830  5.146567e-05   \n",
              "std    2.416577e+06     0.042578     4.900804     5.822189  1.056126e-04   \n",
              "min    0.000000e+00     0.418210   274.894012   276.355804  0.000000e+00   \n",
              "25%    0.000000e+00     0.593076   283.549400   287.063660  0.000000e+00   \n",
              "50%    0.000000e+00     0.619659   287.057938   291.222031  8.237752e-07   \n",
              "75%    0.000000e+00     0.647683   291.347519   296.355911  5.169595e-05   \n",
              "max    3.500581e+07     0.688896   301.290588   310.879608  1.005264e-03   \n",
              "\n",
              "              wind         year        month  \n",
              "count  4932.000000  4932.000000  4932.000000  \n",
              "mean      3.208490  2007.293390     6.427413  \n",
              "std       1.365396     3.905507     3.436565  \n",
              "min       0.936329  2001.000000     1.000000  \n",
              "25%       2.125525  2004.000000     3.000000  \n",
              "50%       2.891564  2007.000000     6.000000  \n",
              "75%       3.996434  2011.000000     9.000000  \n",
              "max       9.724447  2014.000000    12.000000  "
            ],
            "text/html": [
              "\n",
              "  <div id=\"df-1c35f5e8-1e81-4faa-aed5-ce4b6b69b3c3\">\n",
              "    <div class=\"colab-df-container\">\n",
              "      <div>\n",
              "<style scoped>\n",
              "    .dataframe tbody tr th:only-of-type {\n",
              "        vertical-align: middle;\n",
              "    }\n",
              "\n",
              "    .dataframe tbody tr th {\n",
              "        vertical-align: top;\n",
              "    }\n",
              "\n",
              "    .dataframe thead th {\n",
              "        text-align: right;\n",
              "    }\n",
              "</style>\n",
              "<table border=\"1\" class=\"dataframe\">\n",
              "  <thead>\n",
              "    <tr style=\"text-align: right;\">\n",
              "      <th></th>\n",
              "      <th>fire</th>\n",
              "      <th>veg</th>\n",
              "      <th>tair</th>\n",
              "      <th>tmax</th>\n",
              "      <th>prec</th>\n",
              "      <th>wind</th>\n",
              "      <th>year</th>\n",
              "      <th>month</th>\n",
              "    </tr>\n",
              "  </thead>\n",
              "  <tbody>\n",
              "    <tr>\n",
              "      <th>count</th>\n",
              "      <td>4.932000e+03</td>\n",
              "      <td>4932.000000</td>\n",
              "      <td>4932.000000</td>\n",
              "      <td>4932.000000</td>\n",
              "      <td>4.932000e+03</td>\n",
              "      <td>4932.000000</td>\n",
              "      <td>4932.000000</td>\n",
              "      <td>4932.000000</td>\n",
              "    </tr>\n",
              "    <tr>\n",
              "      <th>mean</th>\n",
              "      <td>4.851529e+05</td>\n",
              "      <td>0.615639</td>\n",
              "      <td>287.358276</td>\n",
              "      <td>291.962830</td>\n",
              "      <td>5.146567e-05</td>\n",
              "      <td>3.208490</td>\n",
              "      <td>2007.293390</td>\n",
              "      <td>6.427413</td>\n",
              "    </tr>\n",
              "    <tr>\n",
              "      <th>std</th>\n",
              "      <td>2.416577e+06</td>\n",
              "      <td>0.042578</td>\n",
              "      <td>4.900804</td>\n",
              "      <td>5.822189</td>\n",
              "      <td>1.056126e-04</td>\n",
              "      <td>1.365396</td>\n",
              "      <td>3.905507</td>\n",
              "      <td>3.436565</td>\n",
              "    </tr>\n",
              "    <tr>\n",
              "      <th>min</th>\n",
              "      <td>0.000000e+00</td>\n",
              "      <td>0.418210</td>\n",
              "      <td>274.894012</td>\n",
              "      <td>276.355804</td>\n",
              "      <td>0.000000e+00</td>\n",
              "      <td>0.936329</td>\n",
              "      <td>2001.000000</td>\n",
              "      <td>1.000000</td>\n",
              "    </tr>\n",
              "    <tr>\n",
              "      <th>25%</th>\n",
              "      <td>0.000000e+00</td>\n",
              "      <td>0.593076</td>\n",
              "      <td>283.549400</td>\n",
              "      <td>287.063660</td>\n",
              "      <td>0.000000e+00</td>\n",
              "      <td>2.125525</td>\n",
              "      <td>2004.000000</td>\n",
              "      <td>3.000000</td>\n",
              "    </tr>\n",
              "    <tr>\n",
              "      <th>50%</th>\n",
              "      <td>0.000000e+00</td>\n",
              "      <td>0.619659</td>\n",
              "      <td>287.057938</td>\n",
              "      <td>291.222031</td>\n",
              "      <td>8.237752e-07</td>\n",
              "      <td>2.891564</td>\n",
              "      <td>2007.000000</td>\n",
              "      <td>6.000000</td>\n",
              "    </tr>\n",
              "    <tr>\n",
              "      <th>75%</th>\n",
              "      <td>0.000000e+00</td>\n",
              "      <td>0.647683</td>\n",
              "      <td>291.347519</td>\n",
              "      <td>296.355911</td>\n",
              "      <td>5.169595e-05</td>\n",
              "      <td>3.996434</td>\n",
              "      <td>2011.000000</td>\n",
              "      <td>9.000000</td>\n",
              "    </tr>\n",
              "    <tr>\n",
              "      <th>max</th>\n",
              "      <td>3.500581e+07</td>\n",
              "      <td>0.688896</td>\n",
              "      <td>301.290588</td>\n",
              "      <td>310.879608</td>\n",
              "      <td>1.005264e-03</td>\n",
              "      <td>9.724447</td>\n",
              "      <td>2014.000000</td>\n",
              "      <td>12.000000</td>\n",
              "    </tr>\n",
              "  </tbody>\n",
              "</table>\n",
              "</div>\n",
              "      <button class=\"colab-df-convert\" onclick=\"convertToInteractive('df-1c35f5e8-1e81-4faa-aed5-ce4b6b69b3c3')\"\n",
              "              title=\"Convert this dataframe to an interactive table.\"\n",
              "              style=\"display:none;\">\n",
              "        \n",
              "  <svg xmlns=\"http://www.w3.org/2000/svg\" height=\"24px\"viewBox=\"0 0 24 24\"\n",
              "       width=\"24px\">\n",
              "    <path d=\"M0 0h24v24H0V0z\" fill=\"none\"/>\n",
              "    <path d=\"M18.56 5.44l.94 2.06.94-2.06 2.06-.94-2.06-.94-.94-2.06-.94 2.06-2.06.94zm-11 1L8.5 8.5l.94-2.06 2.06-.94-2.06-.94L8.5 2.5l-.94 2.06-2.06.94zm10 10l.94 2.06.94-2.06 2.06-.94-2.06-.94-.94-2.06-.94 2.06-2.06.94z\"/><path d=\"M17.41 7.96l-1.37-1.37c-.4-.4-.92-.59-1.43-.59-.52 0-1.04.2-1.43.59L10.3 9.45l-7.72 7.72c-.78.78-.78 2.05 0 2.83L4 21.41c.39.39.9.59 1.41.59.51 0 1.02-.2 1.41-.59l7.78-7.78 2.81-2.81c.8-.78.8-2.07 0-2.86zM5.41 20L4 18.59l7.72-7.72 1.47 1.35L5.41 20z\"/>\n",
              "  </svg>\n",
              "      </button>\n",
              "      \n",
              "  <style>\n",
              "    .colab-df-container {\n",
              "      display:flex;\n",
              "      flex-wrap:wrap;\n",
              "      gap: 12px;\n",
              "    }\n",
              "\n",
              "    .colab-df-convert {\n",
              "      background-color: #E8F0FE;\n",
              "      border: none;\n",
              "      border-radius: 50%;\n",
              "      cursor: pointer;\n",
              "      display: none;\n",
              "      fill: #1967D2;\n",
              "      height: 32px;\n",
              "      padding: 0 0 0 0;\n",
              "      width: 32px;\n",
              "    }\n",
              "\n",
              "    .colab-df-convert:hover {\n",
              "      background-color: #E2EBFA;\n",
              "      box-shadow: 0px 1px 2px rgba(60, 64, 67, 0.3), 0px 1px 3px 1px rgba(60, 64, 67, 0.15);\n",
              "      fill: #174EA6;\n",
              "    }\n",
              "\n",
              "    [theme=dark] .colab-df-convert {\n",
              "      background-color: #3B4455;\n",
              "      fill: #D2E3FC;\n",
              "    }\n",
              "\n",
              "    [theme=dark] .colab-df-convert:hover {\n",
              "      background-color: #434B5C;\n",
              "      box-shadow: 0px 1px 3px 1px rgba(0, 0, 0, 0.15);\n",
              "      filter: drop-shadow(0px 1px 2px rgba(0, 0, 0, 0.3));\n",
              "      fill: #FFFFFF;\n",
              "    }\n",
              "  </style>\n",
              "\n",
              "      <script>\n",
              "        const buttonEl =\n",
              "          document.querySelector('#df-1c35f5e8-1e81-4faa-aed5-ce4b6b69b3c3 button.colab-df-convert');\n",
              "        buttonEl.style.display =\n",
              "          google.colab.kernel.accessAllowed ? 'block' : 'none';\n",
              "\n",
              "        async function convertToInteractive(key) {\n",
              "          const element = document.querySelector('#df-1c35f5e8-1e81-4faa-aed5-ce4b6b69b3c3');\n",
              "          const dataTable =\n",
              "            await google.colab.kernel.invokeFunction('convertToInteractive',\n",
              "                                                     [key], {});\n",
              "          if (!dataTable) return;\n",
              "\n",
              "          const docLinkHtml = 'Like what you see? Visit the ' +\n",
              "            '<a target=\"_blank\" href=https://colab.research.google.com/notebooks/data_table.ipynb>data table notebook</a>'\n",
              "            + ' to learn more about interactive tables.';\n",
              "          element.innerHTML = '';\n",
              "          dataTable['output_type'] = 'display_data';\n",
              "          await google.colab.output.renderOutput(dataTable, element);\n",
              "          const docLink = document.createElement('div');\n",
              "          docLink.innerHTML = docLinkHtml;\n",
              "          element.appendChild(docLink);\n",
              "        }\n",
              "      </script>\n",
              "    </div>\n",
              "  </div>\n",
              "  "
            ]
          },
          "metadata": {},
          "execution_count": 6
        }
      ],
      "source": [
        "df.describe()"
      ]
    },
    {
      "cell_type": "code",
      "execution_count": null,
      "metadata": {
        "colab": {
          "base_uri": "https://localhost:8080/"
        },
        "id": "2FaUZOn3MgwD",
        "outputId": "0731f6f8-1b65-410c-f39c-3d0451198fdd"
      },
      "outputs": [
        {
          "output_type": "execute_result",
          "data": {
            "text/plain": [
              "0.000000         3855\n",
              "241491.000000       3\n",
              "7790.032227         3\n",
              "23370.097656        3\n",
              "38950.160156        3\n",
              "                 ... \n",
              "96595.750000        1\n",
              "67974.585938        1\n",
              "52825.500000        1\n",
              "51148.500000        1\n",
              "48298.199219        1\n",
              "Name: fire, Length: 941, dtype: int64"
            ]
          },
          "metadata": {},
          "execution_count": 7
        }
      ],
      "source": [
        "df['fire'].value_counts()"
      ]
    },
    {
      "cell_type": "code",
      "execution_count": null,
      "metadata": {
        "colab": {
          "base_uri": "https://localhost:8080/",
          "height": 312
        },
        "id": "fNeY8DtsMgwD",
        "outputId": "470639b4-222d-438c-9a73-7d2eea541e7e"
      },
      "outputs": [
        {
          "output_type": "execute_result",
          "data": {
            "text/plain": [
              "Text(0.5, 1.0, 'A plot of Fire against Years from 2001 to 2014')"
            ]
          },
          "metadata": {},
          "execution_count": 8
        },
        {
          "output_type": "display_data",
          "data": {
            "text/plain": [
              "<Figure size 432x288 with 1 Axes>"
            ],
            "image/png": "[encoded data removed]"
          },
          "metadata": {
            "needs_background": "light"
          }
        }
      ],
      "source": [
        "import matplotlib.pyplot as plt\n",
        "x = df['year']\n",
        "y = df['fire']\n",
        "plt.plot(x,y)\n",
        "plt.xlabel('Years')\n",
        "plt.ylabel('Fire')\n",
        "plt.title('A plot of Fire against Years from 2001 to 2014')"
      ]
    },
    {
      "cell_type": "code",
      "execution_count": null,
      "metadata": {
        "colab": {
          "base_uri": "https://localhost:8080/"
        },
        "id": "fglC663yMgwE",
        "outputId": "ad1e01fe-f385-4222-83f8-5a3958fcf5c5"
      },
      "outputs": [
        {
          "output_type": "stream",
          "name": "stdout",
          "text": [
            "<class 'pandas.core.frame.DataFrame'>\n",
            "RangeIndex: 4932 entries, 0 to 4931\n",
            "Data columns (total 8 columns):\n",
            " #   Column  Non-Null Count  Dtype  \n",
            "---  ------  --------------  -----  \n",
            " 0   fire    4932 non-null   float32\n",
            " 1   veg     4932 non-null   float32\n",
            " 2   tair    4932 non-null   float32\n",
            " 3   tmax    4932 non-null   float32\n",
            " 4   prec    4932 non-null   float32\n",
            " 5   wind    4932 non-null   float32\n",
            " 6   year    4932 non-null   int64  \n",
            " 7   month   4932 non-null   int64  \n",
            "dtypes: float32(6), int64(2)\n",
            "memory usage: 192.8 KB\n"
          ]
        }
      ],
      "source": [
        "df.info()"
      ]
    },
    {
      "cell_type": "markdown",
      "metadata": {
        "id": "W3vxosCPMgwE"
      },
      "source": [
        "- No missing values nor dummy variables, we can therefore go ahead and use the dataset"
      ]
    },
    {
      "cell_type": "code",
      "execution_count": null,
      "metadata": {
        "id": "iIrxq5HvMgwF"
      },
      "outputs": [],
      "source": [
        ""
      ]
    },
    {
      "cell_type": "markdown",
      "metadata": {
        "id": "4iddpJtlMgwF"
      },
      "source": [
        "## Month when fire was maximum in all the years"
      ]
    },
    {
      "cell_type": "code",
      "execution_count": null,
      "metadata": {
        "colab": {
          "base_uri": "https://localhost:8080/"
        },
        "id": "__vi50DAMgwG",
        "outputId": "a03662bc-2470-4e1c-9406-f148610e1c2e"
      },
      "outputs": [
        {
          "output_type": "execute_result",
          "data": {
            "text/plain": [
              "fire     3.500581e+07\n",
              "veg      6.467643e-01\n",
              "tair     2.908929e+02\n",
              "tmax     2.958454e+02\n",
              "prec     0.000000e+00\n",
              "wind     3.282810e+00\n",
              "year     2.005000e+03\n",
              "month    7.000000e+00\n",
              "Name: 1659, dtype: float64"
            ]
          },
          "metadata": {},
          "execution_count": 10
        }
      ],
      "source": [
        "# Worst month in all the years\n",
        "fire_df = df['fire']\n",
        "max_index = fire_df.idxmax() # to get index of maximum value\n",
        "df.loc[max_index]"
      ]
    },
    {
      "cell_type": "code",
      "execution_count": null,
      "metadata": {
        "colab": {
          "base_uri": "https://localhost:8080/"
        },
        "id": "4g2-IZ5tMgwG",
        "outputId": "bf374c3b-c0e5-4f6a-c3d1-f98f09bb0393"
      },
      "outputs": [
        {
          "output_type": "stream",
          "name": "stdout",
          "text": [
            "Month 7 of the year 2005 is when the maximum value of fire was recorded throughout the years\n"
          ]
        }
      ],
      "source": [
        "print('Month {} of the year {} is when the maximum value of fire was recorded throughout the years'.format(int(df.loc[max_index].month), \n",
        "                                                                                          int(df.loc[max_index].year)))"
      ]
    },
    {
      "cell_type": "code",
      "execution_count": null,
      "metadata": {
        "colab": {
          "base_uri": "https://localhost:8080/"
        },
        "id": "W8zvZpp1MgwH",
        "outputId": "608d9fd8-3738-4bac-e390-7fe02bb56fdd"
      },
      "outputs": [
        {
          "output_type": "stream",
          "name": "stdout",
          "text": [
            "The month 8 of the year 2001 is when the maximum value of fire was recorded. The value was 2639955.0\n",
            "The month 7 of the year 2002 is when the maximum value of fire was recorded. The value was 746977.1875\n",
            "The month 7 of the year 2003 is when the maximum value of fire was recorded. The value was 475191.96875\n",
            "The month 6 of the year 2004 is when the maximum value of fire was recorded. The value was 2663325.25\n",
            "The month 7 of the year 2005 is when the maximum value of fire was recorded. The value was 35005812.0\n",
            "The month 7 of the year 2006 is when the maximum value of fire was recorded. The value was 4540723.0\n",
            "The month 1 of the year 2007 is when the maximum value of fire was recorded. The value was 0.0\n",
            "The month 1 of the year 2008 is when the maximum value of fire was recorded. The value was 0.0\n",
            "The month 8 of the year 2009 is when the maximum value of fire was recorded. The value was 2865866.25\n",
            "The month 7 of the year 2010 is when the maximum value of fire was recorded. The value was 8826106.0\n",
            "The month 6 of the year 2011 is when the maximum value of fire was recorded. The value was 5335306.0\n",
            "The month 1 of the year 2012 is when the maximum value of fire was recorded. The value was 0.0\n",
            "The month 8 of the year 2013 is when the maximum value of fire was recorded. The value was 2871059.75\n",
            "The month 1 of the year 2014 is when the maximum value of fire was recorded. The value was 0.0\n"
          ]
        }
      ],
      "source": [
        "# Worst month in every year\n",
        "years = range(2001, 2015)\n",
        "for i in years:\n",
        "    df_new = df[df['year'].isin([i])].copy() # We work with a copy to avoid tempering with the original df\n",
        "    fire_df = df_new['fire']\n",
        "    max_index = fire_df.idxmax() # to get index of maximum value\n",
        "    print('The month {} of the year {} is when the maximum value of fire was recorded. The value was {}'.format(\n",
        "        int(df_new.loc[max_index].month),\n",
        "        int(df_new.loc[max_index].year),\n",
        "        df_new.loc[max_index].fire))"
      ]
    },
    {
      "cell_type": "code",
      "execution_count": null,
      "metadata": {
        "id": "eErY1vkkMgwH"
      },
      "outputs": [],
      "source": [
        ""
      ]
    },
    {
      "cell_type": "markdown",
      "metadata": {
        "id": "THjv-V5SMgwH"
      },
      "source": [
        "### Corresponding Features"
      ]
    },
    {
      "cell_type": "code",
      "execution_count": null,
      "metadata": {
        "id": "7Il22BEvMgwI"
      },
      "outputs": [],
      "source": [
        "# Worst month in every year\n",
        "max_fire_features = []\n",
        "years = range(2001, 2015)\n",
        "for i in years:\n",
        "    df_new = df[df['year'].isin([i])].copy() # We work with a copy to avoid tempering with the original df\n",
        "    fire_df = df_new['fire']\n",
        "    max_index = fire_df.idxmax() # to get index of maximum value\n",
        "    features = df_new.loc[max_index]\n",
        "    max_fire_features.append(features)"
      ]
    },
    {
      "cell_type": "code",
      "execution_count": null,
      "metadata": {
        "colab": {
          "base_uri": "https://localhost:8080/",
          "height": 552
        },
        "id": "2wEZJ9UrMgwI",
        "outputId": "7a675f1d-b7d7-4791-8c19-dc767989a85d"
      },
      "outputs": [
        {
          "output_type": "execute_result",
          "data": {
            "text/plain": [
              "              fire       veg        tair        tmax      prec      wind  \\\n",
              "229   2.639955e+06  0.645835  293.060852  297.353485  0.000000  2.638513   \n",
              "564   7.469772e+05  0.661517  290.333038  295.824219  0.000000  5.610419   \n",
              "928   4.751920e+05  0.658878  297.614136  305.025024  0.000000  3.495153   \n",
              "1264  2.663325e+06  0.652399  293.548615  299.065948  0.000000  3.970703   \n",
              "1659  3.500581e+07  0.646764  290.892914  295.845398  0.000000  3.282810   \n",
              "2024  4.540723e+06  0.626935  294.144836  298.045319  0.000056  2.076092   \n",
              "2179  0.000000e+00  0.587520  285.592468  287.404449  0.000189  3.142594   \n",
              "2544  0.000000e+00  0.498767  280.897888  283.869812  0.000095  4.922199   \n",
              "3151  2.865866e+06  0.660475  297.685028  305.441315  0.000000  2.071964   \n",
              "3485  8.826106e+06  0.663072  296.892090  303.947662  0.000000  3.178471   \n",
              "3820  5.335306e+06  0.597221  294.248291  302.581665  0.000000  3.546634   \n",
              "4005  0.000000e+00  0.590309  284.717010  285.462585  0.000329  4.667645   \n",
              "4612  2.871060e+06  0.655444  294.110748  300.852783  0.000000  2.765255   \n",
              "4736  0.000000e+00  0.500568  284.963287  287.124329  0.000269  7.254364   \n",
              "\n",
              "        year  month  \n",
              "229   2001.0    8.0  \n",
              "564   2002.0    7.0  \n",
              "928   2003.0    7.0  \n",
              "1264  2004.0    6.0  \n",
              "1659  2005.0    7.0  \n",
              "2024  2006.0    7.0  \n",
              "2179  2007.0    1.0  \n",
              "2544  2008.0    1.0  \n",
              "3151  2009.0    8.0  \n",
              "3485  2010.0    7.0  \n",
              "3820  2011.0    6.0  \n",
              "4005  2012.0    1.0  \n",
              "4612  2013.0    8.0  \n",
              "4736  2014.0    1.0  "
            ],
            "text/html": [
              "\n",
              "  <div id=\"df-4ec9b958-ad5d-428d-91f9-8f6cd0f57c32\">\n",
              "    <div class=\"colab-df-container\">\n",
              "      <div>\n",
              "<style scoped>\n",
              "    .dataframe tbody tr th:only-of-type {\n",
              "        vertical-align: middle;\n",
              "    }\n",
              "\n",
              "    .dataframe tbody tr th {\n",
              "        vertical-align: top;\n",
              "    }\n",
              "\n",
              "    .dataframe thead th {\n",
              "        text-align: right;\n",
              "    }\n",
              "</style>\n",
              "<table border=\"1\" class=\"dataframe\">\n",
              "  <thead>\n",
              "    <tr style=\"text-align: right;\">\n",
              "      <th></th>\n",
              "      <th>fire</th>\n",
              "      <th>veg</th>\n",
              "      <th>tair</th>\n",
              "      <th>tmax</th>\n",
              "      <th>prec</th>\n",
              "      <th>wind</th>\n",
              "      <th>year</th>\n",
              "      <th>month</th>\n",
              "    </tr>\n",
              "  </thead>\n",
              "  <tbody>\n",
              "    <tr>\n",
              "      <th>229</th>\n",
              "      <td>2.639955e+06</td>\n",
              "      <td>0.645835</td>\n",
              "      <td>293.060852</td>\n",
              "      <td>297.353485</td>\n",
              "      <td>0.000000</td>\n",
              "      <td>2.638513</td>\n",
              "      <td>2001.0</td>\n",
              "      <td>8.0</td>\n",
              "    </tr>\n",
              "    <tr>\n",
              "      <th>564</th>\n",
              "      <td>7.469772e+05</td>\n",
              "      <td>0.661517</td>\n",
              "      <td>290.333038</td>\n",
              "      <td>295.824219</td>\n",
              "      <td>0.000000</td>\n",
              "      <td>5.610419</td>\n",
              "      <td>2002.0</td>\n",
              "      <td>7.0</td>\n",
              "    </tr>\n",
              "    <tr>\n",
              "      <th>928</th>\n",
              "      <td>4.751920e+05</td>\n",
              "      <td>0.658878</td>\n",
              "      <td>297.614136</td>\n",
              "      <td>305.025024</td>\n",
              "      <td>0.000000</td>\n",
              "      <td>3.495153</td>\n",
              "      <td>2003.0</td>\n",
              "      <td>7.0</td>\n",
              "    </tr>\n",
              "    <tr>\n",
              "      <th>1264</th>\n",
              "      <td>2.663325e+06</td>\n",
              "      <td>0.652399</td>\n",
              "      <td>293.548615</td>\n",
              "      <td>299.065948</td>\n",
              "      <td>0.000000</td>\n",
              "      <td>3.970703</td>\n",
              "      <td>2004.0</td>\n",
              "      <td>6.0</td>\n",
              "    </tr>\n",
              "    <tr>\n",
              "      <th>1659</th>\n",
              "      <td>3.500581e+07</td>\n",
              "      <td>0.646764</td>\n",
              "      <td>290.892914</td>\n",
              "      <td>295.845398</td>\n",
              "      <td>0.000000</td>\n",
              "      <td>3.282810</td>\n",
              "      <td>2005.0</td>\n",
              "      <td>7.0</td>\n",
              "    </tr>\n",
              "    <tr>\n",
              "      <th>2024</th>\n",
              "      <td>4.540723e+06</td>\n",
              "      <td>0.626935</td>\n",
              "      <td>294.144836</td>\n",
              "      <td>298.045319</td>\n",
              "      <td>0.000056</td>\n",
              "      <td>2.076092</td>\n",
              "      <td>2006.0</td>\n",
              "      <td>7.0</td>\n",
              "    </tr>\n",
              "    <tr>\n",
              "      <th>2179</th>\n",
              "      <td>0.000000e+00</td>\n",
              "      <td>0.587520</td>\n",
              "      <td>285.592468</td>\n",
              "      <td>287.404449</td>\n",
              "      <td>0.000189</td>\n",
              "      <td>3.142594</td>\n",
              "      <td>2007.0</td>\n",
              "      <td>1.0</td>\n",
              "    </tr>\n",
              "    <tr>\n",
              "      <th>2544</th>\n",
              "      <td>0.000000e+00</td>\n",
              "      <td>0.498767</td>\n",
              "      <td>280.897888</td>\n",
              "      <td>283.869812</td>\n",
              "      <td>0.000095</td>\n",
              "      <td>4.922199</td>\n",
              "      <td>2008.0</td>\n",
              "      <td>1.0</td>\n",
              "    </tr>\n",
              "    <tr>\n",
              "      <th>3151</th>\n",
              "      <td>2.865866e+06</td>\n",
              "      <td>0.660475</td>\n",
              "      <td>297.685028</td>\n",
              "      <td>305.441315</td>\n",
              "      <td>0.000000</td>\n",
              "      <td>2.071964</td>\n",
              "      <td>2009.0</td>\n",
              "      <td>8.0</td>\n",
              "    </tr>\n",
              "    <tr>\n",
              "      <th>3485</th>\n",
              "      <td>8.826106e+06</td>\n",
              "      <td>0.663072</td>\n",
              "      <td>296.892090</td>\n",
              "      <td>303.947662</td>\n",
              "      <td>0.000000</td>\n",
              "      <td>3.178471</td>\n",
              "      <td>2010.0</td>\n",
              "      <td>7.0</td>\n",
              "    </tr>\n",
              "    <tr>\n",
              "      <th>3820</th>\n",
              "      <td>5.335306e+06</td>\n",
              "      <td>0.597221</td>\n",
              "      <td>294.248291</td>\n",
              "      <td>302.581665</td>\n",
              "      <td>0.000000</td>\n",
              "      <td>3.546634</td>\n",
              "      <td>2011.0</td>\n",
              "      <td>6.0</td>\n",
              "    </tr>\n",
              "    <tr>\n",
              "      <th>4005</th>\n",
              "      <td>0.000000e+00</td>\n",
              "      <td>0.590309</td>\n",
              "      <td>284.717010</td>\n",
              "      <td>285.462585</td>\n",
              "      <td>0.000329</td>\n",
              "      <td>4.667645</td>\n",
              "      <td>2012.0</td>\n",
              "      <td>1.0</td>\n",
              "    </tr>\n",
              "    <tr>\n",
              "      <th>4612</th>\n",
              "      <td>2.871060e+06</td>\n",
              "      <td>0.655444</td>\n",
              "      <td>294.110748</td>\n",
              "      <td>300.852783</td>\n",
              "      <td>0.000000</td>\n",
              "      <td>2.765255</td>\n",
              "      <td>2013.0</td>\n",
              "      <td>8.0</td>\n",
              "    </tr>\n",
              "    <tr>\n",
              "      <th>4736</th>\n",
              "      <td>0.000000e+00</td>\n",
              "      <td>0.500568</td>\n",
              "      <td>284.963287</td>\n",
              "      <td>287.124329</td>\n",
              "      <td>0.000269</td>\n",
              "      <td>7.254364</td>\n",
              "      <td>2014.0</td>\n",
              "      <td>1.0</td>\n",
              "    </tr>\n",
              "  </tbody>\n",
              "</table>\n",
              "</div>\n",
              "      <button class=\"colab-df-convert\" onclick=\"convertToInteractive('df-4ec9b958-ad5d-428d-91f9-8f6cd0f57c32')\"\n",
              "              title=\"Convert this dataframe to an interactive table.\"\n",
              "              style=\"display:none;\">\n",
              "        \n",
              "  <svg xmlns=\"http://www.w3.org/2000/svg\" height=\"24px\"viewBox=\"0 0 24 24\"\n",
              "       width=\"24px\">\n",
              "    <path d=\"M0 0h24v24H0V0z\" fill=\"none\"/>\n",
              "    <path d=\"M18.56 5.44l.94 2.06.94-2.06 2.06-.94-2.06-.94-.94-2.06-.94 2.06-2.06.94zm-11 1L8.5 8.5l.94-2.06 2.06-.94-2.06-.94L8.5 2.5l-.94 2.06-2.06.94zm10 10l.94 2.06.94-2.06 2.06-.94-2.06-.94-.94-2.06-.94 2.06-2.06.94z\"/><path d=\"M17.41 7.96l-1.37-1.37c-.4-.4-.92-.59-1.43-.59-.52 0-1.04.2-1.43.59L10.3 9.45l-7.72 7.72c-.78.78-.78 2.05 0 2.83L4 21.41c.39.39.9.59 1.41.59.51 0 1.02-.2 1.41-.59l7.78-7.78 2.81-2.81c.8-.78.8-2.07 0-2.86zM5.41 20L4 18.59l7.72-7.72 1.47 1.35L5.41 20z\"/>\n",
              "  </svg>\n",
              "      </button>\n",
              "      \n",
              "  <style>\n",
              "    .colab-df-container {\n",
              "      display:flex;\n",
              "      flex-wrap:wrap;\n",
              "      gap: 12px;\n",
              "    }\n",
              "\n",
              "    .colab-df-convert {\n",
              "      background-color: #E8F0FE;\n",
              "      border: none;\n",
              "      border-radius: 50%;\n",
              "      cursor: pointer;\n",
              "      display: none;\n",
              "      fill: #1967D2;\n",
              "      height: 32px;\n",
              "      padding: 0 0 0 0;\n",
              "      width: 32px;\n",
              "    }\n",
              "\n",
              "    .colab-df-convert:hover {\n",
              "      background-color: #E2EBFA;\n",
              "      box-shadow: 0px 1px 2px rgba(60, 64, 67, 0.3), 0px 1px 3px 1px rgba(60, 64, 67, 0.15);\n",
              "      fill: #174EA6;\n",
              "    }\n",
              "\n",
              "    [theme=dark] .colab-df-convert {\n",
              "      background-color: #3B4455;\n",
              "      fill: #D2E3FC;\n",
              "    }\n",
              "\n",
              "    [theme=dark] .colab-df-convert:hover {\n",
              "      background-color: #434B5C;\n",
              "      box-shadow: 0px 1px 3px 1px rgba(0, 0, 0, 0.15);\n",
              "      filter: drop-shadow(0px 1px 2px rgba(0, 0, 0, 0.3));\n",
              "      fill: #FFFFFF;\n",
              "    }\n",
              "  </style>\n",
              "\n",
              "      <script>\n",
              "        const buttonEl =\n",
              "          document.querySelector('#df-4ec9b958-ad5d-428d-91f9-8f6cd0f57c32 button.colab-df-convert');\n",
              "        buttonEl.style.display =\n",
              "          google.colab.kernel.accessAllowed ? 'block' : 'none';\n",
              "\n",
              "        async function convertToInteractive(key) {\n",
              "          const element = document.querySelector('#df-4ec9b958-ad5d-428d-91f9-8f6cd0f57c32');\n",
              "          const dataTable =\n",
              "            await google.colab.kernel.invokeFunction('convertToInteractive',\n",
              "                                                     [key], {});\n",
              "          if (!dataTable) return;\n",
              "\n",
              "          const docLinkHtml = 'Like what you see? Visit the ' +\n",
              "            '<a target=\"_blank\" href=https://colab.research.google.com/notebooks/data_table.ipynb>data table notebook</a>'\n",
              "            + ' to learn more about interactive tables.';\n",
              "          element.innerHTML = '';\n",
              "          dataTable['output_type'] = 'display_data';\n",
              "          await google.colab.output.renderOutput(dataTable, element);\n",
              "          const docLink = document.createElement('div');\n",
              "          docLink.innerHTML = docLinkHtml;\n",
              "          element.appendChild(docLink);\n",
              "        }\n",
              "      </script>\n",
              "    </div>\n",
              "  </div>\n",
              "  "
            ]
          },
          "metadata": {},
          "execution_count": 14
        }
      ],
      "source": [
        "max_fire_features_df = pd.DataFrame(max_fire_features)\n",
        "max_fire_features_df"
      ]
    },
    {
      "cell_type": "code",
      "execution_count": null,
      "metadata": {
        "id": "8aCH4JgeMgwI"
      },
      "outputs": [],
      "source": [
        ""
      ]
    },
    {
      "cell_type": "markdown",
      "metadata": {
        "id": "XwEhYFpoMgwJ"
      },
      "source": [
        "### Fire Threshold Values"
      ]
    },
    {
      "cell_type": "code",
      "execution_count": null,
      "metadata": {
        "id": "i4_joziAMgwJ"
      },
      "outputs": [],
      "source": [
        "veg_mean = max_fire_features_df['veg'].mean()\n",
        "tair_mean = max_fire_features_df['tair'].mean()\n",
        "tmax_mean = max_fire_features_df['tmax'].mean()\n",
        "prec_mean = max_fire_features_df['prec'].mean()\n",
        "wind_mean = max_fire_features_df['wind'].mean()"
      ]
    },
    {
      "cell_type": "code",
      "execution_count": null,
      "metadata": {
        "colab": {
          "base_uri": "https://localhost:8080/"
        },
        "id": "vEGYt5oWMgwJ",
        "outputId": "040a5d70-55af-4241-941f-09fabf390362"
      },
      "outputs": [
        {
          "output_type": "stream",
          "name": "stdout",
          "text": [
            "The threshold features that lead to fire are:\n",
            " veg: 0.6175503347601209\n",
            " tair: 291.33580017089844\n",
            " tmax: 296.27457101004467\n",
            " prec: 6.69785282038252e-05\n",
            " wind: 3.758772645677839\n"
          ]
        }
      ],
      "source": [
        "print('The threshold features that lead to fire are:\\n veg: {}\\n tair: {}\\n tmax: {}\\n prec: {}\\n wind: {}'.format(\n",
        "    veg_mean, tair_mean, tmax_mean,prec_mean,wind_mean))"
      ]
    },
    {
      "cell_type": "code",
      "execution_count": null,
      "metadata": {
        "id": "29OQqmsGMgwJ"
      },
      "outputs": [],
      "source": [
        ""
      ]
    },
    {
      "cell_type": "markdown",
      "metadata": {
        "id": "FZclIge-MgwK"
      },
      "source": [
        "## Year with worst fire from year 2001 -2014"
      ]
    },
    {
      "cell_type": "code",
      "execution_count": null,
      "metadata": {
        "id": "ZryZBNHyMgwK"
      },
      "outputs": [],
      "source": [
        "fires_dictionary = {}\n",
        "for i in years:\n",
        "    df_new = df[df['year'].isin([i])].copy() # We work with a copy to avoid tempering with the original df\n",
        "    fire_df = df_new['fire']\n",
        "    fire_sum = fire_df.sum() # to get value of total fires\n",
        "    case = {i: fire_sum}\n",
        "    fires_dictionary.update(case)"
      ]
    },
    {
      "cell_type": "code",
      "execution_count": null,
      "metadata": {
        "colab": {
          "base_uri": "https://localhost:8080/"
        },
        "id": "eIOEy9Z9MgwK",
        "outputId": "4c6b3c4d-5600-4439-acba-53b9e0381de2"
      },
      "outputs": [
        {
          "output_type": "execute_result",
          "data": {
            "text/plain": [
              "{2001: 124394670.0,\n",
              " 2002: 38021410.0,\n",
              " 2003: 14972442.0,\n",
              " 2004: 156244640.0,\n",
              " 2005: 1102970000.0,\n",
              " 2006: 143069980.0,\n",
              " 2007: 0.0,\n",
              " 2008: 0.0,\n",
              " 2009: 128312190.0,\n",
              " 2010: 294189660.0,\n",
              " 2011: 191931650.0,\n",
              " 2012: 0.0,\n",
              " 2013: 198666600.0,\n",
              " 2014: 0.0}"
            ]
          },
          "metadata": {},
          "execution_count": 18
        }
      ],
      "source": [
        "fires_dictionary"
      ]
    },
    {
      "cell_type": "code",
      "execution_count": null,
      "metadata": {
        "colab": {
          "base_uri": "https://localhost:8080/"
        },
        "id": "S46mAJ9wMgwL",
        "outputId": "fd0699b2-a21b-42ce-fde2-ab65d4ca09e7"
      },
      "outputs": [
        {
          "output_type": "stream",
          "name": "stdout",
          "text": [
            "The year when maximum fire was experienced is 2005\n"
          ]
        }
      ],
      "source": [
        "max_year = max(fires_dictionary, key = fires_dictionary.get)\n",
        "print('The year when maximum fire was experienced is {}'.format(max_year))"
      ]
    },
    {
      "cell_type": "code",
      "execution_count": null,
      "metadata": {
        "id": "qyE0gx-xMgwL"
      },
      "outputs": [],
      "source": [
        ""
      ]
    },
    {
      "cell_type": "markdown",
      "metadata": {
        "id": "yWvYoXTGMgwL"
      },
      "source": [
        "# Modeling"
      ]
    },
    {
      "cell_type": "markdown",
      "metadata": {
        "id": "pZjs4JEyMgwL"
      },
      "source": [
        "### X-Y Split"
      ]
    },
    {
      "cell_type": "code",
      "execution_count": null,
      "metadata": {
        "colab": {
          "base_uri": "https://localhost:8080/"
        },
        "id": "nQKyPRFaMgwL",
        "outputId": "3e8d7b6a-9977-4e43-b651-a06641965e36"
      },
      "outputs": [
        {
          "output_type": "execute_result",
          "data": {
            "text/plain": [
              "pandas.core.frame.DataFrame"
            ]
          },
          "metadata": {},
          "execution_count": 20
        }
      ],
      "source": [
        "x = df.loc[:, df.columns != 'fire']\n",
        "type(x)"
      ]
    },
    {
      "cell_type": "code",
      "execution_count": null,
      "metadata": {
        "colab": {
          "base_uri": "https://localhost:8080/",
          "height": 224
        },
        "id": "wJQj3QlzMgwM",
        "outputId": "4bca5af9-350d-441d-84f5-e6601210fe06"
      },
      "outputs": [
        {
          "output_type": "stream",
          "name": "stdout",
          "text": [
            "Shape:  (4932, 7)\n"
          ]
        },
        {
          "output_type": "execute_result",
          "data": {
            "text/plain": [
              "        veg        tair        tmax          prec      wind  year  month\n",
              "0  0.519537  281.850800  287.042877  0.000000e+00  2.924010  2001      1\n",
              "1  0.522642  282.009521  286.676941  1.428358e-07  2.436872  2001      1\n",
              "2  0.525748  280.715393  283.814606  1.779684e-05  1.660926  2001      1\n",
              "3  0.528854  281.651886  283.489288  9.013197e-05  2.029600  2001      1\n",
              "4  0.531959  280.482574  283.335846  1.318250e-04  3.849517  2001      1"
            ],
            "text/html": [
              "\n",
              "  <div id=\"df-c5556ebf-ce73-4197-b926-1d3d1488fb9d\">\n",
              "    <div class=\"colab-df-container\">\n",
              "      <div>\n",
              "<style scoped>\n",
              "    .dataframe tbody tr th:only-of-type {\n",
              "        vertical-align: middle;\n",
              "    }\n",
              "\n",
              "    .dataframe tbody tr th {\n",
              "        vertical-align: top;\n",
              "    }\n",
              "\n",
              "    .dataframe thead th {\n",
              "        text-align: right;\n",
              "    }\n",
              "</style>\n",
              "<table border=\"1\" class=\"dataframe\">\n",
              "  <thead>\n",
              "    <tr style=\"text-align: right;\">\n",
              "      <th></th>\n",
              "      <th>veg</th>\n",
              "      <th>tair</th>\n",
              "      <th>tmax</th>\n",
              "      <th>prec</th>\n",
              "      <th>wind</th>\n",
              "      <th>year</th>\n",
              "      <th>month</th>\n",
              "    </tr>\n",
              "  </thead>\n",
              "  <tbody>\n",
              "    <tr>\n",
              "      <th>0</th>\n",
              "      <td>0.519537</td>\n",
              "      <td>281.850800</td>\n",
              "      <td>287.042877</td>\n",
              "      <td>0.000000e+00</td>\n",
              "      <td>2.924010</td>\n",
              "      <td>2001</td>\n",
              "      <td>1</td>\n",
              "    </tr>\n",
              "    <tr>\n",
              "      <th>1</th>\n",
              "      <td>0.522642</td>\n",
              "      <td>282.009521</td>\n",
              "      <td>286.676941</td>\n",
              "      <td>1.428358e-07</td>\n",
              "      <td>2.436872</td>\n",
              "      <td>2001</td>\n",
              "      <td>1</td>\n",
              "    </tr>\n",
              "    <tr>\n",
              "      <th>2</th>\n",
              "      <td>0.525748</td>\n",
              "      <td>280.715393</td>\n",
              "      <td>283.814606</td>\n",
              "      <td>1.779684e-05</td>\n",
              "      <td>1.660926</td>\n",
              "      <td>2001</td>\n",
              "      <td>1</td>\n",
              "    </tr>\n",
              "    <tr>\n",
              "      <th>3</th>\n",
              "      <td>0.528854</td>\n",
              "      <td>281.651886</td>\n",
              "      <td>283.489288</td>\n",
              "      <td>9.013197e-05</td>\n",
              "      <td>2.029600</td>\n",
              "      <td>2001</td>\n",
              "      <td>1</td>\n",
              "    </tr>\n",
              "    <tr>\n",
              "      <th>4</th>\n",
              "      <td>0.531959</td>\n",
              "      <td>280.482574</td>\n",
              "      <td>283.335846</td>\n",
              "      <td>1.318250e-04</td>\n",
              "      <td>3.849517</td>\n",
              "      <td>2001</td>\n",
              "      <td>1</td>\n",
              "    </tr>\n",
              "  </tbody>\n",
              "</table>\n",
              "</div>\n",
              "      <button class=\"colab-df-convert\" onclick=\"convertToInteractive('df-c5556ebf-ce73-4197-b926-1d3d1488fb9d')\"\n",
              "              title=\"Convert this dataframe to an interactive table.\"\n",
              "              style=\"display:none;\">\n",
              "        \n",
              "  <svg xmlns=\"http://www.w3.org/2000/svg\" height=\"24px\"viewBox=\"0 0 24 24\"\n",
              "       width=\"24px\">\n",
              "    <path d=\"M0 0h24v24H0V0z\" fill=\"none\"/>\n",
              "    <path d=\"M18.56 5.44l.94 2.06.94-2.06 2.06-.94-2.06-.94-.94-2.06-.94 2.06-2.06.94zm-11 1L8.5 8.5l.94-2.06 2.06-.94-2.06-.94L8.5 2.5l-.94 2.06-2.06.94zm10 10l.94 2.06.94-2.06 2.06-.94-2.06-.94-.94-2.06-.94 2.06-2.06.94z\"/><path d=\"M17.41 7.96l-1.37-1.37c-.4-.4-.92-.59-1.43-.59-.52 0-1.04.2-1.43.59L10.3 9.45l-7.72 7.72c-.78.78-.78 2.05 0 2.83L4 21.41c.39.39.9.59 1.41.59.51 0 1.02-.2 1.41-.59l7.78-7.78 2.81-2.81c.8-.78.8-2.07 0-2.86zM5.41 20L4 18.59l7.72-7.72 1.47 1.35L5.41 20z\"/>\n",
              "  </svg>\n",
              "      </button>\n",
              "      \n",
              "  <style>\n",
              "    .colab-df-container {\n",
              "      display:flex;\n",
              "      flex-wrap:wrap;\n",
              "      gap: 12px;\n",
              "    }\n",
              "\n",
              "    .colab-df-convert {\n",
              "      background-color: #E8F0FE;\n",
              "      border: none;\n",
              "      border-radius: 50%;\n",
              "      cursor: pointer;\n",
              "      display: none;\n",
              "      fill: #1967D2;\n",
              "      height: 32px;\n",
              "      padding: 0 0 0 0;\n",
              "      width: 32px;\n",
              "    }\n",
              "\n",
              "    .colab-df-convert:hover {\n",
              "      background-color: #E2EBFA;\n",
              "      box-shadow: 0px 1px 2px rgba(60, 64, 67, 0.3), 0px 1px 3px 1px rgba(60, 64, 67, 0.15);\n",
              "      fill: #174EA6;\n",
              "    }\n",
              "\n",
              "    [theme=dark] .colab-df-convert {\n",
              "      background-color: #3B4455;\n",
              "      fill: #D2E3FC;\n",
              "    }\n",
              "\n",
              "    [theme=dark] .colab-df-convert:hover {\n",
              "      background-color: #434B5C;\n",
              "      box-shadow: 0px 1px 3px 1px rgba(0, 0, 0, 0.15);\n",
              "      filter: drop-shadow(0px 1px 2px rgba(0, 0, 0, 0.3));\n",
              "      fill: #FFFFFF;\n",
              "    }\n",
              "  </style>\n",
              "\n",
              "      <script>\n",
              "        const buttonEl =\n",
              "          document.querySelector('#df-c5556ebf-ce73-4197-b926-1d3d1488fb9d button.colab-df-convert');\n",
              "        buttonEl.style.display =\n",
              "          google.colab.kernel.accessAllowed ? 'block' : 'none';\n",
              "\n",
              "        async function convertToInteractive(key) {\n",
              "          const element = document.querySelector('#df-c5556ebf-ce73-4197-b926-1d3d1488fb9d');\n",
              "          const dataTable =\n",
              "            await google.colab.kernel.invokeFunction('convertToInteractive',\n",
              "                                                     [key], {});\n",
              "          if (!dataTable) return;\n",
              "\n",
              "          const docLinkHtml = 'Like what you see? Visit the ' +\n",
              "            '<a target=\"_blank\" href=https://colab.research.google.com/notebooks/data_table.ipynb>data table notebook</a>'\n",
              "            + ' to learn more about interactive tables.';\n",
              "          element.innerHTML = '';\n",
              "          dataTable['output_type'] = 'display_data';\n",
              "          await google.colab.output.renderOutput(dataTable, element);\n",
              "          const docLink = document.createElement('div');\n",
              "          docLink.innerHTML = docLinkHtml;\n",
              "          element.appendChild(docLink);\n",
              "        }\n",
              "      </script>\n",
              "    </div>\n",
              "  </div>\n",
              "  "
            ]
          },
          "metadata": {},
          "execution_count": 21
        }
      ],
      "source": [
        "print('Shape: ', x.shape)\n",
        "x.head()"
      ]
    },
    {
      "cell_type": "code",
      "execution_count": null,
      "metadata": {
        "colab": {
          "base_uri": "https://localhost:8080/"
        },
        "id": "W6ecd1JMMgwM",
        "outputId": "d90c1eb4-8ed0-427d-97cc-8d7d13fdccfd"
      },
      "outputs": [
        {
          "output_type": "execute_result",
          "data": {
            "text/plain": [
              "pandas.core.series.Series"
            ]
          },
          "metadata": {},
          "execution_count": 22
        }
      ],
      "source": [
        "y = df[\"fire\"]\n",
        "type(y)"
      ]
    },
    {
      "cell_type": "code",
      "execution_count": null,
      "metadata": {
        "colab": {
          "base_uri": "https://localhost:8080/"
        },
        "id": "dx5vxdapMgwM",
        "outputId": "abc648e9-cb03-41cc-9969-2bba1d08180c"
      },
      "outputs": [
        {
          "output_type": "stream",
          "name": "stdout",
          "text": [
            "Shape:  (4932,)\n"
          ]
        },
        {
          "output_type": "execute_result",
          "data": {
            "text/plain": [
              "0    0.0\n",
              "1    0.0\n",
              "2    0.0\n",
              "3    0.0\n",
              "4    0.0\n",
              "Name: fire, dtype: float32"
            ]
          },
          "metadata": {},
          "execution_count": 23
        }
      ],
      "source": [
        "print('Shape: ', y.shape)\n",
        "y.head()"
      ]
    },
    {
      "cell_type": "code",
      "execution_count": null,
      "metadata": {
        "id": "wVFDQIi5MgwM"
      },
      "outputs": [],
      "source": [
        ""
      ]
    },
    {
      "cell_type": "markdown",
      "metadata": {
        "id": "COP4rFQ8MgwN"
      },
      "source": [
        "### Train - Test Split"
      ]
    },
    {
      "cell_type": "code",
      "execution_count": null,
      "metadata": {
        "id": "_2rogPu-MgwN"
      },
      "outputs": [],
      "source": [
        "from sklearn.model_selection import train_test_split"
      ]
    },
    {
      "cell_type": "code",
      "execution_count": null,
      "metadata": {
        "id": "4AT7Rjj3MgwN"
      },
      "outputs": [],
      "source": [
        "x_train, x_test, y_train, y_test = train_test_split(x, y, test_size = 0.2)"
      ]
    },
    {
      "cell_type": "code",
      "execution_count": null,
      "metadata": {
        "colab": {
          "base_uri": "https://localhost:8080/",
          "height": 206
        },
        "id": "81f0i65WMgwN",
        "outputId": "365467a3-b6a9-49a7-ac81-5e7a42ecc661"
      },
      "outputs": [
        {
          "output_type": "execute_result",
          "data": {
            "text/plain": [
              "           veg        tair        tmax      prec      wind  year  month\n",
              "1024  0.593894  286.449646  288.544800  0.000024  3.239456  2003     11\n",
              "2572  0.523059  282.031647  288.318542  0.000000  1.282783  2008      1\n",
              "324   0.633246  282.010437  285.350708  0.000000  1.698439  2001     12\n",
              "1495  0.609453  279.666565  285.238007  0.000000  4.675715  2005      2\n",
              "998   0.645931  290.318542  296.683136  0.000000  3.857375  2003     10"
            ],
            "text/html": [
              "\n",
              "  <div id=\"df-3b03f068-11f5-4470-91e1-31618e24d6ec\">\n",
              "    <div class=\"colab-df-container\">\n",
              "      <div>\n",
              "<style scoped>\n",
              "    .dataframe tbody tr th:only-of-type {\n",
              "        vertical-align: middle;\n",
              "    }\n",
              "\n",
              "    .dataframe tbody tr th {\n",
              "        vertical-align: top;\n",
              "    }\n",
              "\n",
              "    .dataframe thead th {\n",
              "        text-align: right;\n",
              "    }\n",
              "</style>\n",
              "<table border=\"1\" class=\"dataframe\">\n",
              "  <thead>\n",
              "    <tr style=\"text-align: right;\">\n",
              "      <th></th>\n",
              "      <th>veg</th>\n",
              "      <th>tair</th>\n",
              "      <th>tmax</th>\n",
              "      <th>prec</th>\n",
              "      <th>wind</th>\n",
              "      <th>year</th>\n",
              "      <th>month</th>\n",
              "    </tr>\n",
              "  </thead>\n",
              "  <tbody>\n",
              "    <tr>\n",
              "      <th>1024</th>\n",
              "      <td>0.593894</td>\n",
              "      <td>286.449646</td>\n",
              "      <td>288.544800</td>\n",
              "      <td>0.000024</td>\n",
              "      <td>3.239456</td>\n",
              "      <td>2003</td>\n",
              "      <td>11</td>\n",
              "    </tr>\n",
              "    <tr>\n",
              "      <th>2572</th>\n",
              "      <td>0.523059</td>\n",
              "      <td>282.031647</td>\n",
              "      <td>288.318542</td>\n",
              "      <td>0.000000</td>\n",
              "      <td>1.282783</td>\n",
              "      <td>2008</td>\n",
              "      <td>1</td>\n",
              "    </tr>\n",
              "    <tr>\n",
              "      <th>324</th>\n",
              "      <td>0.633246</td>\n",
              "      <td>282.010437</td>\n",
              "      <td>285.350708</td>\n",
              "      <td>0.000000</td>\n",
              "      <td>1.698439</td>\n",
              "      <td>2001</td>\n",
              "      <td>12</td>\n",
              "    </tr>\n",
              "    <tr>\n",
              "      <th>1495</th>\n",
              "      <td>0.609453</td>\n",
              "      <td>279.666565</td>\n",
              "      <td>285.238007</td>\n",
              "      <td>0.000000</td>\n",
              "      <td>4.675715</td>\n",
              "      <td>2005</td>\n",
              "      <td>2</td>\n",
              "    </tr>\n",
              "    <tr>\n",
              "      <th>998</th>\n",
              "      <td>0.645931</td>\n",
              "      <td>290.318542</td>\n",
              "      <td>296.683136</td>\n",
              "      <td>0.000000</td>\n",
              "      <td>3.857375</td>\n",
              "      <td>2003</td>\n",
              "      <td>10</td>\n",
              "    </tr>\n",
              "  </tbody>\n",
              "</table>\n",
              "</div>\n",
              "      <button class=\"colab-df-convert\" onclick=\"convertToInteractive('df-3b03f068-11f5-4470-91e1-31618e24d6ec')\"\n",
              "              title=\"Convert this dataframe to an interactive table.\"\n",
              "              style=\"display:none;\">\n",
              "        \n",
              "  <svg xmlns=\"http://www.w3.org/2000/svg\" height=\"24px\"viewBox=\"0 0 24 24\"\n",
              "       width=\"24px\">\n",
              "    <path d=\"M0 0h24v24H0V0z\" fill=\"none\"/>\n",
              "    <path d=\"M18.56 5.44l.94 2.06.94-2.06 2.06-.94-2.06-.94-.94-2.06-.94 2.06-2.06.94zm-11 1L8.5 8.5l.94-2.06 2.06-.94-2.06-.94L8.5 2.5l-.94 2.06-2.06.94zm10 10l.94 2.06.94-2.06 2.06-.94-2.06-.94-.94-2.06-.94 2.06-2.06.94z\"/><path d=\"M17.41 7.96l-1.37-1.37c-.4-.4-.92-.59-1.43-.59-.52 0-1.04.2-1.43.59L10.3 9.45l-7.72 7.72c-.78.78-.78 2.05 0 2.83L4 21.41c.39.39.9.59 1.41.59.51 0 1.02-.2 1.41-.59l7.78-7.78 2.81-2.81c.8-.78.8-2.07 0-2.86zM5.41 20L4 18.59l7.72-7.72 1.47 1.35L5.41 20z\"/>\n",
              "  </svg>\n",
              "      </button>\n",
              "      \n",
              "  <style>\n",
              "    .colab-df-container {\n",
              "      display:flex;\n",
              "      flex-wrap:wrap;\n",
              "      gap: 12px;\n",
              "    }\n",
              "\n",
              "    .colab-df-convert {\n",
              "      background-color: #E8F0FE;\n",
              "      border: none;\n",
              "      border-radius: 50%;\n",
              "      cursor: pointer;\n",
              "      display: none;\n",
              "      fill: #1967D2;\n",
              "      height: 32px;\n",
              "      padding: 0 0 0 0;\n",
              "      width: 32px;\n",
              "    }\n",
              "\n",
              "    .colab-df-convert:hover {\n",
              "      background-color: #E2EBFA;\n",
              "      box-shadow: 0px 1px 2px rgba(60, 64, 67, 0.3), 0px 1px 3px 1px rgba(60, 64, 67, 0.15);\n",
              "      fill: #174EA6;\n",
              "    }\n",
              "\n",
              "    [theme=dark] .colab-df-convert {\n",
              "      background-color: #3B4455;\n",
              "      fill: #D2E3FC;\n",
              "    }\n",
              "\n",
              "    [theme=dark] .colab-df-convert:hover {\n",
              "      background-color: #434B5C;\n",
              "      box-shadow: 0px 1px 3px 1px rgba(0, 0, 0, 0.15);\n",
              "      filter: drop-shadow(0px 1px 2px rgba(0, 0, 0, 0.3));\n",
              "      fill: #FFFFFF;\n",
              "    }\n",
              "  </style>\n",
              "\n",
              "      <script>\n",
              "        const buttonEl =\n",
              "          document.querySelector('#df-3b03f068-11f5-4470-91e1-31618e24d6ec button.colab-df-convert');\n",
              "        buttonEl.style.display =\n",
              "          google.colab.kernel.accessAllowed ? 'block' : 'none';\n",
              "\n",
              "        async function convertToInteractive(key) {\n",
              "          const element = document.querySelector('#df-3b03f068-11f5-4470-91e1-31618e24d6ec');\n",
              "          const dataTable =\n",
              "            await google.colab.kernel.invokeFunction('convertToInteractive',\n",
              "                                                     [key], {});\n",
              "          if (!dataTable) return;\n",
              "\n",
              "          const docLinkHtml = 'Like what you see? Visit the ' +\n",
              "            '<a target=\"_blank\" href=https://colab.research.google.com/notebooks/data_table.ipynb>data table notebook</a>'\n",
              "            + ' to learn more about interactive tables.';\n",
              "          element.innerHTML = '';\n",
              "          dataTable['output_type'] = 'display_data';\n",
              "          await google.colab.output.renderOutput(dataTable, element);\n",
              "          const docLink = document.createElement('div');\n",
              "          docLink.innerHTML = docLinkHtml;\n",
              "          element.appendChild(docLink);\n",
              "        }\n",
              "      </script>\n",
              "    </div>\n",
              "  </div>\n",
              "  "
            ]
          },
          "metadata": {},
          "execution_count": 26
        }
      ],
      "source": [
        "x_train.head()"
      ]
    },
    {
      "cell_type": "code",
      "execution_count": null,
      "metadata": {
        "colab": {
          "base_uri": "https://localhost:8080/"
        },
        "id": "LDZXm54iMgwN",
        "outputId": "a7f7dc84-215a-4fc6-94de-0799a2b13c27"
      },
      "outputs": [
        {
          "output_type": "execute_result",
          "data": {
            "text/plain": [
              "(3945, 7)"
            ]
          },
          "metadata": {},
          "execution_count": 27
        }
      ],
      "source": [
        "x_train.shape"
      ]
    },
    {
      "cell_type": "code",
      "execution_count": null,
      "metadata": {
        "colab": {
          "base_uri": "https://localhost:8080/"
        },
        "id": "gz93X0cHMgwO",
        "outputId": "689f848e-c1ec-4586-9726-c1a242276dd1"
      },
      "outputs": [
        {
          "output_type": "execute_result",
          "data": {
            "text/plain": [
              "(987, 7)"
            ]
          },
          "metadata": {},
          "execution_count": 28
        }
      ],
      "source": [
        "x_test.shape"
      ]
    },
    {
      "cell_type": "code",
      "execution_count": null,
      "metadata": {
        "id": "m_LhBW6AMgwO"
      },
      "outputs": [],
      "source": [
        ""
      ]
    },
    {
      "cell_type": "markdown",
      "metadata": {
        "id": "b-zCH9-eMgwO"
      },
      "source": [
        "### Standardizing the Data"
      ]
    },
    {
      "cell_type": "code",
      "execution_count": null,
      "metadata": {
        "id": "PzPKWrCrMgwO"
      },
      "outputs": [],
      "source": [
        "from sklearn.preprocessing import StandardScaler"
      ]
    },
    {
      "cell_type": "code",
      "execution_count": null,
      "metadata": {
        "id": "94ZBMIamMgwO"
      },
      "outputs": [],
      "source": [
        "sc = StandardScaler().fit(x_train)"
      ]
    },
    {
      "cell_type": "code",
      "execution_count": null,
      "metadata": {
        "id": "a8QdPaQ9MgwO"
      },
      "outputs": [],
      "source": [
        "x_train_std = sc.transform(x_train)"
      ]
    },
    {
      "cell_type": "code",
      "execution_count": null,
      "metadata": {
        "id": "D5Ve25hKMgwP"
      },
      "outputs": [],
      "source": [
        "x_test_std = sc.transform(x_test)"
      ]
    },
    {
      "cell_type": "code",
      "execution_count": null,
      "metadata": {
        "colab": {
          "base_uri": "https://localhost:8080/"
        },
        "id": "vi-7YLI3MgwP",
        "outputId": "29b98899-a281-4e00-fad3-2f8e3482feef"
      },
      "outputs": [
        {
          "output_type": "execute_result",
          "data": {
            "text/plain": [
              "array([[-0.28656076,  0.05102202, -0.25334862, ..., -0.1215275 ,\n",
              "        -1.3449707 ,  1.35057887],\n",
              "       [-0.36649918,  0.89094057,  0.83258676, ...,  0.72096061,\n",
              "         0.69743296,  0.76472658],\n",
              "       [ 1.12331738,  1.28791218,  1.56698082, ..., -0.86576922,\n",
              "        -0.83436978,  0.76472658],\n",
              "       ...,\n",
              "       [-0.74298   , -1.20497696, -0.89995221, ..., -1.03884503,\n",
              "        -0.06846841, -1.57868257],\n",
              "       [ 0.85522398,  0.31826601,  0.11871873, ...,  0.30431683,\n",
              "         0.69743296, -0.11405185],\n",
              "       [ 0.22940335, -2.17726076, -2.01195964, ...,  1.40359994,\n",
              "         0.69743296, -1.57868257]])"
            ]
          },
          "metadata": {},
          "execution_count": 33
        }
      ],
      "source": [
        "x_test_std"
      ]
    },
    {
      "cell_type": "code",
      "execution_count": null,
      "metadata": {
        "colab": {
          "base_uri": "https://localhost:8080/",
          "height": 424
        },
        "id": "a3tUepGNMgwP",
        "outputId": "6c1916ba-0563-44b0-afdf-9ea4f6675926"
      },
      "outputs": [
        {
          "output_type": "execute_result",
          "data": {
            "text/plain": [
              "           veg        tair        tmax      prec      wind  year  month\n",
              "662   0.603843  287.699463  290.584686  0.000008  3.034380  2002     11\n",
              "3534  0.600441  291.829590  296.960510  0.000005  4.182255  2010      9\n",
              "1353  0.663849  293.781616  301.272339  0.000000  2.020365  2004      9\n",
              "4722  0.528906  283.136505  287.665955  0.000301  5.236522  2013     12\n",
              "3062  0.609876  292.690033  299.505585  0.000000  1.642647  2009      6\n",
              "...        ...         ...         ...       ...       ...   ...    ...\n",
              "4827  0.600992  284.266479  288.622559  0.000048  4.050830  2014      4\n",
              "3329  0.573021  284.198547  286.150635  0.000529  8.187447  2010      2\n",
              "2180  0.584418  281.523346  286.788300  0.000000  1.784552  2007      1\n",
              "3437  0.652438  289.013580  292.769196  0.000008  3.614586  2010      6\n",
              "3281  0.625803  276.742340  280.259399  0.000000  5.112339  2010      1\n",
              "\n",
              "[987 rows x 7 columns]"
            ],
            "text/html": [
              "\n",
              "  <div id=\"df-b3cf229a-a56b-453c-a5c0-4c8edb0bbd67\">\n",
              "    <div class=\"colab-df-container\">\n",
              "      <div>\n",
              "<style scoped>\n",
              "    .dataframe tbody tr th:only-of-type {\n",
              "        vertical-align: middle;\n",
              "    }\n",
              "\n",
              "    .dataframe tbody tr th {\n",
              "        vertical-align: top;\n",
              "    }\n",
              "\n",
              "    .dataframe thead th {\n",
              "        text-align: right;\n",
              "    }\n",
              "</style>\n",
              "<table border=\"1\" class=\"dataframe\">\n",
              "  <thead>\n",
              "    <tr style=\"text-align: right;\">\n",
              "      <th></th>\n",
              "      <th>veg</th>\n",
              "      <th>tair</th>\n",
              "      <th>tmax</th>\n",
              "      <th>prec</th>\n",
              "      <th>wind</th>\n",
              "      <th>year</th>\n",
              "      <th>month</th>\n",
              "    </tr>\n",
              "  </thead>\n",
              "  <tbody>\n",
              "    <tr>\n",
              "      <th>662</th>\n",
              "      <td>0.603843</td>\n",
              "      <td>287.699463</td>\n",
              "      <td>290.584686</td>\n",
              "      <td>0.000008</td>\n",
              "      <td>3.034380</td>\n",
              "      <td>2002</td>\n",
              "      <td>11</td>\n",
              "    </tr>\n",
              "    <tr>\n",
              "      <th>3534</th>\n",
              "      <td>0.600441</td>\n",
              "      <td>291.829590</td>\n",
              "      <td>296.960510</td>\n",
              "      <td>0.000005</td>\n",
              "      <td>4.182255</td>\n",
              "      <td>2010</td>\n",
              "      <td>9</td>\n",
              "    </tr>\n",
              "    <tr>\n",
              "      <th>1353</th>\n",
              "      <td>0.663849</td>\n",
              "      <td>293.781616</td>\n",
              "      <td>301.272339</td>\n",
              "      <td>0.000000</td>\n",
              "      <td>2.020365</td>\n",
              "      <td>2004</td>\n",
              "      <td>9</td>\n",
              "    </tr>\n",
              "    <tr>\n",
              "      <th>4722</th>\n",
              "      <td>0.528906</td>\n",
              "      <td>283.136505</td>\n",
              "      <td>287.665955</td>\n",
              "      <td>0.000301</td>\n",
              "      <td>5.236522</td>\n",
              "      <td>2013</td>\n",
              "      <td>12</td>\n",
              "    </tr>\n",
              "    <tr>\n",
              "      <th>3062</th>\n",
              "      <td>0.609876</td>\n",
              "      <td>292.690033</td>\n",
              "      <td>299.505585</td>\n",
              "      <td>0.000000</td>\n",
              "      <td>1.642647</td>\n",
              "      <td>2009</td>\n",
              "      <td>6</td>\n",
              "    </tr>\n",
              "    <tr>\n",
              "      <th>...</th>\n",
              "      <td>...</td>\n",
              "      <td>...</td>\n",
              "      <td>...</td>\n",
              "      <td>...</td>\n",
              "      <td>...</td>\n",
              "      <td>...</td>\n",
              "      <td>...</td>\n",
              "    </tr>\n",
              "    <tr>\n",
              "      <th>4827</th>\n",
              "      <td>0.600992</td>\n",
              "      <td>284.266479</td>\n",
              "      <td>288.622559</td>\n",
              "      <td>0.000048</td>\n",
              "      <td>4.050830</td>\n",
              "      <td>2014</td>\n",
              "      <td>4</td>\n",
              "    </tr>\n",
              "    <tr>\n",
              "      <th>3329</th>\n",
              "      <td>0.573021</td>\n",
              "      <td>284.198547</td>\n",
              "      <td>286.150635</td>\n",
              "      <td>0.000529</td>\n",
              "      <td>8.187447</td>\n",
              "      <td>2010</td>\n",
              "      <td>2</td>\n",
              "    </tr>\n",
              "    <tr>\n",
              "      <th>2180</th>\n",
              "      <td>0.584418</td>\n",
              "      <td>281.523346</td>\n",
              "      <td>286.788300</td>\n",
              "      <td>0.000000</td>\n",
              "      <td>1.784552</td>\n",
              "      <td>2007</td>\n",
              "      <td>1</td>\n",
              "    </tr>\n",
              "    <tr>\n",
              "      <th>3437</th>\n",
              "      <td>0.652438</td>\n",
              "      <td>289.013580</td>\n",
              "      <td>292.769196</td>\n",
              "      <td>0.000008</td>\n",
              "      <td>3.614586</td>\n",
              "      <td>2010</td>\n",
              "      <td>6</td>\n",
              "    </tr>\n",
              "    <tr>\n",
              "      <th>3281</th>\n",
              "      <td>0.625803</td>\n",
              "      <td>276.742340</td>\n",
              "      <td>280.259399</td>\n",
              "      <td>0.000000</td>\n",
              "      <td>5.112339</td>\n",
              "      <td>2010</td>\n",
              "      <td>1</td>\n",
              "    </tr>\n",
              "  </tbody>\n",
              "</table>\n",
              "<p>987 rows × 7 columns</p>\n",
              "</div>\n",
              "      <button class=\"colab-df-convert\" onclick=\"convertToInteractive('df-b3cf229a-a56b-453c-a5c0-4c8edb0bbd67')\"\n",
              "              title=\"Convert this dataframe to an interactive table.\"\n",
              "              style=\"display:none;\">\n",
              "        \n",
              "  <svg xmlns=\"http://www.w3.org/2000/svg\" height=\"24px\"viewBox=\"0 0 24 24\"\n",
              "       width=\"24px\">\n",
              "    <path d=\"M0 0h24v24H0V0z\" fill=\"none\"/>\n",
              "    <path d=\"M18.56 5.44l.94 2.06.94-2.06 2.06-.94-2.06-.94-.94-2.06-.94 2.06-2.06.94zm-11 1L8.5 8.5l.94-2.06 2.06-.94-2.06-.94L8.5 2.5l-.94 2.06-2.06.94zm10 10l.94 2.06.94-2.06 2.06-.94-2.06-.94-.94-2.06-.94 2.06-2.06.94z\"/><path d=\"M17.41 7.96l-1.37-1.37c-.4-.4-.92-.59-1.43-.59-.52 0-1.04.2-1.43.59L10.3 9.45l-7.72 7.72c-.78.78-.78 2.05 0 2.83L4 21.41c.39.39.9.59 1.41.59.51 0 1.02-.2 1.41-.59l7.78-7.78 2.81-2.81c.8-.78.8-2.07 0-2.86zM5.41 20L4 18.59l7.72-7.72 1.47 1.35L5.41 20z\"/>\n",
              "  </svg>\n",
              "      </button>\n",
              "      \n",
              "  <style>\n",
              "    .colab-df-container {\n",
              "      display:flex;\n",
              "      flex-wrap:wrap;\n",
              "      gap: 12px;\n",
              "    }\n",
              "\n",
              "    .colab-df-convert {\n",
              "      background-color: #E8F0FE;\n",
              "      border: none;\n",
              "      border-radius: 50%;\n",
              "      cursor: pointer;\n",
              "      display: none;\n",
              "      fill: #1967D2;\n",
              "      height: 32px;\n",
              "      padding: 0 0 0 0;\n",
              "      width: 32px;\n",
              "    }\n",
              "\n",
              "    .colab-df-convert:hover {\n",
              "      background-color: #E2EBFA;\n",
              "      box-shadow: 0px 1px 2px rgba(60, 64, 67, 0.3), 0px 1px 3px 1px rgba(60, 64, 67, 0.15);\n",
              "      fill: #174EA6;\n",
              "    }\n",
              "\n",
              "    [theme=dark] .colab-df-convert {\n",
              "      background-color: #3B4455;\n",
              "      fill: #D2E3FC;\n",
              "    }\n",
              "\n",
              "    [theme=dark] .colab-df-convert:hover {\n",
              "      background-color: #434B5C;\n",
              "      box-shadow: 0px 1px 3px 1px rgba(0, 0, 0, 0.15);\n",
              "      filter: drop-shadow(0px 1px 2px rgba(0, 0, 0, 0.3));\n",
              "      fill: #FFFFFF;\n",
              "    }\n",
              "  </style>\n",
              "\n",
              "      <script>\n",
              "        const buttonEl =\n",
              "          document.querySelector('#df-b3cf229a-a56b-453c-a5c0-4c8edb0bbd67 button.colab-df-convert');\n",
              "        buttonEl.style.display =\n",
              "          google.colab.kernel.accessAllowed ? 'block' : 'none';\n",
              "\n",
              "        async function convertToInteractive(key) {\n",
              "          const element = document.querySelector('#df-b3cf229a-a56b-453c-a5c0-4c8edb0bbd67');\n",
              "          const dataTable =\n",
              "            await google.colab.kernel.invokeFunction('convertToInteractive',\n",
              "                                                     [key], {});\n",
              "          if (!dataTable) return;\n",
              "\n",
              "          const docLinkHtml = 'Like what you see? Visit the ' +\n",
              "            '<a target=\"_blank\" href=https://colab.research.google.com/notebooks/data_table.ipynb>data table notebook</a>'\n",
              "            + ' to learn more about interactive tables.';\n",
              "          element.innerHTML = '';\n",
              "          dataTable['output_type'] = 'display_data';\n",
              "          await google.colab.output.renderOutput(dataTable, element);\n",
              "          const docLink = document.createElement('div');\n",
              "          docLink.innerHTML = docLinkHtml;\n",
              "          element.appendChild(docLink);\n",
              "        }\n",
              "      </script>\n",
              "    </div>\n",
              "  </div>\n",
              "  "
            ]
          },
          "metadata": {},
          "execution_count": 34
        }
      ],
      "source": [
        "x_test"
      ]
    },
    {
      "cell_type": "code",
      "execution_count": null,
      "metadata": {
        "id": "SafH6m4SMgwP"
      },
      "outputs": [],
      "source": [
        ""
      ]
    },
    {
      "cell_type": "markdown",
      "metadata": {
        "id": "4mTupMlTMgwP"
      },
      "source": [
        "### Training Regression Tree"
      ]
    },
    {
      "cell_type": "code",
      "execution_count": null,
      "metadata": {
        "id": "Vn3UgRiJMgwQ"
      },
      "outputs": [],
      "source": [
        "from sklearn.ensemble import RandomForestRegressor"
      ]
    },
    {
      "cell_type": "code",
      "execution_count": null,
      "metadata": {
        "id": "K6WA1j9oMgwQ"
      },
      "outputs": [],
      "source": [
        "rf_reg = RandomForestRegressor(n_estimators=1000, n_jobs = -1, random_state = 42)"
      ]
    },
    {
      "cell_type": "code",
      "execution_count": null,
      "metadata": {
        "id": "RaFpIC0bMgwQ"
      },
      "outputs": [],
      "source": [
        "#Gridsearch\n",
        "#from sklearn.model_selection import GridSearchCV\n",
        "#params_grid = {\"n_estimators\" : [600,700,800,900,1000],\n",
        "#              \"max_depth\" : [1,2,3,4,5],\n",
        "#               \"min_samples_split\" : [2,3,4,5]\n",
        "#              }"
      ]
    },
    {
      "cell_type": "code",
      "execution_count": null,
      "metadata": {
        "id": "SbgDYyeMMgwQ"
      },
      "outputs": [],
      "source": [
        "#grid_search = GridSearchCV(rf_reg, params_grid, \n",
        " #                         n_jobs = -1, cv = 5, scoring = 'r2')"
      ]
    },
    {
      "cell_type": "code",
      "execution_count": null,
      "metadata": {
        "colab": {
          "base_uri": "https://localhost:8080/"
        },
        "id": "e5C-pq-6MgwQ",
        "outputId": "4f76391a-2556-4602-dd82-36723cef14bd"
      },
      "outputs": [
        {
          "output_type": "execute_result",
          "data": {
            "text/plain": [
              "RandomForestRegressor(n_estimators=1000, n_jobs=-1, random_state=42)"
            ]
          },
          "metadata": {},
          "execution_count": 39
        }
      ],
      "source": [
        "rf_reg.fit(x_train_std, y_train)"
      ]
    },
    {
      "cell_type": "code",
      "execution_count": null,
      "metadata": {
        "id": "PvLI-P4-MgwR"
      },
      "outputs": [],
      "source": [
        "#cvrf_reg = grid_search.best_estimator_"
      ]
    },
    {
      "cell_type": "code",
      "execution_count": null,
      "metadata": {
        "id": "flxDU-t9MgwR"
      },
      "outputs": [],
      "source": [
        "#cvrf_reg.fit(x_train_std1, y_train)"
      ]
    },
    {
      "cell_type": "code",
      "execution_count": null,
      "metadata": {
        "id": "sRebRrK3MgwR"
      },
      "outputs": [],
      "source": [
        ""
      ]
    },
    {
      "cell_type": "markdown",
      "metadata": {
        "id": "Xhuau3ONMgwR"
      },
      "source": [
        "### Predicting wih the trained model"
      ]
    },
    {
      "cell_type": "code",
      "execution_count": null,
      "metadata": {
        "id": "GhsKjjI8MgwR"
      },
      "outputs": [],
      "source": [
        "y_test_pred = rf_reg.predict(x_test_std)\n",
        "y_train_pred = rf_reg.predict(x_train_std)"
      ]
    },
    {
      "cell_type": "code",
      "execution_count": null,
      "metadata": {
        "colab": {
          "base_uri": "https://localhost:8080/"
        },
        "id": "bvfh7lsgMgwR",
        "outputId": "4a8d4ccf-2393-4039-e9c4-4837e2de2a97"
      },
      "outputs": [
        {
          "output_type": "execute_result",
          "data": {
            "text/plain": [
              "array([4.04544055e+04, 2.70831360e+05, 2.34183103e+05, 0.00000000e+00,\n",
              "       4.23175481e+04, 0.00000000e+00, 0.00000000e+00, 0.00000000e+00,\n",
              "       1.16889144e+06, 0.00000000e+00, 1.23106570e+03, 4.13206925e+03,\n",
              "       2.91740709e+05, 2.28639819e+04, 3.70621250e+02, 1.68390594e+06,\n",
              "       2.43642382e+03, 0.00000000e+00, 2.19102563e+03, 1.09006250e+01,\n",
              "       1.84396793e+06, 0.00000000e+00, 0.00000000e+00, 1.19070924e+04,\n",
              "       1.21519531e+05, 0.00000000e+00, 0.00000000e+00, 3.41883233e+04,\n",
              "       0.00000000e+00, 0.00000000e+00, 0.00000000e+00, 5.88311422e+05,\n",
              "       9.39120000e+01, 2.46397254e+04, 3.09256682e+05, 1.24099412e+03,\n",
              "       0.00000000e+00, 6.85669933e+04, 2.59609129e+04, 0.00000000e+00,\n",
              "       1.68555670e+06, 0.00000000e+00, 9.34938789e+02, 0.00000000e+00,\n",
              "       0.00000000e+00, 4.77945000e+01, 0.00000000e+00, 9.65946214e+05,\n",
              "       0.00000000e+00, 1.85204623e+04, 2.12420330e+05, 0.00000000e+00,\n",
              "       2.76705000e+01, 2.73761427e+04, 0.00000000e+00, 8.95216360e+04,\n",
              "       1.25775878e+06, 3.97861470e+03, 0.00000000e+00, 4.94618585e+05,\n",
              "       1.03906420e+04, 4.94349631e+03, 0.00000000e+00, 0.00000000e+00,\n",
              "       0.00000000e+00, 5.55691168e+05, 1.05651000e+02, 1.10808647e+06,\n",
              "       1.28417839e+04, 6.26360375e+02, 0.00000000e+00, 8.33875162e+04,\n",
              "       0.00000000e+00, 1.07329926e+05, 8.01277139e+05, 1.10682125e+02,\n",
              "       6.14870247e+04, 1.00493056e+04, 4.79816884e+05, 0.00000000e+00,\n",
              "       1.42847827e+04, 0.00000000e+00, 0.00000000e+00, 0.00000000e+00,\n",
              "       0.00000000e+00, 0.00000000e+00, 0.00000000e+00, 0.00000000e+00,\n",
              "       0.00000000e+00, 0.00000000e+00, 0.00000000e+00, 1.26832580e+05,\n",
              "       0.00000000e+00, 5.67670625e+02, 6.09319120e+05, 2.76322409e+06,\n",
              "       1.01595285e+04, 1.57471109e+05, 0.00000000e+00, 8.51354026e+05,\n",
              "       1.28755565e+04, 6.73140144e+04, 5.94461306e+04, 0.00000000e+00,\n",
              "       5.00136549e+05, 4.18426275e+06, 1.85777541e+06, 0.00000000e+00,\n",
              "       0.00000000e+00, 0.00000000e+00, 9.40811931e+04, 0.00000000e+00,\n",
              "       8.06294555e+03, 0.00000000e+00, 7.59189768e+05, 8.51130619e+03,\n",
              "       0.00000000e+00, 0.00000000e+00, 0.00000000e+00, 0.00000000e+00,\n",
              "       4.95958251e+05, 0.00000000e+00, 1.72159725e+03, 2.49510687e+05,\n",
              "       4.14782011e+04, 1.58120613e+05, 1.50374136e+06, 1.80167850e+05,\n",
              "       1.15157135e+04, 0.00000000e+00, 5.97747764e+05, 6.07308387e+04,\n",
              "       0.00000000e+00, 0.00000000e+00, 2.61820433e+05, 0.00000000e+00,\n",
              "       0.00000000e+00, 1.25438826e+05, 2.99358166e+04, 1.14063104e+04,\n",
              "       4.60593581e+03, 1.03722507e+06, 4.77945000e+01, 0.00000000e+00,\n",
              "       3.68227099e+04, 0.00000000e+00, 1.29117705e+04, 0.00000000e+00,\n",
              "       0.00000000e+00, 1.44600452e+05, 1.79868688e+04, 2.64195213e+07,\n",
              "       6.85744396e+04, 1.06550311e+03, 0.00000000e+00, 2.76705000e+01,\n",
              "       3.90650897e+04, 0.00000000e+00, 0.00000000e+00, 0.00000000e+00,\n",
              "       0.00000000e+00, 0.00000000e+00, 5.25742500e+02, 4.74652938e+05,\n",
              "       9.93087192e+04, 0.00000000e+00, 0.00000000e+00, 2.32556625e+05,\n",
              "       1.66750820e+04, 1.86328269e+05, 2.50142376e+05, 0.00000000e+00,\n",
              "       0.00000000e+00, 1.62682851e+05, 9.57248925e+03, 3.34906858e+04,\n",
              "       9.22350000e+01, 1.13618050e+03, 0.00000000e+00, 1.70643811e+04,\n",
              "       1.70178691e+04, 1.60764203e+06, 0.00000000e+00, 1.05291560e+05,\n",
              "       7.79439356e+03, 0.00000000e+00, 1.78166960e+04, 0.00000000e+00,\n",
              "       0.00000000e+00, 1.74145870e+04, 1.26447828e+04, 2.32262840e+05,\n",
              "       2.73020361e+05, 0.00000000e+00, 1.69913437e+05, 5.51273910e+05,\n",
              "       4.07902193e+05, 0.00000000e+00, 1.39349293e+05, 4.42782599e+05,\n",
              "       1.68336071e+05, 1.91096169e+03, 2.08940414e+05, 0.00000000e+00,\n",
              "       2.44554030e+05, 0.00000000e+00, 0.00000000e+00, 2.33348295e+04,\n",
              "       0.00000000e+00, 0.00000000e+00, 0.00000000e+00, 5.69967339e+05,\n",
              "       0.00000000e+00, 1.92818103e+06, 6.26087688e+02, 5.32607417e+04,\n",
              "       4.08168769e+03, 5.33515900e+02, 0.00000000e+00, 0.00000000e+00,\n",
              "       2.74444106e+03, 1.02422760e+04, 0.00000000e+00, 0.00000000e+00,\n",
              "       0.00000000e+00, 0.00000000e+00, 3.35831185e+05, 1.39309061e+04,\n",
              "       0.00000000e+00, 3.68940000e+01, 0.00000000e+00, 0.00000000e+00,\n",
              "       1.08837625e+03, 6.19170125e+05, 1.88656924e+05, 9.80928422e+04,\n",
              "       6.36238274e+04, 0.00000000e+00, 7.23475607e+05, 1.77381486e+05,\n",
              "       7.00732244e+03, 2.77085946e+04, 2.32361431e+03, 0.00000000e+00,\n",
              "       2.76784259e+04, 3.21148937e+02, 4.84492230e+06, 2.72040423e+03,\n",
              "       1.84470000e+01, 0.00000000e+00, 0.00000000e+00, 2.39314994e+05,\n",
              "       1.28030172e+05, 0.00000000e+00, 1.33081108e+06, 0.00000000e+00,\n",
              "       0.00000000e+00, 0.00000000e+00, 0.00000000e+00, 5.14720726e+05,\n",
              "       8.10718102e+04, 3.51213062e+06, 1.01102415e+06, 0.00000000e+00,\n",
              "       0.00000000e+00, 0.00000000e+00, 2.91506415e+05, 0.00000000e+00,\n",
              "       0.00000000e+00, 6.53740571e+04, 0.00000000e+00, 1.45389389e+06,\n",
              "       2.82607562e+06, 3.67692209e+03, 5.54732076e+04, 6.42939701e+06,\n",
              "       0.00000000e+00, 2.25652103e+05, 2.86326955e+03, 3.14829330e+04,\n",
              "       1.38005346e+05, 2.58465624e+05, 6.49735783e+05, 4.38641794e+05,\n",
              "       0.00000000e+00, 0.00000000e+00, 5.86976703e+05, 1.59314517e+06,\n",
              "       0.00000000e+00, 2.48003956e+06, 6.53052854e+05, 1.21877845e+06,\n",
              "       0.00000000e+00, 3.10245000e+01, 0.00000000e+00, 3.27933957e+05,\n",
              "       2.58804779e+05, 2.33429132e+04, 0.00000000e+00, 0.00000000e+00,\n",
              "       3.56230086e+05, 0.00000000e+00, 2.95930820e+05, 0.00000000e+00,\n",
              "       0.00000000e+00, 1.39283481e+06, 0.00000000e+00, 1.63037385e+05,\n",
              "       3.83129413e+05, 4.25810656e+05, 5.99074892e+04, 5.86950000e+00,\n",
              "       0.00000000e+00, 0.00000000e+00, 0.00000000e+00, 5.69736825e+05,\n",
              "       0.00000000e+00, 0.00000000e+00, 8.35923531e+04, 0.00000000e+00,\n",
              "       0.00000000e+00, 0.00000000e+00, 4.67959047e+05, 4.98536396e+06,\n",
              "       0.00000000e+00, 0.00000000e+00, 0.00000000e+00, 4.13086809e+05,\n",
              "       1.59315000e+02, 1.12002807e+06, 8.53890287e+03, 9.78128133e+05,\n",
              "       5.85112556e+06, 9.23506287e+05, 3.03490098e+03, 7.62085074e+05,\n",
              "       4.90695425e+03, 0.00000000e+00, 0.00000000e+00, 4.54484650e+04,\n",
              "       0.00000000e+00, 2.14520112e+03, 0.00000000e+00, 0.00000000e+00,\n",
              "       2.54170131e+05, 4.40095396e+05, 5.86950000e+00, 4.18561558e+06,\n",
              "       6.73895647e+05, 0.00000000e+00, 1.54519101e+06, 1.42712700e+03,\n",
              "       0.00000000e+00, 1.02404183e+06, 0.00000000e+00, 0.00000000e+00,\n",
              "       2.13086832e+06, 5.78810680e+04, 2.89760800e+03, 0.00000000e+00,\n",
              "       1.46039867e+06, 5.35953033e+04, 1.17911535e+06, 2.73610893e+04,\n",
              "       8.50248750e+02, 0.00000000e+00, 0.00000000e+00, 1.29964422e+05,\n",
              "       1.87358894e+05, 0.00000000e+00, 0.00000000e+00, 0.00000000e+00,\n",
              "       1.99425131e+04, 2.97977364e+03, 0.00000000e+00, 2.28404054e+04,\n",
              "       0.00000000e+00, 3.48976338e+05, 2.92938391e+04, 0.00000000e+00,\n",
              "       3.88767984e+03, 8.13343096e+05, 3.92490522e+04, 0.00000000e+00,\n",
              "       3.24775064e+04, 0.00000000e+00, 0.00000000e+00, 1.36190914e+06,\n",
              "       1.11499324e+06, 1.17147036e+05, 3.99930314e+04, 0.00000000e+00,\n",
              "       0.00000000e+00, 1.89234447e+04, 0.00000000e+00, 3.94479102e+04,\n",
              "       1.19057655e+04, 4.25599675e+03, 0.00000000e+00, 6.16174180e+03,\n",
              "       3.80018600e+06, 0.00000000e+00, 1.51766264e+04, 0.00000000e+00,\n",
              "       7.15509552e+04, 0.00000000e+00, 0.00000000e+00, 8.98697547e+04,\n",
              "       0.00000000e+00, 3.05071983e+04, 5.98679203e+05, 7.45743559e+04,\n",
              "       0.00000000e+00, 8.64951268e+04, 5.43905312e+04, 0.00000000e+00,\n",
              "       0.00000000e+00, 0.00000000e+00, 0.00000000e+00, 7.98094023e+04,\n",
              "       7.00022346e+05, 2.67926231e+03, 9.91948750e+02, 1.86568678e+05,\n",
              "       8.35308311e+03, 0.00000000e+00, 0.00000000e+00, 0.00000000e+00,\n",
              "       0.00000000e+00, 2.89036766e+03, 1.75448772e+03, 0.00000000e+00,\n",
              "       0.00000000e+00, 1.24087498e+04, 3.96175209e+03, 1.26530075e+03,\n",
              "       1.17325392e+06, 1.85197937e+05, 0.00000000e+00, 0.00000000e+00,\n",
              "       8.80533207e+03, 0.00000000e+00, 9.89817918e+04, 3.10055920e+05,\n",
              "       3.39613870e+04, 2.52451326e+05, 8.49690438e+02, 0.00000000e+00,\n",
              "       0.00000000e+00, 2.59585063e+05, 0.00000000e+00, 0.00000000e+00,\n",
              "       1.23680081e+03, 0.00000000e+00, 2.18010000e+01, 1.73111781e+02,\n",
              "       3.14620601e+05, 0.00000000e+00, 1.67046684e+05, 1.08828386e+05,\n",
              "       2.93929105e+06, 2.05395844e+04, 0.00000000e+00, 7.93954213e+03,\n",
              "       4.75369613e+04, 6.54428344e+03, 9.22350000e+00, 1.89894531e+02,\n",
              "       2.07737490e+06, 5.68051303e+05, 0.00000000e+00, 0.00000000e+00,\n",
              "       3.71952106e+04, 0.00000000e+00, 3.36299671e+04, 3.47186201e+06,\n",
              "       0.00000000e+00, 0.00000000e+00, 5.12664125e+03, 0.00000000e+00,\n",
              "       2.66446967e+05, 0.00000000e+00, 1.48248500e+03, 0.00000000e+00,\n",
              "       4.78753139e+04, 3.86953123e+05, 3.52437044e+03, 0.00000000e+00,\n",
              "       0.00000000e+00, 0.00000000e+00, 1.23273908e+06, 2.22438326e+04,\n",
              "       3.77042915e+06, 0.00000000e+00, 9.16009760e+05, 4.72821169e+05,\n",
              "       6.16982196e+05, 2.89216446e+05, 2.32594012e+05, 0.00000000e+00,\n",
              "       2.27211856e+06, 2.37569460e+07, 0.00000000e+00, 0.00000000e+00,\n",
              "       0.00000000e+00, 1.43801941e+04, 0.00000000e+00, 0.00000000e+00,\n",
              "       0.00000000e+00, 0.00000000e+00, 0.00000000e+00, 3.25355793e+05,\n",
              "       2.74109237e+05, 0.00000000e+00, 4.44058077e+04, 0.00000000e+00,\n",
              "       1.88866887e+05, 0.00000000e+00, 5.18236173e+05, 5.33612339e+05,\n",
              "       9.47113734e+05, 8.19024490e+04, 1.54455002e+06, 2.29367947e+04,\n",
              "       8.44956448e+04, 8.75957695e+03, 9.89366331e+04, 0.00000000e+00,\n",
              "       1.32369343e+04, 0.00000000e+00, 0.00000000e+00, 8.81436203e+03,\n",
              "       0.00000000e+00, 3.15570772e+04, 5.04782375e+02, 2.28456607e+06,\n",
              "       3.88978759e+03, 0.00000000e+00, 8.65162549e+04, 3.46304188e+02,\n",
              "       0.00000000e+00, 0.00000000e+00, 1.47377264e+05, 2.85712773e+03,\n",
              "       0.00000000e+00, 1.31970657e+06, 3.95471035e+05, 0.00000000e+00,\n",
              "       2.20255611e+06, 0.00000000e+00, 8.78292880e+05, 3.43933751e+04,\n",
              "       1.09006250e+02, 9.54471038e+03, 1.58560350e+03, 3.73551750e+03,\n",
              "       0.00000000e+00, 0.00000000e+00, 1.64243658e+05, 0.00000000e+00,\n",
              "       5.05789047e+02, 2.15870425e+03, 4.48938012e+03, 7.94910360e+04,\n",
              "       2.80039997e+03, 0.00000000e+00, 9.19630654e+05, 0.00000000e+00,\n",
              "       7.06346296e+04, 0.00000000e+00, 1.20618498e+04, 1.49773779e+04,\n",
              "       0.00000000e+00, 3.73886804e+06, 0.00000000e+00, 1.34546504e+05,\n",
              "       4.71398461e+04, 0.00000000e+00, 0.00000000e+00, 1.90768139e+06,\n",
              "       9.22685812e+02, 0.00000000e+00, 0.00000000e+00, 0.00000000e+00,\n",
              "       1.74134334e+05, 3.53045099e+05, 4.75351062e+03, 1.87520446e+04,\n",
              "       3.11335050e+03, 9.55890000e+01, 1.76085000e+01, 1.35466288e+04,\n",
              "       4.77985830e+04, 1.05396261e+06, 4.02480000e+01, 6.02726297e+03,\n",
              "       0.00000000e+00, 0.00000000e+00, 3.32885688e+02, 1.28918657e+05,\n",
              "       3.93078172e+04, 7.50038694e+03, 0.00000000e+00, 0.00000000e+00,\n",
              "       1.83021494e+04, 3.80758101e+06, 0.00000000e+00, 9.02942422e+06,\n",
              "       1.09280194e+03, 6.05380635e+04, 1.91874118e+05, 0.00000000e+00,\n",
              "       1.42166636e+04, 1.00797495e+03, 1.05581019e+06, 2.11583972e+04,\n",
              "       0.00000000e+00, 3.14422828e+05, 3.66394342e+04, 4.36514748e+03,\n",
              "       3.41056248e+04, 0.00000000e+00, 0.00000000e+00, 1.29470596e+06,\n",
              "       5.03736064e+04, 1.45566530e+04, 3.71113681e+03, 0.00000000e+00,\n",
              "       4.97024030e+05, 5.32766180e+05, 0.00000000e+00, 0.00000000e+00,\n",
              "       1.90007519e+04, 0.00000000e+00, 0.00000000e+00, 6.02185689e+05,\n",
              "       4.35182687e+02, 5.37551594e+05, 1.76085000e+01, 9.83078202e+05,\n",
              "       1.09005000e+01, 0.00000000e+00, 7.67896369e+03, 0.00000000e+00,\n",
              "       0.00000000e+00, 1.28124263e+03, 4.11245018e+05, 0.00000000e+00,\n",
              "       1.06365926e+05, 2.21992800e+03, 3.42722183e+05, 3.99957939e+04,\n",
              "       0.00000000e+00, 2.86797581e+04, 0.00000000e+00, 6.51305751e+05,\n",
              "       3.61563793e+03, 0.00000000e+00, 6.48148073e+04, 4.92735701e+05,\n",
              "       0.00000000e+00, 8.31698335e+03, 0.00000000e+00, 0.00000000e+00,\n",
              "       9.43319938e+02, 0.00000000e+00, 5.52621973e+05, 0.00000000e+00,\n",
              "       0.00000000e+00, 6.23574467e+05, 3.42290855e+05, 7.89088057e+04,\n",
              "       0.00000000e+00, 0.00000000e+00, 1.03304471e+04, 2.01240000e+01,\n",
              "       0.00000000e+00, 0.00000000e+00, 2.81790672e+05, 2.99754237e+05,\n",
              "       9.52824750e+02, 0.00000000e+00, 0.00000000e+00, 0.00000000e+00,\n",
              "       2.76264659e+06, 5.76414585e+04, 4.99242426e+04, 2.83385610e+07,\n",
              "       1.50811953e+04, 8.82102000e+02, 0.00000000e+00, 0.00000000e+00,\n",
              "       2.00188705e+06, 0.00000000e+00, 0.00000000e+00, 3.46304188e+02,\n",
              "       3.18355872e+05, 4.83199043e+04, 0.00000000e+00, 6.28088180e+05,\n",
              "       2.95341068e+05, 1.09736244e+06, 5.36121619e+04, 0.00000000e+00,\n",
              "       1.78313507e+06, 0.00000000e+00, 0.00000000e+00, 2.50040911e+05,\n",
              "       0.00000000e+00, 0.00000000e+00, 2.10968846e+04, 0.00000000e+00,\n",
              "       6.99898270e+05, 1.16587233e+06, 0.00000000e+00, 8.57886469e+04,\n",
              "       4.11875904e+03, 0.00000000e+00, 0.00000000e+00, 2.43749229e+03,\n",
              "       1.27017174e+05, 8.38001502e+03, 0.00000000e+00, 3.35632666e+04,\n",
              "       8.69746281e+03, 5.81512077e+03, 3.09894867e+05, 0.00000000e+00,\n",
              "       8.64374992e+05, 1.23448256e+05, 0.00000000e+00, 0.00000000e+00,\n",
              "       1.00285750e+03, 7.80538716e+04, 3.38411836e+02, 9.92543019e+03,\n",
              "       0.00000000e+00, 2.05937241e+04, 0.00000000e+00, 0.00000000e+00,\n",
              "       2.11980443e+04, 0.00000000e+00, 0.00000000e+00, 5.64244497e+06,\n",
              "       4.96273094e+05, 7.36168731e+04, 3.52402965e+05, 0.00000000e+00,\n",
              "       0.00000000e+00, 1.50615584e+04, 0.00000000e+00, 1.51438296e+06,\n",
              "       1.01552677e+05, 7.08540625e+02, 2.57306393e+05, 6.74385813e+02,\n",
              "       0.00000000e+00, 1.96335970e+05, 0.00000000e+00, 7.62973540e+04,\n",
              "       1.95902217e+04, 0.00000000e+00, 2.69355053e+04, 0.00000000e+00,\n",
              "       1.09006250e+01, 6.03999965e+05, 2.59936425e+06, 2.09935476e+04,\n",
              "       5.00974645e+05, 4.68759676e+04, 0.00000000e+00, 0.00000000e+00,\n",
              "       1.85250983e+06, 1.32361794e+05, 5.95928769e+03, 5.45677954e+04,\n",
              "       3.31619497e+05, 4.88807665e+04, 2.79298551e+03, 2.21442866e+05,\n",
              "       1.76085000e+01, 8.24861027e+05, 1.66042867e+06, 1.45964402e+03,\n",
              "       1.21945961e+06, 2.18010000e+01, 1.17367075e+05, 1.76085000e+01,\n",
              "       3.42050167e+04, 8.24252375e+02, 0.00000000e+00, 2.03455991e+03,\n",
              "       4.91292649e+05, 9.22350000e+00, 0.00000000e+00, 6.33828888e+03,\n",
              "       3.52936953e+03, 0.00000000e+00, 3.14703730e+06, 0.00000000e+00,\n",
              "       4.98326506e+06, 5.12329375e+02, 0.00000000e+00, 0.00000000e+00,\n",
              "       0.00000000e+00, 1.05783197e+06, 4.38724709e+03, 0.00000000e+00,\n",
              "       0.00000000e+00, 2.54283398e+05, 2.13892509e+03, 2.57310834e+04,\n",
              "       6.93101288e+03, 0.00000000e+00, 0.00000000e+00, 0.00000000e+00,\n",
              "       1.17864319e+05, 1.54355023e+05, 0.00000000e+00, 0.00000000e+00,\n",
              "       6.80721763e+03, 0.00000000e+00, 7.29495000e+01, 9.61560109e+02,\n",
              "       2.15413289e+03, 6.63645445e+05, 5.89567475e+05, 0.00000000e+00,\n",
              "       0.00000000e+00, 0.00000000e+00, 0.00000000e+00, 1.25664534e+03,\n",
              "       0.00000000e+00, 0.00000000e+00, 1.26220792e+06, 0.00000000e+00,\n",
              "       0.00000000e+00, 0.00000000e+00, 0.00000000e+00, 9.65131405e+03,\n",
              "       1.36758306e+03, 5.43468190e+05, 9.11920250e+02, 2.29628339e+05,\n",
              "       1.30575795e+06, 4.02744678e+04, 7.46660563e+05, 0.00000000e+00,\n",
              "       8.72574713e+05, 1.11830251e+06, 0.00000000e+00, 0.00000000e+00,\n",
              "       5.43307229e+05, 0.00000000e+00, 1.09005000e+01, 2.71004892e+04,\n",
              "       0.00000000e+00, 0.00000000e+00, 2.79289662e+04, 1.47226560e+04,\n",
              "       0.00000000e+00, 0.00000000e+00, 1.62389272e+06, 0.00000000e+00,\n",
              "       2.70450646e+04, 0.00000000e+00, 0.00000000e+00, 1.76893769e+05,\n",
              "       1.51115105e+05, 2.69067404e+04, 8.69023693e+04, 0.00000000e+00,\n",
              "       0.00000000e+00, 1.84623813e+07, 2.47917131e+06, 7.39782806e+05,\n",
              "       8.94487493e+05, 4.65959744e+03, 0.00000000e+00, 2.31175500e+03,\n",
              "       0.00000000e+00, 4.25640077e+06, 2.79307319e+03, 2.82109486e+05,\n",
              "       2.66999165e+06, 2.96447213e+04, 0.00000000e+00, 7.59299966e+05,\n",
              "       0.00000000e+00, 0.00000000e+00, 0.00000000e+00, 0.00000000e+00,\n",
              "       4.43847594e+06, 5.95507130e+05, 0.00000000e+00, 5.10943919e+06,\n",
              "       1.93747316e+04, 0.00000000e+00, 0.00000000e+00, 5.10299367e+04,\n",
              "       0.00000000e+00, 1.27984854e+05, 5.77825695e+04, 0.00000000e+00,\n",
              "       0.00000000e+00, 0.00000000e+00, 0.00000000e+00, 1.12790261e+06,\n",
              "       0.00000000e+00, 1.67657356e+04, 9.01068302e+04, 0.00000000e+00,\n",
              "       0.00000000e+00, 4.43534948e+03, 2.55549993e+06, 0.00000000e+00,\n",
              "       0.00000000e+00, 0.00000000e+00, 0.00000000e+00, 4.93782612e+06,\n",
              "       0.00000000e+00, 0.00000000e+00, 3.48643882e+05, 0.00000000e+00,\n",
              "       1.11993468e+05, 2.79031279e+05, 1.59969716e+03, 1.38530648e+04,\n",
              "       1.08616915e+06, 0.00000000e+00, 8.44684152e+03, 2.26802937e+07,\n",
              "       6.09401874e+05, 0.00000000e+00, 4.37097485e+05, 4.56818617e+06,\n",
              "       1.66671281e+06, 0.00000000e+00, 2.28110636e+05, 0.00000000e+00,\n",
              "       6.26208867e+05, 1.14084029e+04, 1.86159629e+06, 2.07111875e+02,\n",
              "       1.80476167e+05, 0.00000000e+00, 7.37750529e+05, 1.08488988e+05,\n",
              "       6.22962592e+05, 0.00000000e+00, 0.00000000e+00, 8.59544720e+03,\n",
              "       0.00000000e+00, 1.06724061e+05, 2.51776010e+05, 2.24764764e+05,\n",
              "       4.56082325e+03, 1.86485840e+04, 1.94303605e+05, 0.00000000e+00,\n",
              "       1.23758513e+03, 3.01998613e+05, 2.76808279e+03, 1.95055806e+06,\n",
              "       1.23580129e+04, 0.00000000e+00, 6.07017482e+05, 0.00000000e+00,\n",
              "       0.00000000e+00, 0.00000000e+00, 3.48736445e+04, 7.47889791e+05,\n",
              "       9.62608250e+02, 1.84999083e+05, 8.41991769e+04, 5.86950000e+00,\n",
              "       0.00000000e+00, 0.00000000e+00, 3.15533869e+05, 1.25307678e+06,\n",
              "       0.00000000e+00, 5.31768150e+05, 0.00000000e+00, 0.00000000e+00,\n",
              "       0.00000000e+00, 2.76362477e+05, 0.00000000e+00])"
            ]
          },
          "metadata": {},
          "execution_count": 43
        }
      ],
      "source": [
        "y_test_pred"
      ]
    },
    {
      "cell_type": "markdown",
      "metadata": {
        "id": "MtOSfQ8lMgwS"
      },
      "source": [
        "### Model Perfomance"
      ]
    },
    {
      "cell_type": "code",
      "execution_count": null,
      "metadata": {
        "id": "gc-ho2FPMgwS"
      },
      "outputs": [],
      "source": [
        "from sklearn.metrics import mean_squared_error, r2_score"
      ]
    },
    {
      "cell_type": "code",
      "source": [
        "from keras.models import Sequential\n",
        "from keras.layers import Dense, Conv1D, Flatten,TimeDistributed\n",
        "from sklearn.model_selection import train_test_split\n",
        "from keras.layers.convolutional_recurrent import ConvLSTM2D"
      ],
      "metadata": {
        "id": "LX-aBbdzJdlS"
      },
      "execution_count": null,
      "outputs": []
    },
    {
      "cell_type": "code",
      "source": [
        "xtrain_reshaped = x_train.reshape(x_train.shape[0], x_train.shape[1], 1) "
      ],
      "metadata": {
        "id": "tjMcw9XAJdn9"
      },
      "execution_count": null,
      "outputs": []
    },
    {
      "cell_type": "code",
      "source": [
        "model = Sequential()\n",
        "model.add(Conv1D(32, 2, activation=\"relu\", input_shape=(7, 1)))\n",
        "model.add(Flatten())\n",
        "model.add(Dense(64, activation=\"relu\"))\n",
        "model.add(Dense(1))\n",
        "model.compile(optimizer=keras.optimizers.Adam(learning_rate = 1e-1), loss = 'mean_squared_error',metrics = 'mae')"
      ],
      "metadata": {
        "id": "Ds-u-aZXJdqs"
      },
      "execution_count": null,
      "outputs": []
    },
    {
      "cell_type": "code",
      "source": [
        "history = model.fit(xtrain_reshaped, y_train, batch_size = 10, epochs = 100)"
      ],
      "metadata": {
        "colab": {
          "base_uri": "https://localhost:8080/"
        },
        "id": "n60HKk8uJdsz",
        "outputId": "21dd2488-fee0-4e1f-b287-12fabd593493"
      },
      "execution_count": null,
      "outputs": [
        {
          "output_type": "stream",
          "name": "stdout",
          "text": [
            "Epoch 1/100\n",
            "278/278 [==============================] - 2s 5ms/step - loss: 5378367553536.0000 - mae: 654820.0625\n",
            "Epoch 2/100\n",
            "278/278 [==============================] - 1s 5ms/step - loss: 5223355514880.0000 - mae: 645133.8750\n",
            "Epoch 3/100\n",
            "278/278 [==============================] - 1s 4ms/step - loss: 5159621492736.0000 - mae: 646032.8125\n",
            "Epoch 4/100\n",
            "278/278 [==============================] - 1s 3ms/step - loss: 5122862088192.0000 - mae: 631839.3125\n",
            "Epoch 5/100\n",
            "278/278 [==============================] - 1s 3ms/step - loss: 5111053025280.0000 - mae: 626822.0625\n",
            "Epoch 6/100\n",
            "278/278 [==============================] - 1s 3ms/step - loss: 5062684311552.0000 - mae: 619981.4375\n",
            "Epoch 7/100\n",
            "278/278 [==============================] - 1s 3ms/step - loss: 5033137012736.0000 - mae: 612718.7500\n",
            "Epoch 8/100\n",
            "278/278 [==============================] - 1s 3ms/step - loss: 5002944315392.0000 - mae: 614817.2500\n",
            "Epoch 9/100\n",
            "278/278 [==============================] - 1s 4ms/step - loss: 4972347916288.0000 - mae: 590341.8125\n",
            "Epoch 10/100\n",
            "278/278 [==============================] - 1s 3ms/step - loss: 5031732969472.0000 - mae: 608216.0625\n",
            "Epoch 11/100\n",
            "278/278 [==============================] - 1s 3ms/step - loss: 4948062371840.0000 - mae: 591802.0625\n",
            "Epoch 12/100\n",
            "278/278 [==============================] - 1s 3ms/step - loss: 4941446381568.0000 - mae: 601184.6875\n",
            "Epoch 13/100\n",
            "278/278 [==============================] - 1s 3ms/step - loss: 4897020313600.0000 - mae: 582426.1875\n",
            "Epoch 14/100\n",
            "278/278 [==============================] - 1s 3ms/step - loss: 4893659627520.0000 - mae: 587547.8750\n",
            "Epoch 15/100\n",
            "278/278 [==============================] - 1s 3ms/step - loss: 4854317580288.0000 - mae: 588424.0000\n",
            "Epoch 16/100\n",
            "278/278 [==============================] - 1s 3ms/step - loss: 4873952690176.0000 - mae: 580656.7500\n",
            "Epoch 17/100\n",
            "278/278 [==============================] - 1s 3ms/step - loss: 4842734485504.0000 - mae: 589489.8125\n",
            "Epoch 18/100\n",
            "278/278 [==============================] - 1s 3ms/step - loss: 4854647881728.0000 - mae: 584219.7500\n",
            "Epoch 19/100\n",
            "278/278 [==============================] - 1s 3ms/step - loss: 4826471596032.0000 - mae: 588592.2500\n",
            "Epoch 20/100\n",
            "278/278 [==============================] - 1s 3ms/step - loss: 4807205060608.0000 - mae: 574689.2500\n",
            "Epoch 21/100\n",
            "278/278 [==============================] - 1s 3ms/step - loss: 4799135744000.0000 - mae: 586439.6875\n",
            "Epoch 22/100\n",
            "278/278 [==============================] - 1s 3ms/step - loss: 4781370769408.0000 - mae: 585999.5625\n",
            "Epoch 23/100\n",
            "278/278 [==============================] - 1s 3ms/step - loss: 4768165527552.0000 - mae: 578867.8125\n",
            "Epoch 24/100\n",
            "278/278 [==============================] - 1s 3ms/step - loss: 4746823860224.0000 - mae: 586522.5625\n",
            "Epoch 25/100\n",
            "278/278 [==============================] - 1s 3ms/step - loss: 4735592562688.0000 - mae: 581115.1250\n",
            "Epoch 26/100\n",
            "278/278 [==============================] - 1s 3ms/step - loss: 4687919054848.0000 - mae: 583121.4375\n",
            "Epoch 27/100\n",
            "278/278 [==============================] - 1s 3ms/step - loss: 4656435560448.0000 - mae: 573834.6875\n",
            "Epoch 28/100\n",
            "278/278 [==============================] - 1s 3ms/step - loss: 4526234402816.0000 - mae: 580440.2500\n",
            "Epoch 29/100\n",
            "278/278 [==============================] - 1s 3ms/step - loss: 4609623457792.0000 - mae: 574595.0000\n",
            "Epoch 30/100\n",
            "278/278 [==============================] - 1s 3ms/step - loss: 4503745593344.0000 - mae: 570872.4375\n",
            "Epoch 31/100\n",
            "278/278 [==============================] - 1s 3ms/step - loss: 4447246221312.0000 - mae: 582228.8750\n",
            "Epoch 32/100\n",
            "278/278 [==============================] - 1s 3ms/step - loss: 4422850052096.0000 - mae: 576444.3125\n",
            "Epoch 33/100\n",
            "278/278 [==============================] - 1s 3ms/step - loss: 4275168870400.0000 - mae: 556527.1875\n",
            "Epoch 34/100\n",
            "278/278 [==============================] - 1s 3ms/step - loss: 4244588986368.0000 - mae: 560407.8750\n",
            "Epoch 35/100\n",
            "278/278 [==============================] - 1s 3ms/step - loss: 4249711017984.0000 - mae: 566252.3125\n",
            "Epoch 36/100\n",
            "278/278 [==============================] - 1s 3ms/step - loss: 4172415500288.0000 - mae: 556107.1250\n",
            "Epoch 37/100\n",
            "278/278 [==============================] - 1s 3ms/step - loss: 4029439279104.0000 - mae: 551254.8750\n",
            "Epoch 38/100\n",
            "278/278 [==============================] - 1s 3ms/step - loss: 3949154795520.0000 - mae: 552809.7500\n",
            "Epoch 39/100\n",
            "278/278 [==============================] - 1s 3ms/step - loss: 3997979639808.0000 - mae: 536750.3125\n",
            "Epoch 40/100\n",
            "278/278 [==============================] - 1s 3ms/step - loss: 3822630731776.0000 - mae: 537850.1250\n",
            "Epoch 41/100\n",
            "278/278 [==============================] - 1s 3ms/step - loss: 3732553334784.0000 - mae: 534157.1250\n",
            "Epoch 42/100\n",
            "278/278 [==============================] - 1s 3ms/step - loss: 3626904322048.0000 - mae: 538035.8750\n",
            "Epoch 43/100\n",
            "278/278 [==============================] - 1s 3ms/step - loss: 3569141940224.0000 - mae: 510767.5625\n",
            "Epoch 44/100\n",
            "278/278 [==============================] - 1s 3ms/step - loss: 3727502868480.0000 - mae: 535999.8750\n",
            "Epoch 45/100\n",
            "278/278 [==============================] - 1s 3ms/step - loss: 3412370391040.0000 - mae: 518915.1250\n",
            "Epoch 46/100\n",
            "278/278 [==============================] - 1s 3ms/step - loss: 3320130568192.0000 - mae: 512017.5312\n",
            "Epoch 47/100\n",
            "278/278 [==============================] - 1s 3ms/step - loss: 3264205815808.0000 - mae: 505210.9688\n",
            "Epoch 48/100\n",
            "278/278 [==============================] - 1s 3ms/step - loss: 3095865851904.0000 - mae: 490151.8750\n",
            "Epoch 49/100\n",
            "278/278 [==============================] - 1s 3ms/step - loss: 3045052907520.0000 - mae: 482560.6562\n",
            "Epoch 50/100\n",
            "278/278 [==============================] - 1s 3ms/step - loss: 2966524264448.0000 - mae: 483742.9688\n",
            "Epoch 51/100\n",
            "278/278 [==============================] - 1s 3ms/step - loss: 2991284551680.0000 - mae: 501616.5000\n",
            "Epoch 52/100\n",
            "278/278 [==============================] - 1s 3ms/step - loss: 2860402343936.0000 - mae: 485307.0625\n",
            "Epoch 53/100\n",
            "278/278 [==============================] - 1s 3ms/step - loss: 2737922375680.0000 - mae: 469428.6875\n",
            "Epoch 54/100\n",
            "278/278 [==============================] - 1s 3ms/step - loss: 2696142913536.0000 - mae: 465771.9375\n",
            "Epoch 55/100\n",
            "278/278 [==============================] - 1s 3ms/step - loss: 2770583945216.0000 - mae: 461078.1562\n",
            "Epoch 56/100\n",
            "278/278 [==============================] - 1s 3ms/step - loss: 2692798218240.0000 - mae: 456075.6875\n",
            "Epoch 57/100\n",
            "278/278 [==============================] - 1s 3ms/step - loss: 2556506144768.0000 - mae: 445980.6562\n",
            "Epoch 58/100\n",
            "278/278 [==============================] - 1s 3ms/step - loss: 2385540546560.0000 - mae: 436645.4688\n",
            "Epoch 59/100\n",
            "278/278 [==============================] - 1s 3ms/step - loss: 2374505332736.0000 - mae: 440178.4375\n",
            "Epoch 60/100\n",
            "278/278 [==============================] - 1s 3ms/step - loss: 2407925284864.0000 - mae: 444252.0938\n",
            "Epoch 61/100\n",
            "278/278 [==============================] - 1s 3ms/step - loss: 2349241991168.0000 - mae: 444828.7812\n",
            "Epoch 62/100\n",
            "278/278 [==============================] - 1s 3ms/step - loss: 2192373579776.0000 - mae: 433237.3125\n",
            "Epoch 63/100\n",
            "278/278 [==============================] - 1s 3ms/step - loss: 2198302752768.0000 - mae: 415505.9062\n",
            "Epoch 64/100\n",
            "278/278 [==============================] - 1s 3ms/step - loss: 2130976571392.0000 - mae: 427298.4688\n",
            "Epoch 65/100\n",
            "278/278 [==============================] - 1s 3ms/step - loss: 2119162789888.0000 - mae: 416708.1562\n",
            "Epoch 66/100\n",
            "278/278 [==============================] - 1s 3ms/step - loss: 2264319918080.0000 - mae: 419517.6875\n",
            "Epoch 67/100\n",
            "278/278 [==============================] - 1s 3ms/step - loss: 2029953089536.0000 - mae: 402775.8438\n",
            "Epoch 68/100\n",
            "278/278 [==============================] - 1s 3ms/step - loss: 2185237233664.0000 - mae: 418558.4375\n",
            "Epoch 69/100\n",
            "278/278 [==============================] - 1s 3ms/step - loss: 1977544474624.0000 - mae: 395798.8750\n",
            "Epoch 70/100\n",
            "278/278 [==============================] - 1s 3ms/step - loss: 2120344797184.0000 - mae: 414789.0312\n",
            "Epoch 71/100\n",
            "278/278 [==============================] - 1s 3ms/step - loss: 1821463674880.0000 - mae: 398488.6875\n",
            "Epoch 72/100\n",
            "278/278 [==============================] - 1s 3ms/step - loss: 1833485336576.0000 - mae: 385361.3125\n",
            "Epoch 73/100\n",
            "278/278 [==============================] - 1s 4ms/step - loss: 1906047320064.0000 - mae: 402060.2188\n",
            "Epoch 74/100\n",
            "278/278 [==============================] - 1s 3ms/step - loss: 1860154687488.0000 - mae: 387706.1250\n",
            "Epoch 75/100\n",
            "278/278 [==============================] - 1s 3ms/step - loss: 1671703429120.0000 - mae: 380392.4688\n",
            "Epoch 76/100\n",
            "278/278 [==============================] - 1s 3ms/step - loss: 1884568027136.0000 - mae: 391722.0312\n",
            "Epoch 77/100\n",
            "278/278 [==============================] - 1s 3ms/step - loss: 1702725812224.0000 - mae: 377577.3750\n",
            "Epoch 78/100\n",
            "278/278 [==============================] - 1s 3ms/step - loss: 1811367985152.0000 - mae: 383265.0938\n",
            "Epoch 79/100\n",
            "278/278 [==============================] - 1s 3ms/step - loss: 1659730788352.0000 - mae: 372573.7500\n",
            "Epoch 80/100\n",
            "278/278 [==============================] - 1s 3ms/step - loss: 1702034407424.0000 - mae: 371109.5000\n",
            "Epoch 81/100\n",
            "278/278 [==============================] - 1s 3ms/step - loss: 1877356707840.0000 - mae: 394863.1562\n",
            "Epoch 82/100\n",
            "278/278 [==============================] - 1s 3ms/step - loss: 1885860134912.0000 - mae: 373967.2500\n",
            "Epoch 83/100\n",
            "278/278 [==============================] - 1s 3ms/step - loss: 1923448832000.0000 - mae: 388127.1875\n",
            "Epoch 84/100\n",
            "278/278 [==============================] - 1s 3ms/step - loss: 1739544068096.0000 - mae: 371512.3750\n",
            "Epoch 85/100\n",
            "278/278 [==============================] - 1s 4ms/step - loss: 1703935213568.0000 - mae: 374385.1562\n",
            "Epoch 86/100\n",
            "278/278 [==============================] - 1s 5ms/step - loss: 1665661009920.0000 - mae: 368718.6875\n",
            "Epoch 87/100\n",
            "278/278 [==============================] - 1s 5ms/step - loss: 1470638325760.0000 - mae: 365303.5000\n",
            "Epoch 88/100\n",
            "278/278 [==============================] - 1s 4ms/step - loss: 1808846028800.0000 - mae: 366756.4688\n",
            "Epoch 89/100\n",
            "278/278 [==============================] - 1s 3ms/step - loss: 1696976338944.0000 - mae: 366677.2188\n",
            "Epoch 90/100\n",
            "278/278 [==============================] - 1s 3ms/step - loss: 1799685931008.0000 - mae: 373842.8438\n",
            "Epoch 91/100\n",
            "278/278 [==============================] - 1s 3ms/step - loss: 1458405638144.0000 - mae: 352306.7188\n",
            "Epoch 92/100\n",
            "278/278 [==============================] - 1s 3ms/step - loss: 1634059681792.0000 - mae: 367749.7812\n",
            "Epoch 93/100\n",
            "278/278 [==============================] - 1s 3ms/step - loss: 1518439366656.0000 - mae: 349377.5625\n",
            "Epoch 94/100\n",
            "278/278 [==============================] - 1s 3ms/step - loss: 1518566244352.0000 - mae: 346854.9375\n",
            "Epoch 95/100\n",
            "278/278 [==============================] - 1s 3ms/step - loss: 1554443665408.0000 - mae: 352125.9375\n",
            "Epoch 96/100\n",
            "278/278 [==============================] - 1s 3ms/step - loss: 1413373624320.0000 - mae: 341228.2812\n",
            "Epoch 97/100\n",
            "278/278 [==============================] - 1s 3ms/step - loss: 1390772486144.0000 - mae: 358005.3750\n",
            "Epoch 98/100\n",
            "278/278 [==============================] - 1s 3ms/step - loss: 1427862192128.0000 - mae: 345077.1562\n",
            "Epoch 99/100\n",
            "278/278 [==============================] - 1s 3ms/step - loss: 1652742946816.0000 - mae: 357968.0312\n",
            "Epoch 100/100\n",
            "278/278 [==============================] - 1s 3ms/step - loss: 1563169128448.0000 - mae: 360220.3438\n"
          ]
        }
      ]
    },
    {
      "cell_type": "code",
      "source": [
        "loss = pd.DataFrame(history.history)\n",
        "loss"
      ],
      "metadata": {
        "colab": {
          "base_uri": "https://localhost:8080/",
          "height": 424
        },
        "id": "0XqqiMxkJdwb",
        "outputId": "f407570d-a98f-426f-db74-cd96dee2dc62"
      },
      "execution_count": null,
      "outputs": [
        {
          "output_type": "execute_result",
          "data": {
            "text/plain": [
              "            loss           mae\n",
              "0   5.378368e+12  654820.06250\n",
              "1   5.223356e+12  645133.87500\n",
              "2   5.159621e+12  646032.81250\n",
              "3   5.122862e+12  631839.31250\n",
              "4   5.111053e+12  626822.06250\n",
              "..           ...           ...\n",
              "95  1.413374e+12  341228.28125\n",
              "96  1.390772e+12  358005.37500\n",
              "97  1.427862e+12  345077.15625\n",
              "98  1.652743e+12  357968.03125\n",
              "99  1.563169e+12  360220.34375\n",
              "\n",
              "[100 rows x 2 columns]"
            ],
            "text/html": [
              "\n",
              "  <div id=\"df-3389a4af-906c-43e7-ad31-e7a5adfbc820\">\n",
              "    <div class=\"colab-df-container\">\n",
              "      <div>\n",
              "<style scoped>\n",
              "    .dataframe tbody tr th:only-of-type {\n",
              "        vertical-align: middle;\n",
              "    }\n",
              "\n",
              "    .dataframe tbody tr th {\n",
              "        vertical-align: top;\n",
              "    }\n",
              "\n",
              "    .dataframe thead th {\n",
              "        text-align: right;\n",
              "    }\n",
              "</style>\n",
              "<table border=\"1\" class=\"dataframe\">\n",
              "  <thead>\n",
              "    <tr style=\"text-align: right;\">\n",
              "      <th></th>\n",
              "      <th>loss</th>\n",
              "      <th>mae</th>\n",
              "    </tr>\n",
              "  </thead>\n",
              "  <tbody>\n",
              "    <tr>\n",
              "      <th>0</th>\n",
              "      <td>5.378368e+12</td>\n",
              "      <td>654820.06250</td>\n",
              "    </tr>\n",
              "    <tr>\n",
              "      <th>1</th>\n",
              "      <td>5.223356e+12</td>\n",
              "      <td>645133.87500</td>\n",
              "    </tr>\n",
              "    <tr>\n",
              "      <th>2</th>\n",
              "      <td>5.159621e+12</td>\n",
              "      <td>646032.81250</td>\n",
              "    </tr>\n",
              "    <tr>\n",
              "      <th>3</th>\n",
              "      <td>5.122862e+12</td>\n",
              "      <td>631839.31250</td>\n",
              "    </tr>\n",
              "    <tr>\n",
              "      <th>4</th>\n",
              "      <td>5.111053e+12</td>\n",
              "      <td>626822.06250</td>\n",
              "    </tr>\n",
              "    <tr>\n",
              "      <th>...</th>\n",
              "      <td>...</td>\n",
              "      <td>...</td>\n",
              "    </tr>\n",
              "    <tr>\n",
              "      <th>95</th>\n",
              "      <td>1.413374e+12</td>\n",
              "      <td>341228.28125</td>\n",
              "    </tr>\n",
              "    <tr>\n",
              "      <th>96</th>\n",
              "      <td>1.390772e+12</td>\n",
              "      <td>358005.37500</td>\n",
              "    </tr>\n",
              "    <tr>\n",
              "      <th>97</th>\n",
              "      <td>1.427862e+12</td>\n",
              "      <td>345077.15625</td>\n",
              "    </tr>\n",
              "    <tr>\n",
              "      <th>98</th>\n",
              "      <td>1.652743e+12</td>\n",
              "      <td>357968.03125</td>\n",
              "    </tr>\n",
              "    <tr>\n",
              "      <th>99</th>\n",
              "      <td>1.563169e+12</td>\n",
              "      <td>360220.34375</td>\n",
              "    </tr>\n",
              "  </tbody>\n",
              "</table>\n",
              "<p>100 rows × 2 columns</p>\n",
              "</div>\n",
              "      <button class=\"colab-df-convert\" onclick=\"convertToInteractive('df-3389a4af-906c-43e7-ad31-e7a5adfbc820')\"\n",
              "              title=\"Convert this dataframe to an interactive table.\"\n",
              "              style=\"display:none;\">\n",
              "        \n",
              "  <svg xmlns=\"http://www.w3.org/2000/svg\" height=\"24px\"viewBox=\"0 0 24 24\"\n",
              "       width=\"24px\">\n",
              "    <path d=\"M0 0h24v24H0V0z\" fill=\"none\"/>\n",
              "    <path d=\"M18.56 5.44l.94 2.06.94-2.06 2.06-.94-2.06-.94-.94-2.06-.94 2.06-2.06.94zm-11 1L8.5 8.5l.94-2.06 2.06-.94-2.06-.94L8.5 2.5l-.94 2.06-2.06.94zm10 10l.94 2.06.94-2.06 2.06-.94-2.06-.94-.94-2.06-.94 2.06-2.06.94z\"/><path d=\"M17.41 7.96l-1.37-1.37c-.4-.4-.92-.59-1.43-.59-.52 0-1.04.2-1.43.59L10.3 9.45l-7.72 7.72c-.78.78-.78 2.05 0 2.83L4 21.41c.39.39.9.59 1.41.59.51 0 1.02-.2 1.41-.59l7.78-7.78 2.81-2.81c.8-.78.8-2.07 0-2.86zM5.41 20L4 18.59l7.72-7.72 1.47 1.35L5.41 20z\"/>\n",
              "  </svg>\n",
              "      </button>\n",
              "      \n",
              "  <style>\n",
              "    .colab-df-container {\n",
              "      display:flex;\n",
              "      flex-wrap:wrap;\n",
              "      gap: 12px;\n",
              "    }\n",
              "\n",
              "    .colab-df-convert {\n",
              "      background-color: #E8F0FE;\n",
              "      border: none;\n",
              "      border-radius: 50%;\n",
              "      cursor: pointer;\n",
              "      display: none;\n",
              "      fill: #1967D2;\n",
              "      height: 32px;\n",
              "      padding: 0 0 0 0;\n",
              "      width: 32px;\n",
              "    }\n",
              "\n",
              "    .colab-df-convert:hover {\n",
              "      background-color: #E2EBFA;\n",
              "      box-shadow: 0px 1px 2px rgba(60, 64, 67, 0.3), 0px 1px 3px 1px rgba(60, 64, 67, 0.15);\n",
              "      fill: #174EA6;\n",
              "    }\n",
              "\n",
              "    [theme=dark] .colab-df-convert {\n",
              "      background-color: #3B4455;\n",
              "      fill: #D2E3FC;\n",
              "    }\n",
              "\n",
              "    [theme=dark] .colab-df-convert:hover {\n",
              "      background-color: #434B5C;\n",
              "      box-shadow: 0px 1px 3px 1px rgba(0, 0, 0, 0.15);\n",
              "      filter: drop-shadow(0px 1px 2px rgba(0, 0, 0, 0.3));\n",
              "      fill: #FFFFFF;\n",
              "    }\n",
              "  </style>\n",
              "\n",
              "      <script>\n",
              "        const buttonEl =\n",
              "          document.querySelector('#df-3389a4af-906c-43e7-ad31-e7a5adfbc820 button.colab-df-convert');\n",
              "        buttonEl.style.display =\n",
              "          google.colab.kernel.accessAllowed ? 'block' : 'none';\n",
              "\n",
              "        async function convertToInteractive(key) {\n",
              "          const element = document.querySelector('#df-3389a4af-906c-43e7-ad31-e7a5adfbc820');\n",
              "          const dataTable =\n",
              "            await google.colab.kernel.invokeFunction('convertToInteractive',\n",
              "                                                     [key], {});\n",
              "          if (!dataTable) return;\n",
              "\n",
              "          const docLinkHtml = 'Like what you see? Visit the ' +\n",
              "            '<a target=\"_blank\" href=https://colab.research.google.com/notebooks/data_table.ipynb>data table notebook</a>'\n",
              "            + ' to learn more about interactive tables.';\n",
              "          element.innerHTML = '';\n",
              "          dataTable['output_type'] = 'display_data';\n",
              "          await google.colab.output.renderOutput(dataTable, element);\n",
              "          const docLink = document.createElement('div');\n",
              "          docLink.innerHTML = docLinkHtml;\n",
              "          element.appendChild(docLink);\n",
              "        }\n",
              "      </script>\n",
              "    </div>\n",
              "  </div>\n",
              "  "
            ]
          },
          "metadata": {},
          "execution_count": 156
        }
      ]
    },
    {
      "cell_type": "code",
      "execution_count": null,
      "metadata": {
        "colab": {
          "base_uri": "https://localhost:8080/"
        },
        "id": "81RdlNlQMgwS",
        "outputId": "c5eac57b-238e-4e44-9254-61a83b090b2c"
      },
      "outputs": [
        {
          "output_type": "execute_result",
          "data": {
            "text/plain": [
              "388893005573.8062"
            ]
          },
          "metadata": {},
          "execution_count": 45
        }
      ],
      "source": [
        "mean_squared_error(y_test, y_test_pred)"
      ]
    },
    {
      "cell_type": "code",
      "execution_count": null,
      "metadata": {
        "colab": {
          "base_uri": "https://localhost:8080/"
        },
        "id": "cP0qO4GnMgwS",
        "outputId": "7b8343c6-ec61-48b3-d551-8f2624313fc8"
      },
      "outputs": [
        {
          "output_type": "execute_result",
          "data": {
            "text/plain": [
              "0.9728597258597328"
            ]
          },
          "metadata": {},
          "execution_count": 46
        }
      ],
      "source": [
        "r2_score(y_train, y_train_pred)"
      ]
    },
    {
      "cell_type": "code",
      "execution_count": null,
      "metadata": {
        "colab": {
          "base_uri": "https://localhost:8080/"
        },
        "id": "TLI0J46oMgwT",
        "outputId": "9d284249-4dff-4b36-cbbc-f80ed3313db9"
      },
      "outputs": [
        {
          "output_type": "execute_result",
          "data": {
            "text/plain": [
              "0.9195080668587611"
            ]
          },
          "metadata": {},
          "execution_count": 47
        }
      ],
      "source": [
        "r2_score(y_test, y_test_pred)"
      ]
    },
    {
      "cell_type": "markdown",
      "source": [
        "Feature Importance"
      ],
      "metadata": {
        "id": "k6h1H0UbVwDB"
      }
    },
    {
      "cell_type": "code",
      "execution_count": null,
      "metadata": {
        "colab": {
          "base_uri": "https://localhost:8080/",
          "height": 312
        },
        "id": "V90HY9QGMgwT",
        "outputId": "e724eaf8-3592-475f-d676-a22d738bf9ae"
      },
      "outputs": [
        {
          "output_type": "execute_result",
          "data": {
            "text/plain": [
              "Text(0.5, 0, 'score')"
            ]
          },
          "metadata": {},
          "execution_count": 48
        },
        {
          "output_type": "display_data",
          "data": {
            "text/plain": [
              "<Figure size 432x288 with 1 Axes>"
            ],
            "image/png": "[encoded data removed]"
          },
          "metadata": {
            "needs_background": "light"
          }
        }
      ],
      "source": [
        "sorted_idx = rf_reg.feature_importances_.argsort()\n",
        "plt.barh(list(x.columns[sorted_idx]), rf_reg.feature_importances_[sorted_idx])\n",
        "plt.title('Feature Importances')\n",
        "plt.ylabel('Feature')\n",
        "plt.xlabel('score')"
      ]
    },
    {
      "cell_type": "code",
      "execution_count": null,
      "metadata": {
        "id": "kJcJZHhzMgwT"
      },
      "outputs": [],
      "source": [
        ""
      ]
    },
    {
      "cell_type": "markdown",
      "metadata": {
        "id": "Wj-Y1QlvMgwT"
      },
      "source": [
        "## Linear Regression"
      ]
    },
    {
      "cell_type": "code",
      "execution_count": null,
      "metadata": {
        "id": "hBsRll_xMgwT"
      },
      "outputs": [],
      "source": [
        "from sklearn.linear_model import LinearRegression"
      ]
    },
    {
      "cell_type": "code",
      "execution_count": null,
      "metadata": {
        "id": "tttIbZEzMgwU"
      },
      "outputs": [],
      "source": [
        "lr = LinearRegression(n_jobs=-1)"
      ]
    },
    {
      "cell_type": "code",
      "execution_count": null,
      "metadata": {
        "colab": {
          "base_uri": "https://localhost:8080/"
        },
        "id": "_1xWlk5HMgwU",
        "outputId": "edadbe8b-5f8b-44d0-ef96-82c9c4ca0e37"
      },
      "outputs": [
        {
          "output_type": "execute_result",
          "data": {
            "text/plain": [
              "LinearRegression(n_jobs=-1)"
            ]
          },
          "metadata": {},
          "execution_count": 51
        }
      ],
      "source": [
        "lr.fit(x_train_std, y_train)"
      ]
    },
    {
      "cell_type": "markdown",
      "metadata": {
        "id": "-7Pa4VnXMgwU"
      },
      "source": [
        "### Predicting with the Model"
      ]
    },
    {
      "cell_type": "code",
      "execution_count": null,
      "metadata": {
        "id": "lAqZLkZiMgwU"
      },
      "outputs": [],
      "source": [
        "y_test_pred = lr.predict(x_test_std)\n",
        "y_train_pred = lr.predict(x_train_std)"
      ]
    },
    {
      "cell_type": "code",
      "execution_count": null,
      "metadata": {
        "colab": {
          "base_uri": "https://localhost:8080/"
        },
        "id": "2OqKDiqTMgwU",
        "outputId": "ff400503-7a01-4eaa-a8df-9aae28eae1d0"
      },
      "outputs": [
        {
          "output_type": "execute_result",
          "data": {
            "text/plain": [
              "array([ 6.94466985e+05,  1.09241839e+06,  1.32839974e+06, -3.98253534e+05,\n",
              "        9.57983488e+05, -2.70091658e+05, -4.32713216e+05,  3.08042031e+05,\n",
              "        1.00461655e+06,  2.28260585e+05,  5.62381221e+05,  3.28408152e+05,\n",
              "        1.02864603e+06,  7.57160013e+05,  3.45233192e+04,  1.32304885e+06,\n",
              "        6.80852867e+05, -2.43791601e+05,  3.50685843e+05,  4.54837090e+05,\n",
              "        1.28239374e+06, -5.91549379e+04,  3.85509000e+04,  1.09870445e+06,\n",
              "        6.51256955e+05, -6.89218622e+05, -1.91487349e+05,  1.16529792e+06,\n",
              "       -5.45141651e+05,  2.96458601e+05, -2.49683150e+05,  3.72686717e+05,\n",
              "       -7.41327960e+04,  1.07251985e+06,  7.73475416e+05,  6.39990494e+05,\n",
              "        1.45758292e+05,  1.06818470e+06,  1.03074454e+06, -5.16629313e+05,\n",
              "        1.12053040e+06,  1.52319964e+05,  6.63720091e+05, -6.12998409e+05,\n",
              "        6.80257810e+05, -2.96461012e+05, -5.91837864e+04,  1.12122281e+06,\n",
              "        2.82826440e+05,  1.17492913e+06,  1.42198228e+06,  4.26566752e+05,\n",
              "        5.30433715e+05,  8.86854479e+05, -1.45940657e+05,  8.50271387e+05,\n",
              "        1.32929245e+06,  5.51166907e+05,  4.05679083e+05,  9.68309518e+05,\n",
              "        1.09809995e+06,  6.64394444e+05, -5.16595652e+05,  2.95701161e+05,\n",
              "        5.66988283e+04,  9.12594965e+05,  2.23632799e+05,  9.78456840e+05,\n",
              "        9.81303877e+04,  1.23284866e+05,  2.77778869e+05,  5.41308842e+05,\n",
              "        3.15805220e+05,  5.01271667e+05,  7.15636511e+05,  4.31082438e+05,\n",
              "        8.61607008e+05,  8.89392852e+05, -5.45841637e+05, -2.99651749e+05,\n",
              "        3.19135108e+05,  5.36254026e+05,  1.89143963e+05, -5.56034881e+05,\n",
              "       -2.31683692e+05, -7.63612366e+04, -2.53982029e+05, -2.64148419e+05,\n",
              "       -1.89620364e+05,  5.26357280e+05, -4.81152468e+05,  7.96041138e+05,\n",
              "        3.39252932e+05,  5.03313034e+05,  1.31492092e+06,  7.83706656e+05,\n",
              "        1.55576371e+06,  6.93753218e+05,  2.07767102e+05,  1.01627311e+06,\n",
              "        6.72898501e+05,  8.45561070e+05,  9.05497175e+05, -1.48387373e+05,\n",
              "        8.90880524e+05,  1.79519323e+06,  1.66372718e+06, -4.13656957e+05,\n",
              "       -2.94708074e+05, -4.49953603e+04,  1.49607425e+06, -3.56888667e+05,\n",
              "        8.30751849e+05, -4.78419313e+05,  6.32256869e+05,  7.56105904e+05,\n",
              "       -5.43767154e+05, -3.27737842e+05, -1.62596462e+03, -4.67964299e+05,\n",
              "        9.60026862e+05,  2.00035445e+05,  1.13625565e+06,  1.23099215e+06,\n",
              "       -2.03700291e+05,  7.69384519e+05,  1.04150482e+06,  6.71055274e+05,\n",
              "        6.68296860e+05, -2.39346142e+05,  9.40209642e+05,  6.70590191e+05,\n",
              "       -4.84572118e+04, -7.08654354e+05,  1.43929725e+06,  3.32132545e+05,\n",
              "       -5.38701211e+05,  5.38889196e+05,  8.50920615e+05,  6.25898911e+05,\n",
              "        5.02395607e+04,  8.76681202e+05,  7.65894566e+04,  5.25938702e+05,\n",
              "        1.40472458e+06,  4.57318538e+04,  5.77788124e+05, -2.22463398e+05,\n",
              "       -4.29979994e+05,  1.48284990e+06,  1.17829480e+06,  1.80488418e+06,\n",
              "        1.04617645e+06,  1.20961671e+06, -2.18302569e+05, -5.32108689e+04,\n",
              "        5.71482166e+05, -2.55167236e+04, -5.40048263e+05,  1.90941907e+05,\n",
              "       -3.13220249e+05,  3.78631378e+04,  5.24785743e+05,  9.33778543e+05,\n",
              "        5.68243950e+05, -5.01633325e+05, -4.23586849e+04,  7.54465856e+05,\n",
              "        1.11396433e+06,  1.19316748e+06, -4.20432504e+05,  5.09261299e+05,\n",
              "       -2.32948350e+05,  1.03002568e+06,  4.85931633e+05,  8.61374489e+05,\n",
              "        1.43496235e+05,  6.34951331e+05, -2.19907461e+05,  6.30744882e+05,\n",
              "        3.04593748e+05,  1.24258254e+06,  6.49789725e+04,  8.86102535e+05,\n",
              "        6.91406367e+05,  2.05595660e+05,  8.86438493e+05, -2.54686291e+05,\n",
              "       -1.64130497e+05,  5.94954255e+05,  6.88452454e+05,  8.06067623e+05,\n",
              "        1.19287984e+06, -3.21335195e+05,  7.45802977e+05,  5.85156887e+05,\n",
              "        9.14234745e+05,  2.25384392e+04,  6.21441382e+05,  1.18328319e+05,\n",
              "        1.62900124e+05,  4.15121956e+05,  5.85616723e+05, -6.53673855e+05,\n",
              "        4.64068506e+05, -3.81005097e+04,  2.66621693e+05,  4.31076642e+05,\n",
              "       -1.27423112e+05,  2.27376898e+05, -2.68747795e+05,  1.11761255e+06,\n",
              "       -8.29308100e+04,  1.50966288e+06,  4.93150523e+05,  1.37848032e+06,\n",
              "        8.48706327e+05,  1.22531464e+06,  3.88439377e+05,  2.10712230e+05,\n",
              "       -8.56072347e+04,  1.03762821e+06,  7.35199970e+04,  1.05780676e+04,\n",
              "       -7.12956545e+05, -6.61336423e+03,  1.11455448e+06,  3.15507218e+05,\n",
              "        3.59140395e+05,  6.73645350e+04, -3.23076091e+05,  2.01669326e+04,\n",
              "        3.26712451e+05,  1.08410784e+06,  4.88744277e+05,  1.00716848e+06,\n",
              "        8.28130977e+05, -1.68456324e+05,  1.28466009e+06,  9.59063631e+05,\n",
              "        5.24023391e+05,  1.00729806e+06,  2.75944698e+05,  6.55042196e+05,\n",
              "        6.25602279e+05,  2.88019888e+05,  1.54521363e+06, -9.64057913e+04,\n",
              "        8.07375266e+05, -3.23687847e+05, -1.87656797e+05,  1.49888720e+06,\n",
              "        9.64266341e+05, -5.21414433e+05,  1.74363815e+06,  1.39122767e+05,\n",
              "       -3.22807264e+05,  3.96257153e+05, -3.76177909e+05,  8.27181522e+05,\n",
              "        7.53297597e+05,  8.64210244e+05,  1.26023459e+06, -3.39074186e+04,\n",
              "        1.51518166e+05,  3.15319119e+05,  9.54422636e+05,  1.11819289e+05,\n",
              "       -5.81591626e+05,  8.71864873e+05, -6.64938832e+05,  1.26246235e+06,\n",
              "        1.44262602e+06,  1.14476388e+06,  1.31894089e+06,  1.50962629e+06,\n",
              "        2.64451957e+05,  9.82483079e+05,  1.29899225e+06,  5.04119534e+05,\n",
              "        1.01315274e+06,  1.09330421e+06,  9.14878877e+05,  9.99352024e+05,\n",
              "        3.26991648e+05, -2.90114490e+05,  2.59103206e+05,  1.24481511e+06,\n",
              "       -3.27414956e+05,  6.69453413e+05, -1.93887541e+05,  1.14727391e+06,\n",
              "       -1.87236530e+05,  3.99044993e+05,  2.66329722e+05,  9.65245425e+05,\n",
              "        1.26320526e+06,  7.68234278e+05,  3.98901734e+04,  2.25124986e+05,\n",
              "        1.41772544e+06, -6.75536827e+04,  7.60964753e+05,  2.56660745e+05,\n",
              "       -1.11353535e+05,  1.44303178e+06, -4.69244110e+05,  8.25380282e+05,\n",
              "        6.63069286e+05,  9.76686370e+05,  6.19561817e+05, -2.60800635e+04,\n",
              "        3.99839808e+05,  5.75940276e+04,  1.77493184e+04,  9.53736896e+05,\n",
              "        7.99130651e+04, -2.64732885e+05,  1.39766799e+06,  6.96854002e+04,\n",
              "        1.95993549e+05,  5.90458199e+04,  1.66397803e+06,  1.81990588e+06,\n",
              "        2.63826866e+05, -5.25457616e+05,  3.99649375e+04,  5.93373901e+05,\n",
              "        1.68150293e+05,  6.19623595e+04, -5.36173115e+05,  1.37465225e+06,\n",
              "        1.37350255e+06,  1.22847718e+06,  6.84017434e+05,  1.18630061e+06,\n",
              "        8.33354441e+05, -2.89909594e+05,  3.98923172e+05,  7.78838385e+05,\n",
              "       -6.53486091e+04,  8.43323074e+05, -3.74883872e+05,  5.03831216e+05,\n",
              "        5.65740062e+05,  7.44606361e+05,  7.13040935e+05,  1.28484304e+06,\n",
              "        7.87144451e+05,  1.03331547e+05,  1.50020152e+06,  4.86553301e+05,\n",
              "       -4.54669181e+05,  4.69330892e+05,  2.47459233e+05, -3.76495752e+05,\n",
              "        1.87692031e+06,  6.65115123e+05,  3.56891304e+05, -6.49492316e+04,\n",
              "        1.49425477e+06,  6.86485345e+05,  5.31445644e+05,  4.34929701e+05,\n",
              "        2.56420473e+04, -1.12439517e+05,  3.93641756e+05,  5.97337274e+05,\n",
              "        6.34932358e+05,  7.59401924e+04, -5.07615023e+05,  5.91082454e+05,\n",
              "        3.90149638e+05,  8.94295131e+04,  2.00878202e+05,  6.70571611e+05,\n",
              "       -5.81674927e+05,  1.70302894e+06,  5.19057392e+05,  3.25561014e+05,\n",
              "        7.60866711e+04,  1.00364886e+06,  9.22308430e+05, -1.05160753e+05,\n",
              "        1.36887442e+06, -7.49855903e+05,  6.71266540e+05,  1.66797263e+06,\n",
              "        1.63905418e+06,  9.38540001e+05,  1.07485927e+06, -4.75415963e+05,\n",
              "        2.42854872e+05,  7.43301877e+05,  1.22123571e+04,  7.89024534e+05,\n",
              "        6.87870733e+05,  1.20880843e+06, -2.13766260e+05,  5.81219907e+05,\n",
              "        1.32006748e+06, -3.68594924e+05,  9.20424425e+05, -4.85127538e+05,\n",
              "        2.02145684e+06, -1.27346180e+05, -9.53387464e+04,  7.81481221e+05,\n",
              "        2.96603164e+04,  4.51413532e+05,  2.39687562e+05,  1.16845346e+06,\n",
              "       -4.67890400e+04,  7.20778771e+05,  5.78207432e+05, -1.93993162e+05,\n",
              "        4.16344394e+05,  1.86614366e+05,  4.89703483e+05,  1.48705592e+06,\n",
              "        3.75033287e+05,  6.37301520e+05,  2.98050501e+05,  9.08490350e+05,\n",
              "        9.76656567e+05,  3.24726598e+04,  2.06323800e+05, -4.33047083e+05,\n",
              "       -4.00853739e+05,  4.17651740e+05,  1.17325458e+06, -5.26487900e+05,\n",
              "       -6.58854621e+05,  3.14326049e+04,  2.33073949e+05, -3.76577563e+05,\n",
              "        1.58647503e+06,  1.19696113e+06,  3.15910728e+05,  1.41773695e+06,\n",
              "        3.51779021e+05, -8.45130745e+04,  8.49662459e+05,  9.37264881e+05,\n",
              "       -7.33593197e+05,  1.11852586e+06,  4.91466698e+05, -2.02985063e+05,\n",
              "       -1.45384075e+05,  1.44681091e+06, -7.37178271e+05,  2.70926940e+05,\n",
              "       -2.65351454e+05, -4.13492301e+05,  3.99995693e+05, -2.78423589e+05,\n",
              "        1.09334697e+06, -3.66427876e+05,  7.99902008e+05,  3.19355430e+05,\n",
              "        1.17589705e+06,  6.42565273e+05, -3.50268010e+05,  4.23370753e+05,\n",
              "       -3.38141879e+04,  4.98502210e+05,  5.29019180e+05,  1.54382160e+05,\n",
              "        1.47547837e+06,  1.29421500e+06, -3.42527750e+05, -9.31427250e+04,\n",
              "        1.29348358e+06, -2.82799461e+05,  1.23513078e+06,  9.45386697e+05,\n",
              "        1.69635697e+03,  1.20949082e+05,  5.74629339e+05, -2.86150007e+05,\n",
              "        1.21113021e+06, -7.45252642e+05, -4.37244968e+05, -7.09485679e+04,\n",
              "        1.03191970e+06,  1.31327967e+06,  5.08951386e+05, -3.74800094e+05,\n",
              "       -2.15299040e+05, -2.59692150e+05,  1.10701992e+06,  7.48401612e+05,\n",
              "        1.71053400e+06, -8.92809235e+05,  8.26849833e+05,  1.00532888e+06,\n",
              "        1.24033100e+06,  1.62627704e+06,  1.21340440e+06, -6.24328970e+05,\n",
              "        1.08092538e+06,  1.24202677e+06, -4.08213441e+05,  4.36752626e+04,\n",
              "       -3.55166971e+05,  4.27363233e+05, -1.12120891e+05,  5.78156162e+04,\n",
              "        4.59338764e+05, -1.32561287e+05, -5.22497244e+05,  1.47132430e+06,\n",
              "        7.55553733e+05, -6.52524696e+05,  1.23843260e+06,  1.27559044e+05,\n",
              "        1.02892741e+06, -5.54828755e+05,  1.10309314e+06,  7.88106048e+05,\n",
              "       -9.93615583e+04,  4.47198603e+05,  8.51177127e+05,  1.05881488e+06,\n",
              "        9.06460443e+05,  4.95171748e+05,  7.85543006e+05,  9.89772654e+04,\n",
              "        2.52068859e+05,  2.13864970e+05,  4.23440917e+05,  1.00674089e+06,\n",
              "       -3.51144059e+05,  6.69113836e+05, -2.24605642e+05,  1.44786394e+06,\n",
              "        5.51552196e+05,  4.16004244e+04,  7.60003173e+05, -6.88917551e+05,\n",
              "       -3.19300389e+05,  1.44198696e+05,  7.78460440e+05,  2.09455771e+05,\n",
              "        1.37485147e+05,  1.00346974e+06,  9.01130930e+05, -4.26484525e+05,\n",
              "        1.30354111e+06, -1.59387654e+05,  1.12294793e+06, -8.51849376e+05,\n",
              "        2.95167453e+05,  1.75021023e+05,  4.95162176e+05,  6.03272072e+05,\n",
              "       -4.93719300e+05, -4.21021548e+05,  1.51946911e+06, -3.34152742e+05,\n",
              "        4.05409027e+05,  1.38078431e+04,  4.05710258e+05,  6.23459056e+05,\n",
              "        1.18354029e+06, -1.96473288e+05,  1.24682012e+06, -4.55444216e+05,\n",
              "        9.45341602e+05,  3.96103972e+05,  4.57446259e+05,  2.81538572e+05,\n",
              "        1.53295543e+05,  1.58905388e+06, -1.34877703e+05,  9.64135814e+05,\n",
              "        9.96770736e+05,  5.79118710e+04, -8.25445352e+05,  1.87432874e+06,\n",
              "        3.64991733e+05, -2.42206372e+05,  5.67758234e+05,  1.45633386e+05,\n",
              "        6.93092494e+05, -1.91263962e+05,  5.12658073e+05,  9.58790748e+04,\n",
              "       -9.09235770e+04,  7.17816336e+05,  1.29311154e+05,  5.41494966e+05,\n",
              "        1.03111807e+06,  3.07362811e+05,  3.53321429e+05,  5.02903885e+05,\n",
              "       -6.14286981e+05,  5.82273876e+05,  2.66642103e+05,  5.04613342e+05,\n",
              "        8.45047176e+05,  4.95432495e+05,  3.59467633e+05,  1.00426872e+05,\n",
              "       -2.15942005e+04,  1.32658416e+06,  1.88920675e+05,  1.46693973e+06,\n",
              "        1.03141021e+06,  6.71943939e+05,  8.81728731e+05,  5.81009504e+05,\n",
              "        4.46689578e+05,  1.80646278e+05,  8.86086384e+05,  9.97317952e+05,\n",
              "        2.74563656e+05,  1.24306780e+06,  1.02756800e+06, -2.50380193e+05,\n",
              "        1.35559480e+06, -4.29955297e+05,  1.08112531e+05,  9.10296629e+05,\n",
              "        1.73646298e+06,  5.94810561e+05, -4.59860155e+04, -1.32629391e+05,\n",
              "        1.38668887e+06,  1.08658388e+06,  1.32197878e+05, -3.89323872e+05,\n",
              "       -2.15072204e+05,  1.63918807e+05,  1.22089220e+05,  9.93125663e+05,\n",
              "        5.06020895e+05,  1.44505732e+06,  3.42824131e+05,  9.12818172e+05,\n",
              "        2.58902149e+05, -5.49483858e+04,  2.55879123e+05, -1.99441523e+05,\n",
              "       -3.46925033e+05,  2.38168752e+05,  8.77929379e+05,  1.74857249e+05,\n",
              "        1.51430360e+06,  5.61905912e+05,  1.12670070e+06,  5.47708762e+05,\n",
              "        1.16223134e+03,  9.19202106e+05, -2.04396533e+05,  1.24668391e+06,\n",
              "        6.28883980e+05,  3.68672518e+05,  6.88594580e+04,  1.87023983e+06,\n",
              "        1.16190409e+05,  6.80861405e+05, -8.34579415e+04,  1.59764893e+04,\n",
              "        5.07078195e+05,  3.01714654e+05,  7.27172325e+05, -6.10255648e+05,\n",
              "       -2.70556387e+05,  3.76963729e+05,  8.88646776e+05,  9.76719553e+05,\n",
              "       -3.56449739e+05, -3.34321615e+05,  6.01886388e+05, -1.21091290e+04,\n",
              "       -7.36138189e+05, -4.00871526e+05,  1.42231369e+06,  1.05471931e+06,\n",
              "       -2.47029507e+04,  5.71908907e+04, -1.63941349e+05,  4.45539054e+05,\n",
              "        1.03275674e+06,  1.01302760e+06,  8.81211534e+05,  1.50291916e+06,\n",
              "       -3.37788560e+05,  3.43174562e+05,  1.40474255e+05,  4.52594749e+05,\n",
              "        1.68064780e+06,  1.14689940e+05,  4.04918620e+04, -2.69342784e+05,\n",
              "        1.20764754e+06,  5.12739023e+05, -1.57165259e+05,  1.03428439e+04,\n",
              "        1.09063046e+06,  1.03442298e+06,  1.47295089e+06, -9.48412457e+05,\n",
              "        9.33723413e+05, -4.61512533e+05,  2.24974357e+05,  1.12111898e+06,\n",
              "       -9.06588199e+04, -3.28652018e+05,  2.81287927e+05,  8.48880431e+05,\n",
              "        1.02763361e+06,  7.28708876e+05, -2.11716826e+05,  2.48100303e+05,\n",
              "        9.87901171e+05, -3.82193092e+04,  2.53195336e+04,  7.51023989e+05,\n",
              "        8.94654356e+05,  6.53959380e+05, -2.05944910e+05,  9.02497995e+05,\n",
              "        4.84133348e+05, -4.38540147e+04,  1.45636581e+06,  1.28432497e+05,\n",
              "        1.18814697e+06,  8.08104768e+05, -4.45429950e+05, -5.97088541e+05,\n",
              "        6.24508375e+05,  5.90618998e+05,  3.01605955e+05, -2.13432883e+05,\n",
              "        8.18081000e+04,  5.24124169e+05,  1.17308460e+06, -3.15781883e+05,\n",
              "       -1.77446162e+05, -6.17326410e+04,  8.93033879e+04,  1.86416434e+06,\n",
              "        1.25575131e+06,  1.28449242e+06, -6.54753458e+05, -2.44884799e+04,\n",
              "        1.01363592e+05,  5.01969788e+05, -5.11729485e+05,  1.08883257e+06,\n",
              "        1.13569867e+06,  3.71681618e+04,  1.05510390e+06, -1.44492896e+05,\n",
              "       -1.60211178e+05,  7.81307329e+05, -1.60151396e+05,  1.12946612e+06,\n",
              "        9.85047918e+05,  1.28477641e+05,  7.98290742e+05, -4.92577679e+05,\n",
              "       -1.97701803e+05,  1.04582018e+06,  1.22830933e+06,  2.74275197e+05,\n",
              "        1.13337664e+06,  3.57955959e+05, -2.88800984e+05, -1.54265834e+05,\n",
              "        9.95546474e+05,  9.02397032e+05,  1.16861633e+06,  8.06019386e+05,\n",
              "        1.26350076e+06,  9.43537203e+04,  2.18279435e+05,  1.24391124e+06,\n",
              "        6.69192707e+05,  1.17117393e+06,  1.22481872e+06, -1.08155906e+05,\n",
              "        1.15710203e+06, -1.66797615e+05,  1.23917518e+06,  5.68288833e+05,\n",
              "        1.35289848e+06, -1.29199045e+05, -3.93907406e+05,  5.63108330e+05,\n",
              "        9.46159491e+05, -3.97275704e+04, -3.94801193e+05,  1.25725721e+05,\n",
              "        5.14561264e+05,  2.82475490e+05,  1.34796797e+06,  4.81107778e+05,\n",
              "        1.00584048e+06,  3.38420393e+04,  4.70690473e+05, -5.66245245e+05,\n",
              "        3.72292671e+05,  1.31925881e+06,  5.25774141e+05, -3.99792369e+04,\n",
              "       -6.59214567e+05,  5.53794491e+05,  3.40880071e+05,  1.33987440e+06,\n",
              "        1.26459304e+05,  3.73284420e+05, -3.18996508e+05,  1.94085707e+05,\n",
              "        6.56303666e+05,  6.46372062e+05,  4.03859882e+05,  5.58062080e+04,\n",
              "        1.69190858e+05, -3.38867497e+04,  3.64989238e+05,  1.16927999e+05,\n",
              "        6.61440383e+05,  1.36016022e+06,  1.22433023e+06, -5.43552204e+02,\n",
              "        3.33905501e+05, -2.50596436e+04, -1.79556196e+05, -1.24887451e+05,\n",
              "       -4.30739193e+05, -2.26336176e+05,  1.13006343e+06,  5.51517854e+05,\n",
              "       -6.21776910e+05, -8.09117428e+04, -3.04155371e+05,  6.04148198e+05,\n",
              "        2.23098432e+05,  1.23272356e+06, -1.10337707e+05,  1.45659296e+06,\n",
              "        1.33680873e+06,  1.07766946e+06,  6.96990073e+05,  1.90518345e+05,\n",
              "        7.87887149e+05,  7.85467690e+05,  2.66412103e+05,  7.09821576e+04,\n",
              "        1.19598373e+06,  3.07150180e+05,  2.46768145e+05, -2.35922105e+05,\n",
              "        6.59557073e+05,  1.96207126e+05,  8.91097903e+05,  4.98679105e+05,\n",
              "        1.84146732e+05, -2.61802852e+04,  8.98976144e+05, -2.72380385e+05,\n",
              "        7.82597891e+05, -6.23213833e+05,  6.24617635e+03,  9.77667027e+05,\n",
              "        1.22490242e+06,  5.72756892e+05,  1.05517974e+06, -1.65417991e+05,\n",
              "       -5.22936080e+05,  1.78755813e+06,  1.28035290e+06,  7.92843849e+05,\n",
              "        8.44819197e+05,  1.73116135e+05, -3.23719901e+05, -5.42293616e+05,\n",
              "        1.20669698e+04,  1.36232303e+06,  2.69645080e+05,  6.59809642e+05,\n",
              "        9.66956259e+05,  1.00401338e+06, -4.45685264e+05,  7.81622010e+05,\n",
              "       -3.97267470e+04, -3.18732431e+05, -5.25691142e+04,  2.39665377e+05,\n",
              "        1.63033157e+06,  5.11862701e+05, -3.53311413e+05,  1.46002399e+06,\n",
              "        8.45087337e+05, -1.65532342e+05, -2.45310523e+04,  9.62669881e+05,\n",
              "       -2.21759313e+04,  7.87616045e+05,  9.43381802e+05, -1.91029192e+05,\n",
              "       -3.98121672e+05, -1.21961016e+05, -2.33684870e+05,  5.53593000e+05,\n",
              "       -3.52148954e+05,  7.37076023e+05,  9.98800072e+05, -5.25934240e+05,\n",
              "       -4.92386655e+05, -3.07130237e+05,  1.02526499e+06, -7.51521781e+05,\n",
              "       -1.57928194e+05,  2.60695716e+05, -4.94447374e+05,  9.28892454e+05,\n",
              "        2.08498298e+05, -1.44228883e+05,  1.29184817e+06,  3.28648019e+05,\n",
              "        8.66631101e+05,  8.97128544e+05, -1.29894334e+05,  7.67812947e+05,\n",
              "        1.25009675e+06, -2.79062420e+05,  4.40639333e+05,  1.29588027e+06,\n",
              "        8.90017435e+05,  1.61147392e+05,  1.30801520e+06,  1.64318672e+06,\n",
              "        1.28781940e+06,  2.17334386e+05,  9.60522006e+05, -1.24860768e+05,\n",
              "       -3.99605374e+05,  1.02689052e+06,  1.16225495e+06,  3.05253982e+05,\n",
              "        5.63042208e+05,  1.51362269e+05,  5.92079370e+05,  5.43881910e+05,\n",
              "        1.85208815e+06, -2.13222043e+05,  2.22057144e+05,  6.60102595e+05,\n",
              "       -1.85844135e+05, -2.81584580e+05,  9.09695374e+05,  7.89477161e+05,\n",
              "        2.20572366e+05,  3.65458120e+05,  5.14163591e+05, -3.91756217e+04,\n",
              "        5.37236790e+05,  1.26139555e+06,  3.90786586e+05,  1.17030802e+06,\n",
              "        9.16020150e+05, -4.88591967e+05,  1.04798300e+06, -1.57447838e+05,\n",
              "       -1.41162842e+05,  3.22791573e+05,  8.18249659e+05,  1.05533570e+06,\n",
              "       -2.48666814e+05,  5.71816211e+05,  1.08179596e+06, -3.06389901e+04,\n",
              "        8.93992965e+04, -2.47048110e+05,  8.46862960e+05,  1.50704453e+06,\n",
              "        1.59843474e+05,  9.63809379e+05,  5.41417447e+04, -2.52336607e+05,\n",
              "       -2.75791766e+05,  7.64795351e+05, -4.70327858e+05])"
            ]
          },
          "metadata": {},
          "execution_count": 53
        }
      ],
      "source": [
        "y_test_pred"
      ]
    },
    {
      "cell_type": "markdown",
      "metadata": {
        "id": "9_GfSeBaMgwU"
      },
      "source": [
        "### Model Perfomance"
      ]
    },
    {
      "cell_type": "code",
      "execution_count": null,
      "metadata": {
        "colab": {
          "base_uri": "https://localhost:8080/"
        },
        "id": "EH6UqZqvMgwV",
        "outputId": "4edb23fe-4c30-4689-9ae3-b34b7efec246"
      },
      "outputs": [
        {
          "output_type": "execute_result",
          "data": {
            "text/plain": [
              "4464218360113.907"
            ]
          },
          "metadata": {},
          "execution_count": 54
        }
      ],
      "source": [
        "mean_squared_error(y_test, y_test_pred)"
      ]
    },
    {
      "cell_type": "code",
      "execution_count": null,
      "metadata": {
        "colab": {
          "base_uri": "https://localhost:8080/"
        },
        "id": "GH80nOnPMgwV",
        "outputId": "30ca7a1e-afdc-4558-aa7a-ddf3638f9f6c"
      },
      "outputs": [
        {
          "output_type": "execute_result",
          "data": {
            "text/plain": [
              "5705555244508.796"
            ]
          },
          "metadata": {},
          "execution_count": 55
        }
      ],
      "source": [
        "mean_squared_error(y_train, y_train_pred)"
      ]
    },
    {
      "cell_type": "code",
      "execution_count": null,
      "metadata": {
        "colab": {
          "base_uri": "https://localhost:8080/"
        },
        "id": "N5-bLBUrMgwV",
        "outputId": "09c72f54-2fce-48bf-ee07-4f38db387241"
      },
      "outputs": [
        {
          "output_type": "execute_result",
          "data": {
            "text/plain": [
              "0.06293392417116306"
            ]
          },
          "metadata": {},
          "execution_count": 56
        }
      ],
      "source": [
        "r2_score(y_train, y_train_pred)"
      ]
    },
    {
      "cell_type": "code",
      "execution_count": null,
      "metadata": {
        "colab": {
          "base_uri": "https://localhost:8080/"
        },
        "id": "P5nr182jMgwV",
        "outputId": "b7204edd-27c3-4498-f40d-564475146410"
      },
      "outputs": [
        {
          "output_type": "execute_result",
          "data": {
            "text/plain": [
              "0.07600918345140173"
            ]
          },
          "metadata": {},
          "execution_count": 57
        }
      ],
      "source": [
        "r2_score(y_test, y_test_pred)"
      ]
    },
    {
      "cell_type": "code",
      "execution_count": null,
      "metadata": {
        "id": "XLHx_ADWMgwV"
      },
      "outputs": [],
      "source": [
        "# The linear regression model performs very poorly"
      ]
    },
    {
      "cell_type": "markdown",
      "metadata": {
        "id": "voBOu-NbMgwW"
      },
      "source": [
        "## LSTM Model"
      ]
    },
    {
      "cell_type": "code",
      "execution_count": null,
      "metadata": {
        "id": "aYOB0ZmjMgwW"
      },
      "outputs": [],
      "source": [
        "x_train_full, x_test, y_train_full, y_test = train_test_split(x, y)\n",
        "x_train, x_valid, y_train, y_valid = train_test_split(x_train_full, y_train_full, random_state = 42)"
      ]
    },
    {
      "cell_type": "code",
      "execution_count": null,
      "metadata": {
        "id": "jP4eWlYKMgwW"
      },
      "outputs": [],
      "source": [
        "from sklearn.preprocessing import StandardScaler\n",
        "scaler = StandardScaler()\n",
        "x_train = scaler.fit_transform(x_train)\n",
        "x_valid = scaler.fit_transform(x_valid)\n",
        "x_test = scaler.fit_transform(x_test)"
      ]
    },
    {
      "cell_type": "code",
      "execution_count": null,
      "metadata": {
        "id": "VPIlfp8hMgwW"
      },
      "outputs": [],
      "source": [
        "np.random.seed(42)\n",
        "tf.random.set_seed(42)"
      ]
    },
    {
      "cell_type": "code",
      "execution_count": null,
      "metadata": {
        "colab": {
          "base_uri": "https://localhost:8080/"
        },
        "id": "78WFH2p7MgwX",
        "outputId": "4216bf13-d505-446b-8b62-10e01722557d"
      },
      "outputs": [
        {
          "output_type": "execute_result",
          "data": {
            "text/plain": [
              "(2774, 7)"
            ]
          },
          "metadata": {},
          "execution_count": 62
        }
      ],
      "source": [
        "x_train.shape"
      ]
    },
    {
      "cell_type": "code",
      "execution_count": null,
      "metadata": {
        "id": "CYivb-0_MgwX"
      },
      "outputs": [],
      "source": [
        "from keras.layers import LSTM, Activation, Dense, Dropout, Input, Embedding\n",
        "from keras.callbacks import EarlyStopping\n",
        "from keras import Sequential"
      ]
    },
    {
      "cell_type": "code",
      "execution_count": null,
      "metadata": {
        "id": "lEZpjrS6MgwX"
      },
      "outputs": [],
      "source": [
        "model = Sequential()  \n",
        "model.add(LSTM(1, batch_input_shape=(None, 7, 1), return_sequences=False))\n",
        "model.add(Dense(100))\n",
        "model.compile(loss='mean_absolute_error', optimizer='adam',metrics=['mae'])"
      ]
    },
    {
      "cell_type": "code",
      "execution_count": null,
      "metadata": {
        "colab": {
          "base_uri": "https://localhost:8080/"
        },
        "id": "wdxLTeMLMgwX",
        "outputId": "01754477-45ae-4cbc-8bc1-c4e628bfbd71"
      },
      "outputs": [
        {
          "output_type": "stream",
          "name": "stdout",
          "text": [
            "Epoch 1/100\n",
            "278/278 - 8s - loss: 482919.5000 - mae: 482919.5000 - val_loss: 375041.9688 - val_mae: 375041.9688 - 8s/epoch - 28ms/step\n",
            "Epoch 2/100\n",
            "278/278 - 2s - loss: 482919.4375 - mae: 482919.4375 - val_loss: 375041.9688 - val_mae: 375041.9688 - 2s/epoch - 6ms/step\n",
            "Epoch 3/100\n",
            "278/278 - 2s - loss: 482919.5000 - mae: 482919.5000 - val_loss: 375041.9688 - val_mae: 375041.9688 - 2s/epoch - 6ms/step\n",
            "Epoch 4/100\n",
            "278/278 - 2s - loss: 482919.4062 - mae: 482919.4062 - val_loss: 375041.9688 - val_mae: 375041.9688 - 2s/epoch - 6ms/step\n",
            "Epoch 5/100\n",
            "278/278 - 2s - loss: 482919.5312 - mae: 482919.5312 - val_loss: 375041.9688 - val_mae: 375041.9688 - 2s/epoch - 7ms/step\n",
            "Epoch 6/100\n",
            "278/278 - 2s - loss: 482919.4375 - mae: 482919.4375 - val_loss: 375041.9688 - val_mae: 375041.9688 - 2s/epoch - 7ms/step\n",
            "Epoch 7/100\n",
            "278/278 - 1s - loss: 482919.6250 - mae: 482919.6250 - val_loss: 375041.9688 - val_mae: 375041.9688 - 1s/epoch - 5ms/step\n",
            "Epoch 8/100\n",
            "278/278 - 1s - loss: 482919.4062 - mae: 482919.4062 - val_loss: 375041.9688 - val_mae: 375041.9688 - 1s/epoch - 4ms/step\n",
            "Epoch 9/100\n",
            "278/278 - 1s - loss: 482919.5938 - mae: 482919.5938 - val_loss: 375041.9688 - val_mae: 375041.9688 - 1s/epoch - 4ms/step\n",
            "Epoch 10/100\n",
            "278/278 - 1s - loss: 482919.5312 - mae: 482919.5312 - val_loss: 375041.9688 - val_mae: 375041.9688 - 993ms/epoch - 4ms/step\n",
            "Epoch 11/100\n",
            "278/278 - 1s - loss: 482919.5938 - mae: 482919.5938 - val_loss: 375041.9688 - val_mae: 375041.9688 - 1s/epoch - 4ms/step\n",
            "Epoch 12/100\n",
            "278/278 - 1s - loss: 482919.5312 - mae: 482919.5312 - val_loss: 375041.9688 - val_mae: 375041.9688 - 1s/epoch - 4ms/step\n",
            "Epoch 13/100\n",
            "278/278 - 1s - loss: 482919.5312 - mae: 482919.5312 - val_loss: 375041.9688 - val_mae: 375041.9688 - 1s/epoch - 4ms/step\n",
            "Epoch 14/100\n",
            "278/278 - 1s - loss: 482919.5000 - mae: 482919.5000 - val_loss: 375041.9688 - val_mae: 375041.9688 - 1s/epoch - 4ms/step\n",
            "Epoch 15/100\n",
            "278/278 - 1s - loss: 482919.5312 - mae: 482919.5000 - val_loss: 375041.9688 - val_mae: 375041.9688 - 962ms/epoch - 3ms/step\n",
            "Epoch 16/100\n",
            "278/278 - 1s - loss: 482919.6250 - mae: 482919.6250 - val_loss: 375041.9688 - val_mae: 375041.9688 - 1000ms/epoch - 4ms/step\n",
            "Epoch 17/100\n",
            "278/278 - 1s - loss: 482919.5938 - mae: 482919.5938 - val_loss: 375041.9688 - val_mae: 375041.9688 - 1s/epoch - 4ms/step\n",
            "Epoch 18/100\n",
            "278/278 - 1s - loss: 482919.4375 - mae: 482919.4375 - val_loss: 375041.9688 - val_mae: 375041.9688 - 1000ms/epoch - 4ms/step\n",
            "Epoch 19/100\n",
            "278/278 - 1s - loss: 482919.5312 - mae: 482919.5312 - val_loss: 375041.9688 - val_mae: 375041.9688 - 1s/epoch - 4ms/step\n",
            "Epoch 20/100\n",
            "278/278 - 1s - loss: 482919.5938 - mae: 482919.5938 - val_loss: 375041.9688 - val_mae: 375041.9688 - 983ms/epoch - 4ms/step\n",
            "Epoch 21/100\n",
            "278/278 - 1s - loss: 482919.5938 - mae: 482919.5938 - val_loss: 375041.9688 - val_mae: 375041.9688 - 1s/epoch - 4ms/step\n",
            "Epoch 22/100\n",
            "278/278 - 1s - loss: 482919.5938 - mae: 482919.5938 - val_loss: 375041.9688 - val_mae: 375041.9688 - 967ms/epoch - 3ms/step\n",
            "Epoch 23/100\n",
            "278/278 - 1s - loss: 482919.3750 - mae: 482919.3750 - val_loss: 375041.9688 - val_mae: 375041.9688 - 992ms/epoch - 4ms/step\n",
            "Epoch 24/100\n",
            "278/278 - 1s - loss: 482919.6250 - mae: 482919.6250 - val_loss: 375041.9688 - val_mae: 375041.9688 - 984ms/epoch - 4ms/step\n",
            "Epoch 25/100\n",
            "278/278 - 1s - loss: 482919.5000 - mae: 482919.5000 - val_loss: 375041.9688 - val_mae: 375041.9688 - 972ms/epoch - 3ms/step\n",
            "Epoch 26/100\n",
            "278/278 - 1s - loss: 482919.3125 - mae: 482919.3125 - val_loss: 375041.9688 - val_mae: 375041.9688 - 1s/epoch - 4ms/step\n",
            "Epoch 27/100\n",
            "278/278 - 1s - loss: 482919.5312 - mae: 482919.5312 - val_loss: 375041.9688 - val_mae: 375041.9688 - 1s/epoch - 4ms/step\n",
            "Epoch 28/100\n",
            "278/278 - 1s - loss: 482919.5312 - mae: 482919.5312 - val_loss: 375041.9688 - val_mae: 375041.9688 - 1s/epoch - 4ms/step\n",
            "Epoch 29/100\n",
            "278/278 - 1s - loss: 482919.2812 - mae: 482919.2812 - val_loss: 375041.9688 - val_mae: 375041.9688 - 1s/epoch - 4ms/step\n",
            "Epoch 30/100\n",
            "278/278 - 1s - loss: 482919.7188 - mae: 482919.7188 - val_loss: 375041.9688 - val_mae: 375041.9688 - 1s/epoch - 4ms/step\n",
            "Epoch 31/100\n",
            "278/278 - 1s - loss: 482919.6250 - mae: 482919.6250 - val_loss: 375041.9688 - val_mae: 375041.9688 - 1s/epoch - 4ms/step\n",
            "Epoch 32/100\n",
            "278/278 - 1s - loss: 482919.3750 - mae: 482919.3750 - val_loss: 375041.9688 - val_mae: 375041.9688 - 987ms/epoch - 4ms/step\n",
            "Epoch 33/100\n",
            "278/278 - 1s - loss: 482919.4062 - mae: 482919.4062 - val_loss: 375041.9688 - val_mae: 375041.9688 - 1s/epoch - 4ms/step\n",
            "Epoch 34/100\n",
            "278/278 - 1s - loss: 482919.6875 - mae: 482919.6875 - val_loss: 375041.9688 - val_mae: 375041.9688 - 983ms/epoch - 4ms/step\n",
            "Epoch 35/100\n",
            "278/278 - 1s - loss: 482919.6875 - mae: 482919.6875 - val_loss: 375041.9688 - val_mae: 375041.9688 - 996ms/epoch - 4ms/step\n",
            "Epoch 36/100\n",
            "278/278 - 1s - loss: 482919.4375 - mae: 482919.4375 - val_loss: 375041.9688 - val_mae: 375041.9688 - 1s/epoch - 4ms/step\n",
            "Epoch 37/100\n",
            "278/278 - 1s - loss: 482919.6250 - mae: 482919.6250 - val_loss: 375041.9688 - val_mae: 375041.9688 - 1s/epoch - 4ms/step\n",
            "Epoch 38/100\n",
            "278/278 - 1s - loss: 482919.5938 - mae: 482919.5938 - val_loss: 375041.9688 - val_mae: 375041.9688 - 1s/epoch - 4ms/step\n",
            "Epoch 39/100\n",
            "278/278 - 1s - loss: 482919.6875 - mae: 482919.6875 - val_loss: 375041.9688 - val_mae: 375041.9688 - 1s/epoch - 4ms/step\n",
            "Epoch 40/100\n",
            "278/278 - 1s - loss: 482919.5000 - mae: 482919.4375 - val_loss: 375041.9688 - val_mae: 375041.9688 - 1s/epoch - 4ms/step\n",
            "Epoch 41/100\n",
            "278/278 - 1s - loss: 482919.5000 - mae: 482919.5000 - val_loss: 375041.9688 - val_mae: 375041.9688 - 1s/epoch - 4ms/step\n",
            "Epoch 42/100\n",
            "278/278 - 1s - loss: 482919.5938 - mae: 482919.5938 - val_loss: 375041.9688 - val_mae: 375041.9688 - 1s/epoch - 4ms/step\n",
            "Epoch 43/100\n",
            "278/278 - 1s - loss: 482919.6875 - mae: 482919.6250 - val_loss: 375041.9688 - val_mae: 375041.9688 - 1s/epoch - 4ms/step\n",
            "Epoch 44/100\n",
            "278/278 - 1s - loss: 482919.5000 - mae: 482919.5000 - val_loss: 375041.9688 - val_mae: 375041.9688 - 1s/epoch - 4ms/step\n",
            "Epoch 45/100\n",
            "278/278 - 1s - loss: 482919.4062 - mae: 482919.4062 - val_loss: 375041.9688 - val_mae: 375041.9688 - 1s/epoch - 4ms/step\n",
            "Epoch 46/100\n",
            "278/278 - 1s - loss: 482919.5312 - mae: 482919.5312 - val_loss: 375041.9688 - val_mae: 375041.9688 - 1s/epoch - 4ms/step\n",
            "Epoch 47/100\n",
            "278/278 - 1s - loss: 482919.4375 - mae: 482919.4375 - val_loss: 375041.9688 - val_mae: 375041.9688 - 1s/epoch - 4ms/step\n",
            "Epoch 48/100\n",
            "278/278 - 1s - loss: 482919.5938 - mae: 482919.5938 - val_loss: 375041.9688 - val_mae: 375041.9688 - 1s/epoch - 4ms/step\n",
            "Epoch 49/100\n",
            "278/278 - 1s - loss: 482919.5938 - mae: 482919.5938 - val_loss: 375041.9688 - val_mae: 375041.9688 - 1s/epoch - 4ms/step\n",
            "Epoch 50/100\n",
            "278/278 - 1s - loss: 482919.5000 - mae: 482919.5000 - val_loss: 375041.9688 - val_mae: 375041.9688 - 1s/epoch - 4ms/step\n",
            "Epoch 51/100\n",
            "278/278 - 1s - loss: 482919.5000 - mae: 482919.5000 - val_loss: 375041.9688 - val_mae: 375041.9688 - 1s/epoch - 4ms/step\n",
            "Epoch 52/100\n",
            "278/278 - 1s - loss: 482919.8125 - mae: 482919.8125 - val_loss: 375041.9688 - val_mae: 375041.9688 - 1s/epoch - 4ms/step\n",
            "Epoch 53/100\n",
            "278/278 - 1s - loss: 482919.5000 - mae: 482919.5000 - val_loss: 375041.9688 - val_mae: 375041.9688 - 1s/epoch - 4ms/step\n",
            "Epoch 54/100\n",
            "278/278 - 1s - loss: 482919.5312 - mae: 482919.5312 - val_loss: 375041.9688 - val_mae: 375041.9688 - 1s/epoch - 4ms/step\n",
            "Epoch 55/100\n",
            "278/278 - 1s - loss: 482919.5312 - mae: 482919.5312 - val_loss: 375041.9688 - val_mae: 375041.9688 - 1s/epoch - 4ms/step\n",
            "Epoch 56/100\n",
            "278/278 - 1s - loss: 482919.4062 - mae: 482919.4062 - val_loss: 375041.9688 - val_mae: 375041.9688 - 1s/epoch - 4ms/step\n",
            "Epoch 57/100\n",
            "278/278 - 1s - loss: 482919.5938 - mae: 482919.5938 - val_loss: 375041.9688 - val_mae: 375041.9688 - 1s/epoch - 4ms/step\n",
            "Epoch 58/100\n",
            "278/278 - 1s - loss: 482919.5938 - mae: 482919.5938 - val_loss: 375041.9688 - val_mae: 375041.9688 - 1s/epoch - 4ms/step\n",
            "Epoch 59/100\n",
            "278/278 - 1s - loss: 482919.5000 - mae: 482919.5000 - val_loss: 375041.9688 - val_mae: 375041.9688 - 1s/epoch - 4ms/step\n",
            "Epoch 60/100\n",
            "278/278 - 1s - loss: 482919.5938 - mae: 482919.5938 - val_loss: 375041.9688 - val_mae: 375041.9688 - 1s/epoch - 4ms/step\n",
            "Epoch 61/100\n",
            "278/278 - 1s - loss: 482919.5938 - mae: 482919.5938 - val_loss: 375041.9688 - val_mae: 375041.9688 - 1s/epoch - 4ms/step\n",
            "Epoch 62/100\n",
            "278/278 - 1s - loss: 482919.4375 - mae: 482919.4375 - val_loss: 375041.9688 - val_mae: 375041.9688 - 1s/epoch - 4ms/step\n",
            "Epoch 63/100\n",
            "278/278 - 1s - loss: 482919.6875 - mae: 482919.6875 - val_loss: 375041.9688 - val_mae: 375041.9688 - 1s/epoch - 4ms/step\n",
            "Epoch 64/100\n",
            "278/278 - 1s - loss: 482919.6875 - mae: 482919.6875 - val_loss: 375041.9688 - val_mae: 375041.9688 - 1s/epoch - 4ms/step\n",
            "Epoch 65/100\n",
            "278/278 - 1s - loss: 482919.7188 - mae: 482919.7188 - val_loss: 375041.9688 - val_mae: 375041.9688 - 1s/epoch - 4ms/step\n",
            "Epoch 66/100\n",
            "278/278 - 1s - loss: 482919.5938 - mae: 482919.5938 - val_loss: 375041.9688 - val_mae: 375041.9688 - 1s/epoch - 4ms/step\n",
            "Epoch 67/100\n",
            "278/278 - 1s - loss: 482919.5312 - mae: 482919.5312 - val_loss: 375041.9688 - val_mae: 375041.9688 - 1s/epoch - 5ms/step\n",
            "Epoch 68/100\n",
            "278/278 - 2s - loss: 482919.4062 - mae: 482919.4062 - val_loss: 375041.9688 - val_mae: 375041.9688 - 2s/epoch - 7ms/step\n",
            "Epoch 69/100\n",
            "278/278 - 2s - loss: 482919.6875 - mae: 482919.6875 - val_loss: 375041.9688 - val_mae: 375041.9688 - 2s/epoch - 6ms/step\n",
            "Epoch 70/100\n",
            "278/278 - 2s - loss: 482919.6250 - mae: 482919.6250 - val_loss: 375041.9688 - val_mae: 375041.9688 - 2s/epoch - 6ms/step\n",
            "Epoch 71/100\n",
            "278/278 - 2s - loss: 482919.6250 - mae: 482919.6250 - val_loss: 375041.9688 - val_mae: 375041.9688 - 2s/epoch - 6ms/step\n",
            "Epoch 72/100\n",
            "278/278 - 2s - loss: 482919.6875 - mae: 482919.6875 - val_loss: 375041.9688 - val_mae: 375041.9688 - 2s/epoch - 7ms/step\n",
            "Epoch 73/100\n",
            "278/278 - 2s - loss: 482919.5938 - mae: 482919.5938 - val_loss: 375041.9688 - val_mae: 375041.9688 - 2s/epoch - 7ms/step\n",
            "Epoch 74/100\n",
            "278/278 - 2s - loss: 482919.5000 - mae: 482919.5000 - val_loss: 375041.9688 - val_mae: 375041.9688 - 2s/epoch - 6ms/step\n",
            "Epoch 75/100\n",
            "278/278 - 2s - loss: 482919.5938 - mae: 482919.5312 - val_loss: 375041.9688 - val_mae: 375041.9688 - 2s/epoch - 7ms/step\n",
            "Epoch 76/100\n",
            "278/278 - 2s - loss: 482919.6250 - mae: 482919.6250 - val_loss: 375041.9688 - val_mae: 375041.9688 - 2s/epoch - 7ms/step\n",
            "Epoch 77/100\n",
            "278/278 - 2s - loss: 482919.5312 - mae: 482919.5312 - val_loss: 375041.9688 - val_mae: 375041.9688 - 2s/epoch - 7ms/step\n",
            "Epoch 78/100\n",
            "278/278 - 2s - loss: 482919.5312 - mae: 482919.5312 - val_loss: 375041.9688 - val_mae: 375041.9688 - 2s/epoch - 7ms/step\n",
            "Epoch 79/100\n",
            "278/278 - 2s - loss: 482919.6875 - mae: 482919.6250 - val_loss: 375041.9688 - val_mae: 375041.9688 - 2s/epoch - 7ms/step\n",
            "Epoch 80/100\n",
            "278/278 - 2s - loss: 482919.5000 - mae: 482919.5000 - val_loss: 375041.9688 - val_mae: 375041.9688 - 2s/epoch - 7ms/step\n",
            "Epoch 81/100\n",
            "278/278 - 2s - loss: 482919.4375 - mae: 482919.4375 - val_loss: 375041.9688 - val_mae: 375041.9688 - 2s/epoch - 6ms/step\n",
            "Epoch 82/100\n",
            "278/278 - 2s - loss: 482919.4062 - mae: 482919.4062 - val_loss: 375041.9688 - val_mae: 375041.9688 - 2s/epoch - 6ms/step\n",
            "Epoch 83/100\n",
            "278/278 - 2s - loss: 482919.6250 - mae: 482919.6250 - val_loss: 375041.9688 - val_mae: 375041.9688 - 2s/epoch - 6ms/step\n",
            "Epoch 84/100\n",
            "278/278 - 2s - loss: 482919.7188 - mae: 482919.7188 - val_loss: 375041.9688 - val_mae: 375041.9688 - 2s/epoch - 7ms/step\n",
            "Epoch 85/100\n",
            "278/278 - 1s - loss: 482919.5312 - mae: 482919.5312 - val_loss: 375041.9688 - val_mae: 375041.9688 - 1s/epoch - 4ms/step\n",
            "Epoch 86/100\n",
            "278/278 - 1s - loss: 482919.5938 - mae: 482919.5938 - val_loss: 375041.9688 - val_mae: 375041.9688 - 1s/epoch - 4ms/step\n",
            "Epoch 87/100\n",
            "278/278 - 1s - loss: 482919.5312 - mae: 482919.5312 - val_loss: 375041.9688 - val_mae: 375041.9688 - 1s/epoch - 4ms/step\n",
            "Epoch 88/100\n",
            "278/278 - 1s - loss: 482919.6250 - mae: 482919.6250 - val_loss: 375041.9688 - val_mae: 375041.9688 - 1s/epoch - 4ms/step\n",
            "Epoch 89/100\n",
            "278/278 - 1s - loss: 482919.6250 - mae: 482919.6250 - val_loss: 375041.9688 - val_mae: 375041.9688 - 1s/epoch - 4ms/step\n",
            "Epoch 90/100\n",
            "278/278 - 1s - loss: 482919.5312 - mae: 482919.5312 - val_loss: 375041.9688 - val_mae: 375041.9688 - 1s/epoch - 5ms/step\n",
            "Epoch 91/100\n",
            "278/278 - 1s - loss: 482919.4062 - mae: 482919.4062 - val_loss: 375041.9688 - val_mae: 375041.9688 - 1s/epoch - 5ms/step\n",
            "Epoch 92/100\n",
            "278/278 - 1s - loss: 482919.7812 - mae: 482919.7812 - val_loss: 375041.9688 - val_mae: 375041.9688 - 1s/epoch - 4ms/step\n",
            "Epoch 93/100\n",
            "278/278 - 1s - loss: 482919.8125 - mae: 482919.8125 - val_loss: 375041.9688 - val_mae: 375041.9688 - 1s/epoch - 4ms/step\n",
            "Epoch 94/100\n",
            "278/278 - 1s - loss: 482919.4062 - mae: 482919.4062 - val_loss: 375041.9688 - val_mae: 375041.9688 - 1s/epoch - 4ms/step\n",
            "Epoch 95/100\n",
            "278/278 - 1s - loss: 482919.5938 - mae: 482919.5938 - val_loss: 375041.9688 - val_mae: 375041.9688 - 1s/epoch - 4ms/step\n",
            "Epoch 96/100\n",
            "278/278 - 1s - loss: 482919.6250 - mae: 482919.6250 - val_loss: 375041.9688 - val_mae: 375041.9688 - 1s/epoch - 4ms/step\n",
            "Epoch 97/100\n",
            "278/278 - 1s - loss: 482919.4375 - mae: 482919.4375 - val_loss: 375041.9688 - val_mae: 375041.9688 - 971ms/epoch - 3ms/step\n",
            "Epoch 98/100\n",
            "278/278 - 1s - loss: 482919.6875 - mae: 482919.6875 - val_loss: 375041.9688 - val_mae: 375041.9688 - 982ms/epoch - 4ms/step\n",
            "Epoch 99/100\n",
            "278/278 - 1s - loss: 482919.4062 - mae: 482919.4062 - val_loss: 375041.9688 - val_mae: 375041.9688 - 989ms/epoch - 4ms/step\n",
            "Epoch 100/100\n",
            "278/278 - 1s - loss: 482919.6875 - mae: 482919.6875 - val_loss: 375041.9688 - val_mae: 375041.9688 - 967ms/epoch - 3ms/step\n"
          ]
        }
      ],
      "source": [
        "history = model.fit(x_train, y_train, epochs=100, batch_size=10, verbose=2,validation_data=(x_valid, y_valid))"
      ]
    },
    {
      "cell_type": "code",
      "execution_count": null,
      "metadata": {
        "colab": {
          "base_uri": "https://localhost:8080/",
          "height": 424
        },
        "id": "7xpsUq4sMgwX",
        "outputId": "3bcec9b1-14d5-45f2-fbfb-8bb689b13651"
      },
      "outputs": [
        {
          "output_type": "execute_result",
          "data": {
            "text/plain": [
              "            loss           mae      val_loss       val_mae\n",
              "0   482919.50000  482919.50000  375041.96875  375041.96875\n",
              "1   482919.43750  482919.43750  375041.96875  375041.96875\n",
              "2   482919.50000  482919.50000  375041.96875  375041.96875\n",
              "3   482919.40625  482919.40625  375041.96875  375041.96875\n",
              "4   482919.53125  482919.53125  375041.96875  375041.96875\n",
              "..           ...           ...           ...           ...\n",
              "95  482919.62500  482919.62500  375041.96875  375041.96875\n",
              "96  482919.43750  482919.43750  375041.96875  375041.96875\n",
              "97  482919.68750  482919.68750  375041.96875  375041.96875\n",
              "98  482919.40625  482919.40625  375041.96875  375041.96875\n",
              "99  482919.68750  482919.68750  375041.96875  375041.96875\n",
              "\n",
              "[100 rows x 4 columns]"
            ],
            "text/html": [
              "\n",
              "  <div id=\"df-9d3ed78b-2be1-45bd-b26e-d02e49d25a44\">\n",
              "    <div class=\"colab-df-container\">\n",
              "      <div>\n",
              "<style scoped>\n",
              "    .dataframe tbody tr th:only-of-type {\n",
              "        vertical-align: middle;\n",
              "    }\n",
              "\n",
              "    .dataframe tbody tr th {\n",
              "        vertical-align: top;\n",
              "    }\n",
              "\n",
              "    .dataframe thead th {\n",
              "        text-align: right;\n",
              "    }\n",
              "</style>\n",
              "<table border=\"1\" class=\"dataframe\">\n",
              "  <thead>\n",
              "    <tr style=\"text-align: right;\">\n",
              "      <th></th>\n",
              "      <th>loss</th>\n",
              "      <th>mae</th>\n",
              "      <th>val_loss</th>\n",
              "      <th>val_mae</th>\n",
              "    </tr>\n",
              "  </thead>\n",
              "  <tbody>\n",
              "    <tr>\n",
              "      <th>0</th>\n",
              "      <td>482919.50000</td>\n",
              "      <td>482919.50000</td>\n",
              "      <td>375041.96875</td>\n",
              "      <td>375041.96875</td>\n",
              "    </tr>\n",
              "    <tr>\n",
              "      <th>1</th>\n",
              "      <td>482919.43750</td>\n",
              "      <td>482919.43750</td>\n",
              "      <td>375041.96875</td>\n",
              "      <td>375041.96875</td>\n",
              "    </tr>\n",
              "    <tr>\n",
              "      <th>2</th>\n",
              "      <td>482919.50000</td>\n",
              "      <td>482919.50000</td>\n",
              "      <td>375041.96875</td>\n",
              "      <td>375041.96875</td>\n",
              "    </tr>\n",
              "    <tr>\n",
              "      <th>3</th>\n",
              "      <td>482919.40625</td>\n",
              "      <td>482919.40625</td>\n",
              "      <td>375041.96875</td>\n",
              "      <td>375041.96875</td>\n",
              "    </tr>\n",
              "    <tr>\n",
              "      <th>4</th>\n",
              "      <td>482919.53125</td>\n",
              "      <td>482919.53125</td>\n",
              "      <td>375041.96875</td>\n",
              "      <td>375041.96875</td>\n",
              "    </tr>\n",
              "    <tr>\n",
              "      <th>...</th>\n",
              "      <td>...</td>\n",
              "      <td>...</td>\n",
              "      <td>...</td>\n",
              "      <td>...</td>\n",
              "    </tr>\n",
              "    <tr>\n",
              "      <th>95</th>\n",
              "      <td>482919.62500</td>\n",
              "      <td>482919.62500</td>\n",
              "      <td>375041.96875</td>\n",
              "      <td>375041.96875</td>\n",
              "    </tr>\n",
              "    <tr>\n",
              "      <th>96</th>\n",
              "      <td>482919.43750</td>\n",
              "      <td>482919.43750</td>\n",
              "      <td>375041.96875</td>\n",
              "      <td>375041.96875</td>\n",
              "    </tr>\n",
              "    <tr>\n",
              "      <th>97</th>\n",
              "      <td>482919.68750</td>\n",
              "      <td>482919.68750</td>\n",
              "      <td>375041.96875</td>\n",
              "      <td>375041.96875</td>\n",
              "    </tr>\n",
              "    <tr>\n",
              "      <th>98</th>\n",
              "      <td>482919.40625</td>\n",
              "      <td>482919.40625</td>\n",
              "      <td>375041.96875</td>\n",
              "      <td>375041.96875</td>\n",
              "    </tr>\n",
              "    <tr>\n",
              "      <th>99</th>\n",
              "      <td>482919.68750</td>\n",
              "      <td>482919.68750</td>\n",
              "      <td>375041.96875</td>\n",
              "      <td>375041.96875</td>\n",
              "    </tr>\n",
              "  </tbody>\n",
              "</table>\n",
              "<p>100 rows × 4 columns</p>\n",
              "</div>\n",
              "      <button class=\"colab-df-convert\" onclick=\"convertToInteractive('df-9d3ed78b-2be1-45bd-b26e-d02e49d25a44')\"\n",
              "              title=\"Convert this dataframe to an interactive table.\"\n",
              "              style=\"display:none;\">\n",
              "        \n",
              "  <svg xmlns=\"http://www.w3.org/2000/svg\" height=\"24px\"viewBox=\"0 0 24 24\"\n",
              "       width=\"24px\">\n",
              "    <path d=\"M0 0h24v24H0V0z\" fill=\"none\"/>\n",
              "    <path d=\"M18.56 5.44l.94 2.06.94-2.06 2.06-.94-2.06-.94-.94-2.06-.94 2.06-2.06.94zm-11 1L8.5 8.5l.94-2.06 2.06-.94-2.06-.94L8.5 2.5l-.94 2.06-2.06.94zm10 10l.94 2.06.94-2.06 2.06-.94-2.06-.94-.94-2.06-.94 2.06-2.06.94z\"/><path d=\"M17.41 7.96l-1.37-1.37c-.4-.4-.92-.59-1.43-.59-.52 0-1.04.2-1.43.59L10.3 9.45l-7.72 7.72c-.78.78-.78 2.05 0 2.83L4 21.41c.39.39.9.59 1.41.59.51 0 1.02-.2 1.41-.59l7.78-7.78 2.81-2.81c.8-.78.8-2.07 0-2.86zM5.41 20L4 18.59l7.72-7.72 1.47 1.35L5.41 20z\"/>\n",
              "  </svg>\n",
              "      </button>\n",
              "      \n",
              "  <style>\n",
              "    .colab-df-container {\n",
              "      display:flex;\n",
              "      flex-wrap:wrap;\n",
              "      gap: 12px;\n",
              "    }\n",
              "\n",
              "    .colab-df-convert {\n",
              "      background-color: #E8F0FE;\n",
              "      border: none;\n",
              "      border-radius: 50%;\n",
              "      cursor: pointer;\n",
              "      display: none;\n",
              "      fill: #1967D2;\n",
              "      height: 32px;\n",
              "      padding: 0 0 0 0;\n",
              "      width: 32px;\n",
              "    }\n",
              "\n",
              "    .colab-df-convert:hover {\n",
              "      background-color: #E2EBFA;\n",
              "      box-shadow: 0px 1px 2px rgba(60, 64, 67, 0.3), 0px 1px 3px 1px rgba(60, 64, 67, 0.15);\n",
              "      fill: #174EA6;\n",
              "    }\n",
              "\n",
              "    [theme=dark] .colab-df-convert {\n",
              "      background-color: #3B4455;\n",
              "      fill: #D2E3FC;\n",
              "    }\n",
              "\n",
              "    [theme=dark] .colab-df-convert:hover {\n",
              "      background-color: #434B5C;\n",
              "      box-shadow: 0px 1px 3px 1px rgba(0, 0, 0, 0.15);\n",
              "      filter: drop-shadow(0px 1px 2px rgba(0, 0, 0, 0.3));\n",
              "      fill: #FFFFFF;\n",
              "    }\n",
              "  </style>\n",
              "\n",
              "      <script>\n",
              "        const buttonEl =\n",
              "          document.querySelector('#df-9d3ed78b-2be1-45bd-b26e-d02e49d25a44 button.colab-df-convert');\n",
              "        buttonEl.style.display =\n",
              "          google.colab.kernel.accessAllowed ? 'block' : 'none';\n",
              "\n",
              "        async function convertToInteractive(key) {\n",
              "          const element = document.querySelector('#df-9d3ed78b-2be1-45bd-b26e-d02e49d25a44');\n",
              "          const dataTable =\n",
              "            await google.colab.kernel.invokeFunction('convertToInteractive',\n",
              "                                                     [key], {});\n",
              "          if (!dataTable) return;\n",
              "\n",
              "          const docLinkHtml = 'Like what you see? Visit the ' +\n",
              "            '<a target=\"_blank\" href=https://colab.research.google.com/notebooks/data_table.ipynb>data table notebook</a>'\n",
              "            + ' to learn more about interactive tables.';\n",
              "          element.innerHTML = '';\n",
              "          dataTable['output_type'] = 'display_data';\n",
              "          await google.colab.output.renderOutput(dataTable, element);\n",
              "          const docLink = document.createElement('div');\n",
              "          docLink.innerHTML = docLinkHtml;\n",
              "          element.appendChild(docLink);\n",
              "        }\n",
              "      </script>\n",
              "    </div>\n",
              "  </div>\n",
              "  "
            ]
          },
          "metadata": {},
          "execution_count": 66
        }
      ],
      "source": [
        "loss = pd.DataFrame(history.history)\n",
        "loss"
      ]
    },
    {
      "cell_type": "code",
      "source": [
        "plt.plot(loss['loss'],label = 'loss')\n",
        "plt.legend()\n",
        "plt.title('Loss vs Epochs')"
      ],
      "metadata": {
        "colab": {
          "base_uri": "https://localhost:8080/",
          "height": 298
        },
        "id": "A9Hh91nlh1sO",
        "outputId": "e5b03334-83a9-4e40-96fa-c2ad138c7005"
      },
      "execution_count": null,
      "outputs": [
        {
          "output_type": "execute_result",
          "data": {
            "text/plain": [
              "Text(0.5, 1.0, 'Loss vs Epochs')"
            ]
          },
          "metadata": {},
          "execution_count": 67
        },
        {
          "output_type": "display_data",
          "data": {
            "text/plain": [
              "<Figure size 432x288 with 1 Axes>"
            ],
            "image/png": "[encoded data removed]"
          },
          "metadata": {
            "needs_background": "light"
          }
        }
      ]
    },
    {
      "cell_type": "code",
      "source": [
        "plt.plot(loss['mae'],label = 'mae')\n",
        "plt.legend()\n",
        "plt.title('mae vs epochs')"
      ],
      "metadata": {
        "colab": {
          "base_uri": "https://localhost:8080/",
          "height": 298
        },
        "id": "tdD4JMT9h2-V",
        "outputId": "3571bce3-1bd2-49f8-f8af-83d8912f3275"
      },
      "execution_count": null,
      "outputs": [
        {
          "output_type": "execute_result",
          "data": {
            "text/plain": [
              "Text(0.5, 1.0, 'mae vs epochs')"
            ]
          },
          "metadata": {},
          "execution_count": 68
        },
        {
          "output_type": "display_data",
          "data": {
            "text/plain": [
              "<Figure size 432x288 with 1 Axes>"
            ],
            "image/png": "[encoded data removed]"
          },
          "metadata": {
            "needs_background": "light"
          }
        }
      ]
    },
    {
      "cell_type": "code",
      "source": [
        ""
      ],
      "metadata": {
        "id": "PaO1SfRVpHLN"
      },
      "execution_count": null,
      "outputs": []
    },
    {
      "cell_type": "code",
      "source": [
        ""
      ],
      "metadata": {
        "id": "WkgmIJ3Uh3H_"
      },
      "execution_count": null,
      "outputs": []
    },
    {
      "cell_type": "markdown",
      "metadata": {
        "id": "jxEgOywqMgwY"
      },
      "source": [
        "# ANN"
      ]
    },
    {
      "cell_type": "code",
      "execution_count": null,
      "metadata": {
        "id": "I7jJBuAQMgwY"
      },
      "outputs": [],
      "source": [
        "# Initialising the ANN\n",
        "model = Sequential()\n",
        "\n",
        "# Adding the input layer and the first hidden layer\n",
        "model.add(Dense(32, activation = 'relu', input_dim = 7))\n",
        "\n",
        "# Adding the second hidden layer\n",
        "model.add(Dense(units = 128, activation = 'relu'))\n",
        "\n",
        "# Adding the third hidden layer\n",
        "model.add(Dense(units = 128, activation = 'relu'))\n",
        "\n",
        "# Adding the output layer\n",
        "model.add(Dense(units = 1))"
      ]
    },
    {
      "cell_type": "code",
      "execution_count": null,
      "metadata": {
        "id": "0Wjpt9WBMgwY"
      },
      "outputs": [],
      "source": [
        "model.compile(optimizer = keras.optimizers.Adam(learning_rate = 1e-1),loss = 'mean_squared_error',metrics = 'mae')"
      ]
    },
    {
      "cell_type": "code",
      "source": [
        "model.summary()"
      ],
      "metadata": {
        "colab": {
          "base_uri": "https://localhost:8080/"
        },
        "id": "Wnrua4RogMV4",
        "outputId": "06103f17-5b36-4114-946c-28d09179dd69"
      },
      "execution_count": null,
      "outputs": [
        {
          "output_type": "stream",
          "name": "stdout",
          "text": [
            "Model: \"sequential_1\"\n",
            "_________________________________________________________________\n",
            " Layer (type)                Output Shape              Param #   \n",
            "=================================================================\n",
            " dense_1 (Dense)             (None, 32)                256       \n",
            "                                                                 \n",
            " dense_2 (Dense)             (None, 128)               4224      \n",
            "                                                                 \n",
            " dense_3 (Dense)             (None, 128)               16512     \n",
            "                                                                 \n",
            " dense_4 (Dense)             (None, 1)                 129       \n",
            "                                                                 \n",
            "=================================================================\n",
            "Total params: 21,121\n",
            "Trainable params: 21,121\n",
            "Non-trainable params: 0\n",
            "_________________________________________________________________\n"
          ]
        }
      ]
    },
    {
      "cell_type": "code",
      "execution_count": null,
      "metadata": {
        "colab": {
          "base_uri": "https://localhost:8080/"
        },
        "id": "CS3mZZDVMgwY",
        "outputId": "c9859370-da6d-4b75-92be-fc486d4cba6c"
      },
      "outputs": [
        {
          "output_type": "stream",
          "name": "stdout",
          "text": [
            "Epoch 1/277\n",
            "278/278 [==============================] - 1s 2ms/step - loss: 5357524484096.0000 - mae: 607552.6250\n",
            "Epoch 2/277\n",
            "278/278 [==============================] - 1s 2ms/step - loss: 5280453623808.0000 - mae: 590462.8750\n",
            "Epoch 3/277\n",
            "278/278 [==============================] - 1s 2ms/step - loss: 5308134981632.0000 - mae: 569305.9375\n",
            "Epoch 4/277\n",
            "278/278 [==============================] - 1s 2ms/step - loss: 5142682271744.0000 - mae: 582279.9375\n",
            "Epoch 5/277\n",
            "278/278 [==============================] - 1s 2ms/step - loss: 5113990086656.0000 - mae: 572383.1875\n",
            "Epoch 6/277\n",
            "278/278 [==============================] - 0s 2ms/step - loss: 5014073376768.0000 - mae: 579161.8750\n",
            "Epoch 7/277\n",
            "278/278 [==============================] - 1s 2ms/step - loss: 4885606039552.0000 - mae: 562783.1250\n",
            "Epoch 8/277\n",
            "278/278 [==============================] - 1s 2ms/step - loss: 4688203743232.0000 - mae: 547206.9375\n",
            "Epoch 9/277\n",
            "278/278 [==============================] - 1s 2ms/step - loss: 4364686065664.0000 - mae: 532029.0000\n",
            "Epoch 10/277\n",
            "278/278 [==============================] - 1s 2ms/step - loss: 4615757103104.0000 - mae: 549105.3750\n",
            "Epoch 11/277\n",
            "278/278 [==============================] - 1s 2ms/step - loss: 4356261806080.0000 - mae: 531576.8750\n",
            "Epoch 12/277\n",
            "278/278 [==============================] - 0s 2ms/step - loss: 4055774789632.0000 - mae: 533149.0000\n",
            "Epoch 13/277\n",
            "278/278 [==============================] - 1s 2ms/step - loss: 5301841428480.0000 - mae: 514783.7812\n",
            "Epoch 14/277\n",
            "278/278 [==============================] - 1s 2ms/step - loss: 5479024033792.0000 - mae: 519142.9375\n",
            "Epoch 15/277\n",
            "278/278 [==============================] - 1s 2ms/step - loss: 3507425378304.0000 - mae: 513605.4062\n",
            "Epoch 16/277\n",
            "278/278 [==============================] - 1s 2ms/step - loss: 4190999674880.0000 - mae: 516959.0938\n",
            "Epoch 17/277\n",
            "278/278 [==============================] - 1s 2ms/step - loss: 3101893066752.0000 - mae: 474264.7812\n",
            "Epoch 18/277\n",
            "278/278 [==============================] - 0s 2ms/step - loss: 3443651772416.0000 - mae: 495608.1562\n",
            "Epoch 19/277\n",
            "278/278 [==============================] - 1s 2ms/step - loss: 2644599111680.0000 - mae: 445832.2188\n",
            "Epoch 20/277\n",
            "278/278 [==============================] - 0s 2ms/step - loss: 2492311797760.0000 - mae: 425926.3125\n",
            "Epoch 21/277\n",
            "278/278 [==============================] - 1s 2ms/step - loss: 2182035800064.0000 - mae: 428094.7188\n",
            "Epoch 22/277\n",
            "278/278 [==============================] - 1s 3ms/step - loss: 3024651288576.0000 - mae: 462775.2812\n",
            "Epoch 23/277\n",
            "278/278 [==============================] - 1s 5ms/step - loss: 2526780588032.0000 - mae: 440673.3125\n",
            "Epoch 24/277\n",
            "278/278 [==============================] - 1s 4ms/step - loss: 2147118874624.0000 - mae: 428507.5938\n",
            "Epoch 25/277\n",
            "278/278 [==============================] - 1s 4ms/step - loss: 2014016307200.0000 - mae: 415668.0938\n",
            "Epoch 26/277\n",
            "278/278 [==============================] - 1s 4ms/step - loss: 1980298297344.0000 - mae: 397587.4375\n",
            "Epoch 27/277\n",
            "278/278 [==============================] - 1s 3ms/step - loss: 1922117271552.0000 - mae: 389501.3750\n",
            "Epoch 28/277\n",
            "278/278 [==============================] - 1s 4ms/step - loss: 1910525919232.0000 - mae: 392515.9375\n",
            "Epoch 29/277\n",
            "278/278 [==============================] - 1s 3ms/step - loss: 1482474520576.0000 - mae: 382011.2812\n",
            "Epoch 30/277\n",
            "278/278 [==============================] - 1s 3ms/step - loss: 1449583050752.0000 - mae: 387508.5625\n",
            "Epoch 31/277\n",
            "278/278 [==============================] - 1s 3ms/step - loss: 2262401024000.0000 - mae: 411908.7500\n",
            "Epoch 32/277\n",
            "278/278 [==============================] - 1s 3ms/step - loss: 3735060480000.0000 - mae: 470750.5000\n",
            "Epoch 33/277\n",
            "278/278 [==============================] - 1s 3ms/step - loss: 2882445246464.0000 - mae: 466682.7500\n",
            "Epoch 34/277\n",
            "278/278 [==============================] - 1s 4ms/step - loss: 1448343764992.0000 - mae: 390651.5625\n",
            "Epoch 35/277\n",
            "278/278 [==============================] - 1s 4ms/step - loss: 1429935620096.0000 - mae: 375902.1875\n",
            "Epoch 36/277\n",
            "278/278 [==============================] - 1s 2ms/step - loss: 1685290876928.0000 - mae: 378230.7812\n",
            "Epoch 37/277\n",
            "278/278 [==============================] - 1s 2ms/step - loss: 1951260082176.0000 - mae: 391992.3750\n",
            "Epoch 38/277\n",
            "278/278 [==============================] - 1s 2ms/step - loss: 1237155446784.0000 - mae: 366505.0000\n",
            "Epoch 39/277\n",
            "278/278 [==============================] - 1s 2ms/step - loss: 1264792502272.0000 - mae: 369782.8750\n",
            "Epoch 40/277\n",
            "278/278 [==============================] - 1s 2ms/step - loss: 1457512906752.0000 - mae: 359733.8125\n",
            "Epoch 41/277\n",
            "278/278 [==============================] - 1s 2ms/step - loss: 1122565488640.0000 - mae: 341974.4062\n",
            "Epoch 42/277\n",
            "278/278 [==============================] - 1s 2ms/step - loss: 1280883949568.0000 - mae: 355851.8125\n",
            "Epoch 43/277\n",
            "278/278 [==============================] - 1s 2ms/step - loss: 1141653766144.0000 - mae: 344813.1562\n",
            "Epoch 44/277\n",
            "278/278 [==============================] - 1s 2ms/step - loss: 1304668536832.0000 - mae: 351112.1250\n",
            "Epoch 45/277\n",
            "278/278 [==============================] - 1s 2ms/step - loss: 1675807162368.0000 - mae: 364406.7812\n",
            "Epoch 46/277\n",
            "278/278 [==============================] - 1s 2ms/step - loss: 1104972349440.0000 - mae: 351486.4062\n",
            "Epoch 47/277\n",
            "278/278 [==============================] - 1s 2ms/step - loss: 1220295655424.0000 - mae: 337243.6875\n",
            "Epoch 48/277\n",
            "278/278 [==============================] - 1s 2ms/step - loss: 1004384092160.0000 - mae: 331513.3750\n",
            "Epoch 49/277\n",
            "278/278 [==============================] - 1s 2ms/step - loss: 2043537522688.0000 - mae: 374270.9688\n",
            "Epoch 50/277\n",
            "278/278 [==============================] - 1s 2ms/step - loss: 1521234608128.0000 - mae: 380766.5000\n",
            "Epoch 51/277\n",
            "278/278 [==============================] - 1s 2ms/step - loss: 1402726645760.0000 - mae: 350988.3125\n",
            "Epoch 52/277\n",
            "278/278 [==============================] - 1s 2ms/step - loss: 998318538752.0000 - mae: 344437.0312\n",
            "Epoch 53/277\n",
            "278/278 [==============================] - 1s 2ms/step - loss: 858583072768.0000 - mae: 320449.5000\n",
            "Epoch 54/277\n",
            "278/278 [==============================] - 1s 2ms/step - loss: 895679528960.0000 - mae: 309920.5625\n",
            "Epoch 55/277\n",
            "278/278 [==============================] - 1s 2ms/step - loss: 1061537906688.0000 - mae: 322853.9062\n",
            "Epoch 56/277\n",
            "278/278 [==============================] - 1s 2ms/step - loss: 1059017064448.0000 - mae: 340652.3750\n",
            "Epoch 57/277\n",
            "278/278 [==============================] - 1s 2ms/step - loss: 3911274463232.0000 - mae: 479875.4688\n",
            "Epoch 58/277\n",
            "278/278 [==============================] - 1s 3ms/step - loss: 1195238227968.0000 - mae: 327423.9062\n",
            "Epoch 59/277\n",
            "278/278 [==============================] - 1s 3ms/step - loss: 903686520832.0000 - mae: 316282.4062\n",
            "Epoch 60/277\n",
            "278/278 [==============================] - 1s 4ms/step - loss: 710658424832.0000 - mae: 295106.1250\n",
            "Epoch 61/277\n",
            "278/278 [==============================] - 1s 4ms/step - loss: 773899288576.0000 - mae: 304427.0938\n",
            "Epoch 62/277\n",
            "278/278 [==============================] - 1s 2ms/step - loss: 1199017033728.0000 - mae: 340574.0312\n",
            "Epoch 63/277\n",
            "278/278 [==============================] - 1s 2ms/step - loss: 885571190784.0000 - mae: 304748.5625\n",
            "Epoch 64/277\n",
            "278/278 [==============================] - 1s 2ms/step - loss: 919324065792.0000 - mae: 309189.0625\n",
            "Epoch 65/277\n",
            "278/278 [==============================] - 1s 2ms/step - loss: 932237541376.0000 - mae: 310671.4688\n",
            "Epoch 66/277\n",
            "278/278 [==============================] - 1s 2ms/step - loss: 961342341120.0000 - mae: 316184.9062\n",
            "Epoch 67/277\n",
            "278/278 [==============================] - 1s 2ms/step - loss: 948521205760.0000 - mae: 303574.8125\n",
            "Epoch 68/277\n",
            "278/278 [==============================] - 1s 2ms/step - loss: 1011876167680.0000 - mae: 303396.9375\n",
            "Epoch 69/277\n",
            "278/278 [==============================] - 1s 2ms/step - loss: 1018031898624.0000 - mae: 301021.7500\n",
            "Epoch 70/277\n",
            "278/278 [==============================] - 1s 2ms/step - loss: 766392401920.0000 - mae: 292337.3750\n",
            "Epoch 71/277\n",
            "278/278 [==============================] - 1s 2ms/step - loss: 839363723264.0000 - mae: 284948.6562\n",
            "Epoch 72/277\n",
            "278/278 [==============================] - 1s 2ms/step - loss: 761063604224.0000 - mae: 278970.3438\n",
            "Epoch 73/277\n",
            "278/278 [==============================] - 1s 2ms/step - loss: 999045529600.0000 - mae: 298507.6875\n",
            "Epoch 74/277\n",
            "278/278 [==============================] - 1s 2ms/step - loss: 941307330560.0000 - mae: 307065.2500\n",
            "Epoch 75/277\n",
            "278/278 [==============================] - 1s 2ms/step - loss: 1345979940864.0000 - mae: 320328.1250\n",
            "Epoch 76/277\n",
            "278/278 [==============================] - 1s 2ms/step - loss: 716644155392.0000 - mae: 286330.9375\n",
            "Epoch 77/277\n",
            "278/278 [==============================] - 1s 2ms/step - loss: 1005084540928.0000 - mae: 296444.9688\n",
            "Epoch 78/277\n",
            "278/278 [==============================] - 1s 2ms/step - loss: 809735159808.0000 - mae: 305485.3438\n",
            "Epoch 79/277\n",
            "278/278 [==============================] - 1s 2ms/step - loss: 706699591680.0000 - mae: 284908.4375\n",
            "Epoch 80/277\n",
            "278/278 [==============================] - 1s 2ms/step - loss: 982952312832.0000 - mae: 302727.9688\n",
            "Epoch 81/277\n",
            "278/278 [==============================] - 1s 2ms/step - loss: 1532661989376.0000 - mae: 330413.5312\n",
            "Epoch 82/277\n",
            "278/278 [==============================] - 1s 2ms/step - loss: 735884083200.0000 - mae: 282837.6875\n",
            "Epoch 83/277\n",
            "278/278 [==============================] - 1s 2ms/step - loss: 990281334784.0000 - mae: 287628.2812\n",
            "Epoch 84/277\n",
            "278/278 [==============================] - 1s 2ms/step - loss: 743713275904.0000 - mae: 272927.3125\n",
            "Epoch 85/277\n",
            "278/278 [==============================] - 1s 2ms/step - loss: 945349853184.0000 - mae: 278941.6562\n",
            "Epoch 86/277\n",
            "278/278 [==============================] - 1s 2ms/step - loss: 619612274688.0000 - mae: 261677.7344\n",
            "Epoch 87/277\n",
            "278/278 [==============================] - 1s 2ms/step - loss: 2242437709824.0000 - mae: 370044.2500\n",
            "Epoch 88/277\n",
            "278/278 [==============================] - 1s 2ms/step - loss: 1346269872128.0000 - mae: 350169.9375\n",
            "Epoch 89/277\n",
            "278/278 [==============================] - 1s 2ms/step - loss: 870465732608.0000 - mae: 315727.7500\n",
            "Epoch 90/277\n",
            "278/278 [==============================] - 1s 2ms/step - loss: 596671528960.0000 - mae: 288832.1250\n",
            "Epoch 91/277\n",
            "278/278 [==============================] - 1s 2ms/step - loss: 866271297536.0000 - mae: 285540.8750\n",
            "Epoch 92/277\n",
            "278/278 [==============================] - 1s 2ms/step - loss: 531358220288.0000 - mae: 243661.9375\n",
            "Epoch 93/277\n",
            "278/278 [==============================] - 1s 2ms/step - loss: 742207193088.0000 - mae: 267987.1562\n",
            "Epoch 94/277\n",
            "278/278 [==============================] - 0s 2ms/step - loss: 805117493248.0000 - mae: 272024.8125\n",
            "Epoch 95/277\n",
            "278/278 [==============================] - 1s 2ms/step - loss: 555888345088.0000 - mae: 260969.0625\n",
            "Epoch 96/277\n",
            "278/278 [==============================] - 1s 2ms/step - loss: 642447245312.0000 - mae: 257510.0625\n",
            "Epoch 97/277\n",
            "278/278 [==============================] - 1s 2ms/step - loss: 655742599168.0000 - mae: 262148.9688\n",
            "Epoch 98/277\n",
            "278/278 [==============================] - 0s 2ms/step - loss: 665319309312.0000 - mae: 261250.4531\n",
            "Epoch 99/277\n",
            "278/278 [==============================] - 1s 2ms/step - loss: 750513291264.0000 - mae: 259148.4375\n",
            "Epoch 100/277\n",
            "278/278 [==============================] - 1s 2ms/step - loss: 467882115072.0000 - mae: 246776.2031\n",
            "Epoch 101/277\n",
            "278/278 [==============================] - 1s 2ms/step - loss: 753898815488.0000 - mae: 261680.6406\n",
            "Epoch 102/277\n",
            "278/278 [==============================] - 1s 2ms/step - loss: 717806829568.0000 - mae: 271624.0000\n",
            "Epoch 103/277\n",
            "278/278 [==============================] - 1s 2ms/step - loss: 560194846720.0000 - mae: 240913.6094\n",
            "Epoch 104/277\n",
            "278/278 [==============================] - 1s 2ms/step - loss: 1096099495936.0000 - mae: 294734.6562\n",
            "Epoch 105/277\n",
            "278/278 [==============================] - 1s 2ms/step - loss: 2042893041664.0000 - mae: 346523.1562\n",
            "Epoch 106/277\n",
            "278/278 [==============================] - 1s 2ms/step - loss: 612696195072.0000 - mae: 267857.7812\n",
            "Epoch 107/277\n",
            "278/278 [==============================] - 1s 2ms/step - loss: 592202235904.0000 - mae: 260036.1719\n",
            "Epoch 108/277\n",
            "278/278 [==============================] - 1s 2ms/step - loss: 519188807680.0000 - mae: 238573.8594\n",
            "Epoch 109/277\n",
            "278/278 [==============================] - 1s 2ms/step - loss: 582659342336.0000 - mae: 254144.0000\n",
            "Epoch 110/277\n",
            "278/278 [==============================] - 1s 2ms/step - loss: 410782728192.0000 - mae: 234919.0312\n",
            "Epoch 111/277\n",
            "278/278 [==============================] - 1s 2ms/step - loss: 497536466944.0000 - mae: 240455.1250\n",
            "Epoch 112/277\n",
            "278/278 [==============================] - 1s 2ms/step - loss: 486531268608.0000 - mae: 238371.7656\n",
            "Epoch 113/277\n",
            "278/278 [==============================] - 1s 2ms/step - loss: 578150072320.0000 - mae: 253612.5312\n",
            "Epoch 114/277\n",
            "278/278 [==============================] - 1s 2ms/step - loss: 1509465260032.0000 - mae: 292483.4688\n",
            "Epoch 115/277\n",
            "278/278 [==============================] - 1s 2ms/step - loss: 1467066482688.0000 - mae: 336818.2812\n",
            "Epoch 116/277\n",
            "278/278 [==============================] - 1s 2ms/step - loss: 1068749029376.0000 - mae: 308240.6875\n",
            "Epoch 117/277\n",
            "278/278 [==============================] - 1s 2ms/step - loss: 594141184000.0000 - mae: 254506.2656\n",
            "Epoch 118/277\n",
            "278/278 [==============================] - 1s 2ms/step - loss: 603099430912.0000 - mae: 245129.4062\n",
            "Epoch 119/277\n",
            "278/278 [==============================] - 1s 2ms/step - loss: 678373294080.0000 - mae: 254505.4062\n",
            "Epoch 120/277\n",
            "278/278 [==============================] - 1s 2ms/step - loss: 508600188928.0000 - mae: 237755.7500\n",
            "Epoch 121/277\n",
            "278/278 [==============================] - 1s 2ms/step - loss: 656825319424.0000 - mae: 246707.7656\n",
            "Epoch 122/277\n",
            "278/278 [==============================] - 1s 2ms/step - loss: 697363988480.0000 - mae: 264741.1875\n",
            "Epoch 123/277\n",
            "278/278 [==============================] - 1s 2ms/step - loss: 1612268961792.0000 - mae: 325953.5625\n",
            "Epoch 124/277\n",
            "278/278 [==============================] - 1s 2ms/step - loss: 793586958336.0000 - mae: 267950.5625\n",
            "Epoch 125/277\n",
            "278/278 [==============================] - 1s 2ms/step - loss: 636021374976.0000 - mae: 255951.3125\n",
            "Epoch 126/277\n",
            "278/278 [==============================] - 1s 2ms/step - loss: 460144345088.0000 - mae: 237093.7656\n",
            "Epoch 127/277\n",
            "278/278 [==============================] - 1s 2ms/step - loss: 474603552768.0000 - mae: 239041.5469\n",
            "Epoch 128/277\n",
            "278/278 [==============================] - 1s 2ms/step - loss: 542085218304.0000 - mae: 242224.0312\n",
            "Epoch 129/277\n",
            "278/278 [==============================] - 1s 2ms/step - loss: 530779668480.0000 - mae: 243135.2344\n",
            "Epoch 130/277\n",
            "278/278 [==============================] - 1s 2ms/step - loss: 523880824832.0000 - mae: 242182.7812\n",
            "Epoch 131/277\n",
            "278/278 [==============================] - 1s 2ms/step - loss: 429579599872.0000 - mae: 234902.6562\n",
            "Epoch 132/277\n",
            "278/278 [==============================] - 1s 2ms/step - loss: 566088499200.0000 - mae: 237642.0625\n",
            "Epoch 133/277\n",
            "278/278 [==============================] - 1s 2ms/step - loss: 346344456192.0000 - mae: 217735.2500\n",
            "Epoch 134/277\n",
            "278/278 [==============================] - 1s 2ms/step - loss: 487147307008.0000 - mae: 226911.7656\n",
            "Epoch 135/277\n",
            "278/278 [==============================] - 1s 2ms/step - loss: 683341053952.0000 - mae: 241600.0000\n",
            "Epoch 136/277\n",
            "278/278 [==============================] - 1s 2ms/step - loss: 532384350208.0000 - mae: 226856.0938\n",
            "Epoch 137/277\n",
            "278/278 [==============================] - 1s 2ms/step - loss: 474935427072.0000 - mae: 232905.7344\n",
            "Epoch 138/277\n",
            "278/278 [==============================] - 1s 2ms/step - loss: 1038690353152.0000 - mae: 270162.9688\n",
            "Epoch 139/277\n",
            "278/278 [==============================] - 1s 2ms/step - loss: 649831251968.0000 - mae: 247282.9375\n",
            "Epoch 140/277\n",
            "278/278 [==============================] - 1s 2ms/step - loss: 382305468416.0000 - mae: 214712.0156\n",
            "Epoch 141/277\n",
            "278/278 [==============================] - 1s 2ms/step - loss: 353522778112.0000 - mae: 206404.6875\n",
            "Epoch 142/277\n",
            "278/278 [==============================] - 1s 2ms/step - loss: 427939790848.0000 - mae: 220809.6250\n",
            "Epoch 143/277\n",
            "278/278 [==============================] - 1s 2ms/step - loss: 470922788864.0000 - mae: 225537.0625\n",
            "Epoch 144/277\n",
            "278/278 [==============================] - 1s 2ms/step - loss: 353815691264.0000 - mae: 216499.2812\n",
            "Epoch 145/277\n",
            "278/278 [==============================] - 1s 2ms/step - loss: 590989426688.0000 - mae: 223167.9375\n",
            "Epoch 146/277\n",
            "278/278 [==============================] - 1s 2ms/step - loss: 348691988480.0000 - mae: 212535.4375\n",
            "Epoch 147/277\n",
            "278/278 [==============================] - 1s 2ms/step - loss: 374080471040.0000 - mae: 214198.8125\n",
            "Epoch 148/277\n",
            "278/278 [==============================] - 1s 2ms/step - loss: 411841691648.0000 - mae: 214002.0469\n",
            "Epoch 149/277\n",
            "278/278 [==============================] - 1s 2ms/step - loss: 514648571904.0000 - mae: 227790.8125\n",
            "Epoch 150/277\n",
            "278/278 [==============================] - 1s 2ms/step - loss: 677575000064.0000 - mae: 249702.1562\n",
            "Epoch 151/277\n",
            "278/278 [==============================] - 1s 2ms/step - loss: 329496395776.0000 - mae: 204999.0156\n",
            "Epoch 152/277\n",
            "278/278 [==============================] - 1s 2ms/step - loss: 889858883584.0000 - mae: 262011.0156\n",
            "Epoch 153/277\n",
            "278/278 [==============================] - 1s 2ms/step - loss: 756508721152.0000 - mae: 248159.7500\n",
            "Epoch 154/277\n",
            "278/278 [==============================] - 1s 2ms/step - loss: 545251295232.0000 - mae: 229141.4062\n",
            "Epoch 155/277\n",
            "278/278 [==============================] - 1s 2ms/step - loss: 669771628544.0000 - mae: 222826.8281\n",
            "Epoch 156/277\n",
            "278/278 [==============================] - 1s 2ms/step - loss: 387787980800.0000 - mae: 207120.8594\n",
            "Epoch 157/277\n",
            "278/278 [==============================] - 1s 2ms/step - loss: 361492774912.0000 - mae: 193070.1406\n",
            "Epoch 158/277\n",
            "278/278 [==============================] - 1s 2ms/step - loss: 525299384320.0000 - mae: 198082.9531\n",
            "Epoch 159/277\n",
            "278/278 [==============================] - 1s 2ms/step - loss: 534706061312.0000 - mae: 210021.6719\n",
            "Epoch 160/277\n",
            "278/278 [==============================] - 1s 2ms/step - loss: 381974315008.0000 - mae: 200046.7500\n",
            "Epoch 161/277\n",
            "278/278 [==============================] - 1s 2ms/step - loss: 377410420736.0000 - mae: 183127.8281\n",
            "Epoch 162/277\n",
            "278/278 [==============================] - 1s 2ms/step - loss: 367170125824.0000 - mae: 184092.9844\n",
            "Epoch 163/277\n",
            "278/278 [==============================] - 1s 2ms/step - loss: 521456615424.0000 - mae: 203341.6875\n",
            "Epoch 164/277\n",
            "278/278 [==============================] - 1s 2ms/step - loss: 970403872768.0000 - mae: 243910.4844\n",
            "Epoch 165/277\n",
            "278/278 [==============================] - 1s 2ms/step - loss: 384122355712.0000 - mae: 193821.7656\n",
            "Epoch 166/277\n",
            "278/278 [==============================] - 1s 2ms/step - loss: 577694924800.0000 - mae: 208645.3281\n",
            "Epoch 167/277\n",
            "278/278 [==============================] - 1s 2ms/step - loss: 409618087936.0000 - mae: 193121.4844\n",
            "Epoch 168/277\n",
            "278/278 [==============================] - 1s 2ms/step - loss: 277424046080.0000 - mae: 174698.5938\n",
            "Epoch 169/277\n",
            "278/278 [==============================] - 1s 2ms/step - loss: 311347904512.0000 - mae: 176318.2344\n",
            "Epoch 170/277\n",
            "278/278 [==============================] - 1s 2ms/step - loss: 440233426944.0000 - mae: 180013.6719\n",
            "Epoch 171/277\n",
            "278/278 [==============================] - 1s 2ms/step - loss: 509974380544.0000 - mae: 191417.4375\n",
            "Epoch 172/277\n",
            "278/278 [==============================] - 1s 2ms/step - loss: 738093301760.0000 - mae: 196057.7500\n",
            "Epoch 173/277\n",
            "278/278 [==============================] - 1s 2ms/step - loss: 332110364672.0000 - mae: 172817.6250\n",
            "Epoch 174/277\n",
            "278/278 [==============================] - 1s 2ms/step - loss: 401164107776.0000 - mae: 177420.6406\n",
            "Epoch 175/277\n",
            "278/278 [==============================] - 1s 2ms/step - loss: 450003828736.0000 - mae: 192148.9531\n",
            "Epoch 176/277\n",
            "278/278 [==============================] - 1s 2ms/step - loss: 573046194176.0000 - mae: 192278.6562\n",
            "Epoch 177/277\n",
            "278/278 [==============================] - 1s 2ms/step - loss: 335661367296.0000 - mae: 175972.0469\n",
            "Epoch 178/277\n",
            "278/278 [==============================] - 1s 2ms/step - loss: 319415549952.0000 - mae: 170849.5312\n",
            "Epoch 179/277\n",
            "278/278 [==============================] - 1s 2ms/step - loss: 246054748160.0000 - mae: 157030.1875\n",
            "Epoch 180/277\n",
            "278/278 [==============================] - 1s 2ms/step - loss: 305700438016.0000 - mae: 161796.8125\n",
            "Epoch 181/277\n",
            "278/278 [==============================] - 1s 2ms/step - loss: 236005031936.0000 - mae: 153561.0625\n",
            "Epoch 182/277\n",
            "278/278 [==============================] - 1s 2ms/step - loss: 321638498304.0000 - mae: 162692.7344\n",
            "Epoch 183/277\n",
            "278/278 [==============================] - 1s 2ms/step - loss: 305466179584.0000 - mae: 158522.3281\n",
            "Epoch 184/277\n",
            "278/278 [==============================] - 1s 2ms/step - loss: 1227553636352.0000 - mae: 240028.0781\n",
            "Epoch 185/277\n",
            "278/278 [==============================] - 1s 2ms/step - loss: 657057316864.0000 - mae: 206308.8906\n",
            "Epoch 186/277\n",
            "278/278 [==============================] - 1s 2ms/step - loss: 695211720704.0000 - mae: 201208.2031\n",
            "Epoch 187/277\n",
            "278/278 [==============================] - 1s 2ms/step - loss: 979083788288.0000 - mae: 250836.6562\n",
            "Epoch 188/277\n",
            "278/278 [==============================] - 1s 2ms/step - loss: 293040488448.0000 - mae: 166779.7344\n",
            "Epoch 189/277\n",
            "278/278 [==============================] - 1s 2ms/step - loss: 235999166464.0000 - mae: 157563.6719\n",
            "Epoch 190/277\n",
            "278/278 [==============================] - 1s 3ms/step - loss: 224599572480.0000 - mae: 153751.5625\n",
            "Epoch 191/277\n",
            "278/278 [==============================] - 1s 2ms/step - loss: 279914577920.0000 - mae: 175579.5625\n",
            "Epoch 192/277\n",
            "278/278 [==============================] - 1s 2ms/step - loss: 366745976832.0000 - mae: 166191.8281\n",
            "Epoch 193/277\n",
            "278/278 [==============================] - 1s 2ms/step - loss: 486028967936.0000 - mae: 188976.6250\n",
            "Epoch 194/277\n",
            "278/278 [==============================] - 1s 2ms/step - loss: 316622176256.0000 - mae: 169987.5312\n",
            "Epoch 195/277\n",
            "278/278 [==============================] - 1s 2ms/step - loss: 306354520064.0000 - mae: 163360.7500\n",
            "Epoch 196/277\n",
            "278/278 [==============================] - 1s 2ms/step - loss: 279532765184.0000 - mae: 160580.6875\n",
            "Epoch 197/277\n",
            "278/278 [==============================] - 1s 2ms/step - loss: 342337224704.0000 - mae: 170822.6719\n",
            "Epoch 198/277\n",
            "278/278 [==============================] - 1s 2ms/step - loss: 500940832768.0000 - mae: 196188.4688\n",
            "Epoch 199/277\n",
            "278/278 [==============================] - 1s 2ms/step - loss: 315825750016.0000 - mae: 163558.2344\n",
            "Epoch 200/277\n",
            "278/278 [==============================] - 1s 2ms/step - loss: 209869176832.0000 - mae: 146103.2500\n",
            "Epoch 201/277\n",
            "278/278 [==============================] - 1s 2ms/step - loss: 310332293120.0000 - mae: 167490.1406\n",
            "Epoch 202/277\n",
            "278/278 [==============================] - 1s 2ms/step - loss: 271499264000.0000 - mae: 155924.3594\n",
            "Epoch 203/277\n",
            "278/278 [==============================] - 1s 2ms/step - loss: 495079555072.0000 - mae: 177624.3906\n",
            "Epoch 204/277\n",
            "278/278 [==============================] - 1s 2ms/step - loss: 855753097216.0000 - mae: 202528.2969\n",
            "Epoch 205/277\n",
            "278/278 [==============================] - 1s 2ms/step - loss: 283008139264.0000 - mae: 154771.3281\n",
            "Epoch 206/277\n",
            "278/278 [==============================] - 1s 2ms/step - loss: 252247441408.0000 - mae: 155591.0469\n",
            "Epoch 207/277\n",
            "278/278 [==============================] - 1s 2ms/step - loss: 451024224256.0000 - mae: 173358.7812\n",
            "Epoch 208/277\n",
            "278/278 [==============================] - 1s 2ms/step - loss: 437421670400.0000 - mae: 179470.4844\n",
            "Epoch 209/277\n",
            "278/278 [==============================] - 1s 2ms/step - loss: 248952619008.0000 - mae: 152358.3594\n",
            "Epoch 210/277\n",
            "278/278 [==============================] - 1s 2ms/step - loss: 206864695296.0000 - mae: 145513.3281\n",
            "Epoch 211/277\n",
            "278/278 [==============================] - 1s 3ms/step - loss: 382569021440.0000 - mae: 169280.2812\n",
            "Epoch 212/277\n",
            "278/278 [==============================] - 1s 2ms/step - loss: 352089243648.0000 - mae: 165711.6719\n",
            "Epoch 213/277\n",
            "278/278 [==============================] - 1s 2ms/step - loss: 640684064768.0000 - mae: 198038.8125\n",
            "Epoch 214/277\n",
            "278/278 [==============================] - 1s 2ms/step - loss: 428736675840.0000 - mae: 172458.5469\n",
            "Epoch 215/277\n",
            "278/278 [==============================] - 1s 2ms/step - loss: 287570165760.0000 - mae: 162946.5000\n",
            "Epoch 216/277\n",
            "278/278 [==============================] - 1s 2ms/step - loss: 212899971072.0000 - mae: 147001.1719\n",
            "Epoch 217/277\n",
            "278/278 [==============================] - 1s 2ms/step - loss: 215826759680.0000 - mae: 147140.4688\n",
            "Epoch 218/277\n",
            "278/278 [==============================] - 2s 6ms/step - loss: 214705405952.0000 - mae: 140965.8906\n",
            "Epoch 219/277\n",
            "278/278 [==============================] - 1s 2ms/step - loss: 312985714688.0000 - mae: 160888.0000\n",
            "Epoch 220/277\n",
            "278/278 [==============================] - 1s 2ms/step - loss: 415401508864.0000 - mae: 180268.0156\n",
            "Epoch 221/277\n",
            "278/278 [==============================] - 1s 2ms/step - loss: 445665280000.0000 - mae: 176970.1562\n",
            "Epoch 222/277\n",
            "278/278 [==============================] - 1s 2ms/step - loss: 635830861824.0000 - mae: 190305.0938\n",
            "Epoch 223/277\n",
            "278/278 [==============================] - 1s 2ms/step - loss: 177953652736.0000 - mae: 138817.0781\n",
            "Epoch 224/277\n",
            "278/278 [==============================] - 1s 2ms/step - loss: 247342956544.0000 - mae: 153099.6250\n",
            "Epoch 225/277\n",
            "278/278 [==============================] - 1s 2ms/step - loss: 232017477632.0000 - mae: 145004.4844\n",
            "Epoch 226/277\n",
            "278/278 [==============================] - 1s 2ms/step - loss: 200875311104.0000 - mae: 142373.6875\n",
            "Epoch 227/277\n",
            "278/278 [==============================] - 1s 2ms/step - loss: 205111934976.0000 - mae: 148122.2500\n",
            "Epoch 228/277\n",
            "278/278 [==============================] - 1s 2ms/step - loss: 624745185280.0000 - mae: 186668.2344\n",
            "Epoch 229/277\n",
            "278/278 [==============================] - 1s 2ms/step - loss: 268127469568.0000 - mae: 153104.1406\n",
            "Epoch 230/277\n",
            "278/278 [==============================] - 1s 2ms/step - loss: 371882786816.0000 - mae: 162356.3906\n",
            "Epoch 231/277\n",
            "278/278 [==============================] - 1s 2ms/step - loss: 748248825856.0000 - mae: 212551.9375\n",
            "Epoch 232/277\n",
            "278/278 [==============================] - 1s 2ms/step - loss: 344537497600.0000 - mae: 166759.2344\n",
            "Epoch 233/277\n",
            "278/278 [==============================] - 1s 2ms/step - loss: 256734347264.0000 - mae: 152390.4844\n",
            "Epoch 234/277\n",
            "278/278 [==============================] - 1s 2ms/step - loss: 474110722048.0000 - mae: 173810.5469\n",
            "Epoch 235/277\n",
            "278/278 [==============================] - 1s 2ms/step - loss: 1192476278784.0000 - mae: 233875.8594\n",
            "Epoch 236/277\n",
            "278/278 [==============================] - 1s 2ms/step - loss: 286040031232.0000 - mae: 158513.7031\n",
            "Epoch 237/277\n",
            "278/278 [==============================] - 1s 2ms/step - loss: 214009675776.0000 - mae: 143797.4062\n",
            "Epoch 238/277\n",
            "278/278 [==============================] - 1s 2ms/step - loss: 183036674048.0000 - mae: 136984.0781\n",
            "Epoch 239/277\n",
            "278/278 [==============================] - 1s 2ms/step - loss: 161015218176.0000 - mae: 129861.1250\n",
            "Epoch 240/277\n",
            "278/278 [==============================] - 1s 2ms/step - loss: 180249821184.0000 - mae: 136638.7500\n",
            "Epoch 241/277\n",
            "278/278 [==============================] - 1s 2ms/step - loss: 320213123072.0000 - mae: 158451.5938\n",
            "Epoch 242/277\n",
            "278/278 [==============================] - 1s 2ms/step - loss: 574150541312.0000 - mae: 187759.4531\n",
            "Epoch 243/277\n",
            "278/278 [==============================] - 1s 2ms/step - loss: 437328478208.0000 - mae: 152402.6562\n",
            "Epoch 244/277\n",
            "278/278 [==============================] - 1s 2ms/step - loss: 200630140928.0000 - mae: 141095.7188\n",
            "Epoch 245/277\n",
            "278/278 [==============================] - 1s 2ms/step - loss: 181405155328.0000 - mae: 136224.8281\n",
            "Epoch 246/277\n",
            "278/278 [==============================] - 1s 2ms/step - loss: 162860072960.0000 - mae: 134872.6875\n",
            "Epoch 247/277\n",
            "278/278 [==============================] - 1s 2ms/step - loss: 162741829632.0000 - mae: 127033.7734\n",
            "Epoch 248/277\n",
            "278/278 [==============================] - 1s 2ms/step - loss: 601710395392.0000 - mae: 177768.0625\n",
            "Epoch 249/277\n",
            "278/278 [==============================] - 1s 2ms/step - loss: 1152584384512.0000 - mae: 224394.9375\n",
            "Epoch 250/277\n",
            "278/278 [==============================] - 1s 2ms/step - loss: 468607500288.0000 - mae: 180928.9062\n",
            "Epoch 251/277\n",
            "278/278 [==============================] - 1s 2ms/step - loss: 313953026048.0000 - mae: 152957.2344\n",
            "Epoch 252/277\n",
            "278/278 [==============================] - 1s 2ms/step - loss: 176643604480.0000 - mae: 137248.2500\n",
            "Epoch 253/277\n",
            "278/278 [==============================] - 1s 2ms/step - loss: 186825408512.0000 - mae: 139236.9688\n",
            "Epoch 254/277\n",
            "278/278 [==============================] - 1s 2ms/step - loss: 167869054976.0000 - mae: 134529.2500\n",
            "Epoch 255/277\n",
            "278/278 [==============================] - 1s 2ms/step - loss: 257563607040.0000 - mae: 144403.5000\n",
            "Epoch 256/277\n",
            "278/278 [==============================] - 1s 2ms/step - loss: 969781936128.0000 - mae: 211167.1250\n",
            "Epoch 257/277\n",
            "278/278 [==============================] - 1s 2ms/step - loss: 281500745728.0000 - mae: 161082.5938\n",
            "Epoch 258/277\n",
            "278/278 [==============================] - 1s 2ms/step - loss: 251010695168.0000 - mae: 151354.5625\n",
            "Epoch 259/277\n",
            "278/278 [==============================] - 1s 2ms/step - loss: 209767628800.0000 - mae: 140045.2656\n",
            "Epoch 260/277\n",
            "278/278 [==============================] - 1s 2ms/step - loss: 190473633792.0000 - mae: 139428.6250\n",
            "Epoch 261/277\n",
            "278/278 [==============================] - 1s 2ms/step - loss: 208026861568.0000 - mae: 143604.6250\n",
            "Epoch 262/277\n",
            "278/278 [==============================] - 1s 2ms/step - loss: 170465280000.0000 - mae: 136174.9375\n",
            "Epoch 263/277\n",
            "278/278 [==============================] - 1s 2ms/step - loss: 597076541440.0000 - mae: 170458.9844\n",
            "Epoch 264/277\n",
            "278/278 [==============================] - 1s 2ms/step - loss: 807776485376.0000 - mae: 208629.3594\n",
            "Epoch 265/277\n",
            "278/278 [==============================] - 1s 2ms/step - loss: 484616470528.0000 - mae: 174178.4531\n",
            "Epoch 266/277\n",
            "278/278 [==============================] - 1s 2ms/step - loss: 302076854272.0000 - mae: 160968.6875\n",
            "Epoch 267/277\n",
            "278/278 [==============================] - 1s 2ms/step - loss: 252735832064.0000 - mae: 153381.6562\n",
            "Epoch 268/277\n",
            "278/278 [==============================] - 1s 2ms/step - loss: 189976068096.0000 - mae: 136704.3125\n",
            "Epoch 269/277\n",
            "278/278 [==============================] - 1s 2ms/step - loss: 152837046272.0000 - mae: 125190.4141\n",
            "Epoch 270/277\n",
            "278/278 [==============================] - 1s 2ms/step - loss: 192018120704.0000 - mae: 136490.2969\n",
            "Epoch 271/277\n",
            "278/278 [==============================] - 1s 2ms/step - loss: 278773628928.0000 - mae: 143490.4688\n",
            "Epoch 272/277\n",
            "278/278 [==============================] - 1s 2ms/step - loss: 374709059584.0000 - mae: 149163.8125\n",
            "Epoch 273/277\n",
            "278/278 [==============================] - 1s 2ms/step - loss: 177628741632.0000 - mae: 134600.7969\n",
            "Epoch 274/277\n",
            "278/278 [==============================] - 1s 2ms/step - loss: 239191130112.0000 - mae: 135376.8125\n",
            "Epoch 275/277\n",
            "278/278 [==============================] - 1s 2ms/step - loss: 372787019776.0000 - mae: 152602.1250\n",
            "Epoch 276/277\n",
            "278/278 [==============================] - 1s 2ms/step - loss: 248901910528.0000 - mae: 141475.4219\n",
            "Epoch 277/277\n",
            "278/278 [==============================] - 1s 2ms/step - loss: 178605539328.0000 - mae: 135132.6719\n"
          ]
        }
      ],
      "source": [
        "history = model.fit(x_train, y_train, batch_size = 10, epochs = 277)"
      ]
    },
    {
      "cell_type": "code",
      "execution_count": null,
      "metadata": {
        "id": "dDyRdKJLMgwY"
      },
      "outputs": [],
      "source": [
        ""
      ]
    },
    {
      "cell_type": "code",
      "execution_count": null,
      "metadata": {
        "id": "NwxXktmpMgwZ"
      },
      "outputs": [],
      "source": [
        "loss = pd.DataFrame(history.history)"
      ]
    },
    {
      "cell_type": "code",
      "source": [
        "loss"
      ],
      "metadata": {
        "colab": {
          "base_uri": "https://localhost:8080/",
          "height": 424
        },
        "id": "ZXTObi2sjbgs",
        "outputId": "94fcafad-3bc6-43a3-eb24-a9a489ab6a00"
      },
      "execution_count": null,
      "outputs": [
        {
          "output_type": "execute_result",
          "data": {
            "text/plain": [
              "             loss            mae\n",
              "0    5.357524e+12  607552.625000\n",
              "1    5.280454e+12  590462.875000\n",
              "2    5.308135e+12  569305.937500\n",
              "3    5.142682e+12  582279.937500\n",
              "4    5.113990e+12  572383.187500\n",
              "..            ...            ...\n",
              "272  1.776287e+11  134600.796875\n",
              "273  2.391911e+11  135376.812500\n",
              "274  3.727870e+11  152602.125000\n",
              "275  2.489019e+11  141475.421875\n",
              "276  1.786055e+11  135132.671875\n",
              "\n",
              "[277 rows x 2 columns]"
            ],
            "text/html": [
              "\n",
              "  <div id=\"df-84c050db-c62b-4445-9472-f85bb6221a36\">\n",
              "    <div class=\"colab-df-container\">\n",
              "      <div>\n",
              "<style scoped>\n",
              "    .dataframe tbody tr th:only-of-type {\n",
              "        vertical-align: middle;\n",
              "    }\n",
              "\n",
              "    .dataframe tbody tr th {\n",
              "        vertical-align: top;\n",
              "    }\n",
              "\n",
              "    .dataframe thead th {\n",
              "        text-align: right;\n",
              "    }\n",
              "</style>\n",
              "<table border=\"1\" class=\"dataframe\">\n",
              "  <thead>\n",
              "    <tr style=\"text-align: right;\">\n",
              "      <th></th>\n",
              "      <th>loss</th>\n",
              "      <th>mae</th>\n",
              "    </tr>\n",
              "  </thead>\n",
              "  <tbody>\n",
              "    <tr>\n",
              "      <th>0</th>\n",
              "      <td>5.357524e+12</td>\n",
              "      <td>607552.625000</td>\n",
              "    </tr>\n",
              "    <tr>\n",
              "      <th>1</th>\n",
              "      <td>5.280454e+12</td>\n",
              "      <td>590462.875000</td>\n",
              "    </tr>\n",
              "    <tr>\n",
              "      <th>2</th>\n",
              "      <td>5.308135e+12</td>\n",
              "      <td>569305.937500</td>\n",
              "    </tr>\n",
              "    <tr>\n",
              "      <th>3</th>\n",
              "      <td>5.142682e+12</td>\n",
              "      <td>582279.937500</td>\n",
              "    </tr>\n",
              "    <tr>\n",
              "      <th>4</th>\n",
              "      <td>5.113990e+12</td>\n",
              "      <td>572383.187500</td>\n",
              "    </tr>\n",
              "    <tr>\n",
              "      <th>...</th>\n",
              "      <td>...</td>\n",
              "      <td>...</td>\n",
              "    </tr>\n",
              "    <tr>\n",
              "      <th>272</th>\n",
              "      <td>1.776287e+11</td>\n",
              "      <td>134600.796875</td>\n",
              "    </tr>\n",
              "    <tr>\n",
              "      <th>273</th>\n",
              "      <td>2.391911e+11</td>\n",
              "      <td>135376.812500</td>\n",
              "    </tr>\n",
              "    <tr>\n",
              "      <th>274</th>\n",
              "      <td>3.727870e+11</td>\n",
              "      <td>152602.125000</td>\n",
              "    </tr>\n",
              "    <tr>\n",
              "      <th>275</th>\n",
              "      <td>2.489019e+11</td>\n",
              "      <td>141475.421875</td>\n",
              "    </tr>\n",
              "    <tr>\n",
              "      <th>276</th>\n",
              "      <td>1.786055e+11</td>\n",
              "      <td>135132.671875</td>\n",
              "    </tr>\n",
              "  </tbody>\n",
              "</table>\n",
              "<p>277 rows × 2 columns</p>\n",
              "</div>\n",
              "      <button class=\"colab-df-convert\" onclick=\"convertToInteractive('df-84c050db-c62b-4445-9472-f85bb6221a36')\"\n",
              "              title=\"Convert this dataframe to an interactive table.\"\n",
              "              style=\"display:none;\">\n",
              "        \n",
              "  <svg xmlns=\"http://www.w3.org/2000/svg\" height=\"24px\"viewBox=\"0 0 24 24\"\n",
              "       width=\"24px\">\n",
              "    <path d=\"M0 0h24v24H0V0z\" fill=\"none\"/>\n",
              "    <path d=\"M18.56 5.44l.94 2.06.94-2.06 2.06-.94-2.06-.94-.94-2.06-.94 2.06-2.06.94zm-11 1L8.5 8.5l.94-2.06 2.06-.94-2.06-.94L8.5 2.5l-.94 2.06-2.06.94zm10 10l.94 2.06.94-2.06 2.06-.94-2.06-.94-.94-2.06-.94 2.06-2.06.94z\"/><path d=\"M17.41 7.96l-1.37-1.37c-.4-.4-.92-.59-1.43-.59-.52 0-1.04.2-1.43.59L10.3 9.45l-7.72 7.72c-.78.78-.78 2.05 0 2.83L4 21.41c.39.39.9.59 1.41.59.51 0 1.02-.2 1.41-.59l7.78-7.78 2.81-2.81c.8-.78.8-2.07 0-2.86zM5.41 20L4 18.59l7.72-7.72 1.47 1.35L5.41 20z\"/>\n",
              "  </svg>\n",
              "      </button>\n",
              "      \n",
              "  <style>\n",
              "    .colab-df-container {\n",
              "      display:flex;\n",
              "      flex-wrap:wrap;\n",
              "      gap: 12px;\n",
              "    }\n",
              "\n",
              "    .colab-df-convert {\n",
              "      background-color: #E8F0FE;\n",
              "      border: none;\n",
              "      border-radius: 50%;\n",
              "      cursor: pointer;\n",
              "      display: none;\n",
              "      fill: #1967D2;\n",
              "      height: 32px;\n",
              "      padding: 0 0 0 0;\n",
              "      width: 32px;\n",
              "    }\n",
              "\n",
              "    .colab-df-convert:hover {\n",
              "      background-color: #E2EBFA;\n",
              "      box-shadow: 0px 1px 2px rgba(60, 64, 67, 0.3), 0px 1px 3px 1px rgba(60, 64, 67, 0.15);\n",
              "      fill: #174EA6;\n",
              "    }\n",
              "\n",
              "    [theme=dark] .colab-df-convert {\n",
              "      background-color: #3B4455;\n",
              "      fill: #D2E3FC;\n",
              "    }\n",
              "\n",
              "    [theme=dark] .colab-df-convert:hover {\n",
              "      background-color: #434B5C;\n",
              "      box-shadow: 0px 1px 3px 1px rgba(0, 0, 0, 0.15);\n",
              "      filter: drop-shadow(0px 1px 2px rgba(0, 0, 0, 0.3));\n",
              "      fill: #FFFFFF;\n",
              "    }\n",
              "  </style>\n",
              "\n",
              "      <script>\n",
              "        const buttonEl =\n",
              "          document.querySelector('#df-84c050db-c62b-4445-9472-f85bb6221a36 button.colab-df-convert');\n",
              "        buttonEl.style.display =\n",
              "          google.colab.kernel.accessAllowed ? 'block' : 'none';\n",
              "\n",
              "        async function convertToInteractive(key) {\n",
              "          const element = document.querySelector('#df-84c050db-c62b-4445-9472-f85bb6221a36');\n",
              "          const dataTable =\n",
              "            await google.colab.kernel.invokeFunction('convertToInteractive',\n",
              "                                                     [key], {});\n",
              "          if (!dataTable) return;\n",
              "\n",
              "          const docLinkHtml = 'Like what you see? Visit the ' +\n",
              "            '<a target=\"_blank\" href=https://colab.research.google.com/notebooks/data_table.ipynb>data table notebook</a>'\n",
              "            + ' to learn more about interactive tables.';\n",
              "          element.innerHTML = '';\n",
              "          dataTable['output_type'] = 'display_data';\n",
              "          await google.colab.output.renderOutput(dataTable, element);\n",
              "          const docLink = document.createElement('div');\n",
              "          docLink.innerHTML = docLinkHtml;\n",
              "          element.appendChild(docLink);\n",
              "        }\n",
              "      </script>\n",
              "    </div>\n",
              "  </div>\n",
              "  "
            ]
          },
          "metadata": {},
          "execution_count": 75
        }
      ]
    },
    {
      "cell_type": "code",
      "execution_count": null,
      "metadata": {
        "colab": {
          "base_uri": "https://localhost:8080/",
          "height": 298
        },
        "id": "VW3QtqXRMgwZ",
        "outputId": "4ab1cccd-c88f-42e1-8f5b-d66407d7313b"
      },
      "outputs": [
        {
          "output_type": "execute_result",
          "data": {
            "text/plain": [
              "Text(0.5, 1.0, 'Loss vs Epochs')"
            ]
          },
          "metadata": {},
          "execution_count": 76
        },
        {
          "output_type": "display_data",
          "data": {
            "text/plain": [
              "<Figure size 432x288 with 1 Axes>"
            ],
            "image/png": "[encoded data removed]"
          },
          "metadata": {
            "needs_background": "light"
          }
        }
      ],
      "source": [
        "plt.plot(loss['loss'],label = 'loss')\n",
        "plt.legend()\n",
        "plt.title('Loss vs Epochs')"
      ]
    },
    {
      "cell_type": "code",
      "execution_count": null,
      "metadata": {
        "id": "pLuk69gmMgwZ"
      },
      "outputs": [],
      "source": [
        ""
      ]
    },
    {
      "cell_type": "code",
      "execution_count": null,
      "metadata": {
        "colab": {
          "base_uri": "https://localhost:8080/",
          "height": 298
        },
        "id": "4DiWBFx0MgwZ",
        "outputId": "15071219-2bd9-4195-b802-8e0e73aff470"
      },
      "outputs": [
        {
          "output_type": "execute_result",
          "data": {
            "text/plain": [
              "Text(0.5, 1.0, 'mae vs epochs')"
            ]
          },
          "metadata": {},
          "execution_count": 77
        },
        {
          "output_type": "display_data",
          "data": {
            "text/plain": [
              "<Figure size 432x288 with 1 Axes>"
            ],
            "image/png": "[encoded data removed]"
          },
          "metadata": {
            "needs_background": "light"
          }
        }
      ],
      "source": [
        "plt.plot(loss['mae'],label = 'mae')\n",
        "plt.legend()\n",
        "plt.title('mae vs epochs')"
      ]
    },
    {
      "cell_type": "code",
      "execution_count": null,
      "metadata": {
        "colab": {
          "base_uri": "https://localhost:8080/",
          "height": 298
        },
        "id": "uDwTv7SNMgwZ",
        "outputId": "c4c76913-e5c5-47da-ca65-831f6628b771"
      },
      "outputs": [
        {
          "output_type": "execute_result",
          "data": {
            "text/plain": [
              "Text(0.5, 1.0, 'Original Data vs Predicted data for ANN')"
            ]
          },
          "metadata": {},
          "execution_count": 78
        },
        {
          "output_type": "display_data",
          "data": {
            "text/plain": [
              "<Figure size 432x288 with 1 Axes>"
            ],
            "image/png": "[encoded data removed]"
          },
          "metadata": {
            "needs_background": "light"
          }
        }
      ],
      "source": [
        "y_pred = model.predict(x_test)\n",
        "test = pd.DataFrame(y_test)\n",
        "test.reset_index(drop=True, inplace=True)\n",
        "plt.plot(test['fire'], c='r',label='Original Data')\n",
        "plt.plot(y_pred, color = 'blue', label = 'Predicted data')\n",
        "plt.legend()\n",
        "plt.title('Original Data vs Predicted data for ANN')"
      ]
    },
    {
      "cell_type": "code",
      "execution_count": null,
      "metadata": {
        "colab": {
          "base_uri": "https://localhost:8080/"
        },
        "id": "2weBmbnuMgwa",
        "outputId": "34d0ef67-2667-4bed-ded2-9e16e80f8877"
      },
      "outputs": [
        {
          "output_type": "execute_result",
          "data": {
            "text/plain": [
              "0.7984181517790703"
            ]
          },
          "metadata": {},
          "execution_count": 79
        }
      ],
      "source": [
        "## R2 Score\n",
        "r2_score(test['fire'].values, y_pred)"
      ]
    },
    {
      "cell_type": "code",
      "execution_count": null,
      "metadata": {
        "id": "6FnZn1rgMgwa"
      },
      "outputs": [],
      "source": [
        ""
      ]
    },
    {
      "cell_type": "markdown",
      "metadata": {
        "id": "rEprhxc5Mgwa"
      },
      "source": [
        "# SARIMA MODEL"
      ]
    },
    {
      "cell_type": "code",
      "execution_count": null,
      "metadata": {
        "id": "hEwHqVtSMgwa",
        "colab": {
          "base_uri": "https://localhost:8080/"
        },
        "outputId": "fc49d0fc-9dea-44bc-d505-e6128bb13dcd"
      },
      "outputs": [
        {
          "output_type": "stream",
          "name": "stderr",
          "text": [
            "/usr/local/lib/python3.7/dist-packages/statsmodels/tools/_testing.py:19: FutureWarning: pandas.util.testing is deprecated. Use the functions in the public API at pandas.testing instead.\n",
            "  import pandas.util.testing as tm\n"
          ]
        }
      ],
      "source": [
        "from statsmodels.tsa.statespace.sarimax import SARIMAX\n",
        "from statsmodels.tsa.seasonal import seasonal_decompose"
      ]
    },
    {
      "cell_type": "code",
      "execution_count": null,
      "metadata": {
        "id": "CmmMt9RuMgwa"
      },
      "outputs": [],
      "source": [
        "from datetime import date, timedelta\n",
        "dt = pd.date_range(start='1/1/2001', end='7/3/2014')"
      ]
    },
    {
      "cell_type": "code",
      "execution_count": null,
      "metadata": {
        "colab": {
          "base_uri": "https://localhost:8080/",
          "height": 357
        },
        "id": "UUmFiHlEMgwb",
        "outputId": "e6db035e-bd61-4e4a-ff1d-78229c77b9c4"
      },
      "outputs": [
        {
          "output_type": "execute_result",
          "data": {
            "text/plain": [
              "   fire       veg        tair        tmax          prec      wind  year  \\\n",
              "0   0.0  0.519537  281.850800  287.042877  0.000000e+00  2.924010  2001   \n",
              "1   0.0  0.522642  282.009521  286.676941  1.428358e-07  2.436872  2001   \n",
              "2   0.0  0.525748  280.715393  283.814606  1.779684e-05  1.660926  2001   \n",
              "3   0.0  0.528854  281.651886  283.489288  9.013197e-05  2.029600  2001   \n",
              "4   0.0  0.531959  280.482574  283.335846  1.318250e-04  3.849517  2001   \n",
              "\n",
              "   month    my_date  \n",
              "0      1 2001-01-01  \n",
              "1      1 2001-01-02  \n",
              "2      1 2001-01-03  \n",
              "3      1 2001-01-04  \n",
              "4      1 2001-01-05  "
            ],
            "text/html": [
              "\n",
              "  <div id=\"df-ddd6ea78-25da-4238-a298-8dd988ca9814\">\n",
              "    <div class=\"colab-df-container\">\n",
              "      <div>\n",
              "<style scoped>\n",
              "    .dataframe tbody tr th:only-of-type {\n",
              "        vertical-align: middle;\n",
              "    }\n",
              "\n",
              "    .dataframe tbody tr th {\n",
              "        vertical-align: top;\n",
              "    }\n",
              "\n",
              "    .dataframe thead th {\n",
              "        text-align: right;\n",
              "    }\n",
              "</style>\n",
              "<table border=\"1\" class=\"dataframe\">\n",
              "  <thead>\n",
              "    <tr style=\"text-align: right;\">\n",
              "      <th></th>\n",
              "      <th>fire</th>\n",
              "      <th>veg</th>\n",
              "      <th>tair</th>\n",
              "      <th>tmax</th>\n",
              "      <th>prec</th>\n",
              "      <th>wind</th>\n",
              "      <th>year</th>\n",
              "      <th>month</th>\n",
              "      <th>my_date</th>\n",
              "    </tr>\n",
              "  </thead>\n",
              "  <tbody>\n",
              "    <tr>\n",
              "      <th>0</th>\n",
              "      <td>0.0</td>\n",
              "      <td>0.519537</td>\n",
              "      <td>281.850800</td>\n",
              "      <td>287.042877</td>\n",
              "      <td>0.000000e+00</td>\n",
              "      <td>2.924010</td>\n",
              "      <td>2001</td>\n",
              "      <td>1</td>\n",
              "      <td>2001-01-01</td>\n",
              "    </tr>\n",
              "    <tr>\n",
              "      <th>1</th>\n",
              "      <td>0.0</td>\n",
              "      <td>0.522642</td>\n",
              "      <td>282.009521</td>\n",
              "      <td>286.676941</td>\n",
              "      <td>1.428358e-07</td>\n",
              "      <td>2.436872</td>\n",
              "      <td>2001</td>\n",
              "      <td>1</td>\n",
              "      <td>2001-01-02</td>\n",
              "    </tr>\n",
              "    <tr>\n",
              "      <th>2</th>\n",
              "      <td>0.0</td>\n",
              "      <td>0.525748</td>\n",
              "      <td>280.715393</td>\n",
              "      <td>283.814606</td>\n",
              "      <td>1.779684e-05</td>\n",
              "      <td>1.660926</td>\n",
              "      <td>2001</td>\n",
              "      <td>1</td>\n",
              "      <td>2001-01-03</td>\n",
              "    </tr>\n",
              "    <tr>\n",
              "      <th>3</th>\n",
              "      <td>0.0</td>\n",
              "      <td>0.528854</td>\n",
              "      <td>281.651886</td>\n",
              "      <td>283.489288</td>\n",
              "      <td>9.013197e-05</td>\n",
              "      <td>2.029600</td>\n",
              "      <td>2001</td>\n",
              "      <td>1</td>\n",
              "      <td>2001-01-04</td>\n",
              "    </tr>\n",
              "    <tr>\n",
              "      <th>4</th>\n",
              "      <td>0.0</td>\n",
              "      <td>0.531959</td>\n",
              "      <td>280.482574</td>\n",
              "      <td>283.335846</td>\n",
              "      <td>1.318250e-04</td>\n",
              "      <td>3.849517</td>\n",
              "      <td>2001</td>\n",
              "      <td>1</td>\n",
              "      <td>2001-01-05</td>\n",
              "    </tr>\n",
              "  </tbody>\n",
              "</table>\n",
              "</div>\n",
              "      <button class=\"colab-df-convert\" onclick=\"convertToInteractive('df-ddd6ea78-25da-4238-a298-8dd988ca9814')\"\n",
              "              title=\"Convert this dataframe to an interactive table.\"\n",
              "              style=\"display:none;\">\n",
              "        \n",
              "  <svg xmlns=\"http://www.w3.org/2000/svg\" height=\"24px\"viewBox=\"0 0 24 24\"\n",
              "       width=\"24px\">\n",
              "    <path d=\"M0 0h24v24H0V0z\" fill=\"none\"/>\n",
              "    <path d=\"M18.56 5.44l.94 2.06.94-2.06 2.06-.94-2.06-.94-.94-2.06-.94 2.06-2.06.94zm-11 1L8.5 8.5l.94-2.06 2.06-.94-2.06-.94L8.5 2.5l-.94 2.06-2.06.94zm10 10l.94 2.06.94-2.06 2.06-.94-2.06-.94-.94-2.06-.94 2.06-2.06.94z\"/><path d=\"M17.41 7.96l-1.37-1.37c-.4-.4-.92-.59-1.43-.59-.52 0-1.04.2-1.43.59L10.3 9.45l-7.72 7.72c-.78.78-.78 2.05 0 2.83L4 21.41c.39.39.9.59 1.41.59.51 0 1.02-.2 1.41-.59l7.78-7.78 2.81-2.81c.8-.78.8-2.07 0-2.86zM5.41 20L4 18.59l7.72-7.72 1.47 1.35L5.41 20z\"/>\n",
              "  </svg>\n",
              "      </button>\n",
              "      \n",
              "  <style>\n",
              "    .colab-df-container {\n",
              "      display:flex;\n",
              "      flex-wrap:wrap;\n",
              "      gap: 12px;\n",
              "    }\n",
              "\n",
              "    .colab-df-convert {\n",
              "      background-color: #E8F0FE;\n",
              "      border: none;\n",
              "      border-radius: 50%;\n",
              "      cursor: pointer;\n",
              "      display: none;\n",
              "      fill: #1967D2;\n",
              "      height: 32px;\n",
              "      padding: 0 0 0 0;\n",
              "      width: 32px;\n",
              "    }\n",
              "\n",
              "    .colab-df-convert:hover {\n",
              "      background-color: #E2EBFA;\n",
              "      box-shadow: 0px 1px 2px rgba(60, 64, 67, 0.3), 0px 1px 3px 1px rgba(60, 64, 67, 0.15);\n",
              "      fill: #174EA6;\n",
              "    }\n",
              "\n",
              "    [theme=dark] .colab-df-convert {\n",
              "      background-color: #3B4455;\n",
              "      fill: #D2E3FC;\n",
              "    }\n",
              "\n",
              "    [theme=dark] .colab-df-convert:hover {\n",
              "      background-color: #434B5C;\n",
              "      box-shadow: 0px 1px 3px 1px rgba(0, 0, 0, 0.15);\n",
              "      filter: drop-shadow(0px 1px 2px rgba(0, 0, 0, 0.3));\n",
              "      fill: #FFFFFF;\n",
              "    }\n",
              "  </style>\n",
              "\n",
              "      <script>\n",
              "        const buttonEl =\n",
              "          document.querySelector('#df-ddd6ea78-25da-4238-a298-8dd988ca9814 button.colab-df-convert');\n",
              "        buttonEl.style.display =\n",
              "          google.colab.kernel.accessAllowed ? 'block' : 'none';\n",
              "\n",
              "        async function convertToInteractive(key) {\n",
              "          const element = document.querySelector('#df-ddd6ea78-25da-4238-a298-8dd988ca9814');\n",
              "          const dataTable =\n",
              "            await google.colab.kernel.invokeFunction('convertToInteractive',\n",
              "                                                     [key], {});\n",
              "          if (!dataTable) return;\n",
              "\n",
              "          const docLinkHtml = 'Like what you see? Visit the ' +\n",
              "            '<a target=\"_blank\" href=https://colab.research.google.com/notebooks/data_table.ipynb>data table notebook</a>'\n",
              "            + ' to learn more about interactive tables.';\n",
              "          element.innerHTML = '';\n",
              "          dataTable['output_type'] = 'display_data';\n",
              "          await google.colab.output.renderOutput(dataTable, element);\n",
              "          const docLink = document.createElement('div');\n",
              "          docLink.innerHTML = docLinkHtml;\n",
              "          element.appendChild(docLink);\n",
              "        }\n",
              "      </script>\n",
              "    </div>\n",
              "  </div>\n",
              "  "
            ]
          },
          "metadata": {},
          "execution_count": 82
        }
      ],
      "source": [
        "df['my_date'] = dt\n",
        "df.head()"
      ]
    },
    {
      "cell_type": "code",
      "execution_count": null,
      "metadata": {
        "id": "GNpCaKSaMgwb"
      },
      "outputs": [],
      "source": [
        "df.index = df['my_date']"
      ]
    },
    {
      "cell_type": "code",
      "execution_count": null,
      "metadata": {
        "id": "0mSS2kATMgwb"
      },
      "outputs": [],
      "source": [
        "fr = []\n",
        "for i in range(0,df.shape[0]):\n",
        "    res = df['fire'][i]+1e-9\n",
        "    fr.append(res)\n",
        "df['fire_scaled'] = fr"
      ]
    },
    {
      "cell_type": "code",
      "execution_count": null,
      "metadata": {
        "colab": {
          "base_uri": "https://localhost:8080/",
          "height": 308
        },
        "id": "oSzBSfDPMgwb",
        "outputId": "5c12af6f-6fac-4f05-ca83-9a712c25e7ab"
      },
      "outputs": [
        {
          "output_type": "execute_result",
          "data": {
            "text/plain": [
              "<matplotlib.axes._subplots.AxesSubplot at 0x7fe6994d08d0>"
            ]
          },
          "metadata": {},
          "execution_count": 85
        },
        {
          "output_type": "display_data",
          "data": {
            "text/plain": [
              "<Figure size 432x288 with 1 Axes>"
            ],
            "image/png": "[encoded data removed]"
          },
          "metadata": {
            "needs_background": "light"
          }
        }
      ],
      "source": [
        "df['fire_scaled'].plot()"
      ]
    },
    {
      "cell_type": "code",
      "execution_count": null,
      "metadata": {
        "id": "_JgZWr0UMgwc"
      },
      "outputs": [],
      "source": [
        ""
      ]
    },
    {
      "cell_type": "code",
      "execution_count": null,
      "metadata": {
        "colab": {
          "base_uri": "https://localhost:8080/",
          "height": 577
        },
        "id": "RNTsX_H9Mgwc",
        "outputId": "3af4af93-0bc9-44c1-86b7-1c9b577590ed"
      },
      "outputs": [
        {
          "output_type": "execute_result",
          "data": {
            "text/plain": [
              "<Figure size 432x288 with 4 Axes>"
            ],
            "image/png": "[encoded data removed]"
          },
          "metadata": {},
          "execution_count": 86
        },
        {
          "output_type": "display_data",
          "data": {
            "text/plain": [
              "<Figure size 432x288 with 4 Axes>"
            ],
            "image/png": "[encoded data removed]"
          },
          "metadata": {
            "needs_background": "light"
          }
        }
      ],
      "source": [
        "result_a = seasonal_decompose(df['fire_scaled'], model = 'multiplicative')\n",
        "result_a.plot()"
      ]
    },
    {
      "cell_type": "code",
      "execution_count": null,
      "metadata": {
        "id": "4eK-D-zFMgwc"
      },
      "outputs": [],
      "source": [
        ""
      ]
    },
    {
      "cell_type": "code",
      "execution_count": null,
      "metadata": {
        "colab": {
          "base_uri": "https://localhost:8080/"
        },
        "id": "Yh_JtXNfMgwc",
        "outputId": "92a98681-0039-4030-d039-598a05c1de82"
      },
      "outputs": [
        {
          "output_type": "stream",
          "name": "stderr",
          "text": [
            "/usr/local/lib/python3.7/dist-packages/statsmodels/tsa/base/tsa_model.py:165: ValueWarning: No frequency information was provided, so inferred frequency D will be used.\n",
            "  % freq, ValueWarning)\n"
          ]
        }
      ],
      "source": [
        "model = SARIMAX(df['fire_scaled'], order = (3,1,1), seasonal_order = (3,2,1,12))"
      ]
    },
    {
      "cell_type": "code",
      "source": [
        "model_fit = model.fit()"
      ],
      "metadata": {
        "id": "EXmJ5zHbnPug"
      },
      "execution_count": null,
      "outputs": []
    },
    {
      "cell_type": "code",
      "execution_count": null,
      "metadata": {
        "id": "pfVUbMjXMgwc"
      },
      "outputs": [],
      "source": [
        "residuals = model_fit.resid"
      ]
    },
    {
      "cell_type": "code",
      "execution_count": null,
      "metadata": {
        "colab": {
          "base_uri": "https://localhost:8080/"
        },
        "id": "mOj9_rJhMgwd",
        "outputId": "68b8ea1a-adc2-4f5b-c965-9aa481c21374"
      },
      "outputs": [
        {
          "output_type": "execute_result",
          "data": {
            "text/plain": [
              "my_date\n",
              "2001-01-01    1.000000e-09\n",
              "2001-01-02   -9.330250e-10\n",
              "2001-01-03    5.692836e-10\n",
              "2001-01-04   -2.499541e-10\n",
              "2001-01-05    3.239211e-10\n",
              "                  ...     \n",
              "2014-06-29    3.482950e+00\n",
              "2014-06-30   -8.345323e+00\n",
              "2014-07-01   -1.302949e+00\n",
              "2014-07-02    1.930504e+01\n",
              "2014-07-03    5.467132e+01\n",
              "Length: 4932, dtype: float64"
            ]
          },
          "metadata": {},
          "execution_count": 90
        }
      ],
      "source": [
        "residuals"
      ]
    },
    {
      "cell_type": "code",
      "execution_count": null,
      "metadata": {
        "colab": {
          "base_uri": "https://localhost:8080/",
          "height": 308
        },
        "id": "af2zc__MMgwd",
        "outputId": "c5983ceb-76b4-42af-c1b9-cdfa84c89b9c"
      },
      "outputs": [
        {
          "output_type": "execute_result",
          "data": {
            "text/plain": [
              "<matplotlib.axes._subplots.AxesSubplot at 0x7fe69faf3cd0>"
            ]
          },
          "metadata": {},
          "execution_count": 91
        },
        {
          "output_type": "display_data",
          "data": {
            "text/plain": [
              "<Figure size 432x288 with 1 Axes>"
            ],
            "image/png": "[encoded data removed]"
          },
          "metadata": {
            "needs_background": "light"
          }
        }
      ],
      "source": [
        "residuals.plot()"
      ]
    },
    {
      "cell_type": "code",
      "execution_count": null,
      "metadata": {
        "id": "q9B7kEUKMgwd"
      },
      "outputs": [],
      "source": [
        "output = model_fit.forecast()"
      ]
    },
    {
      "cell_type": "code",
      "execution_count": null,
      "metadata": {
        "colab": {
          "base_uri": "https://localhost:8080/"
        },
        "id": "yJ-CdHxhMgwd",
        "outputId": "a5130c54-6339-45b9-e75d-9e002381fb03"
      },
      "outputs": [
        {
          "output_type": "execute_result",
          "data": {
            "text/plain": [
              "2014-07-04    8.938392\n",
              "Freq: D, dtype: float64"
            ]
          },
          "metadata": {},
          "execution_count": 93
        }
      ],
      "source": [
        "output"
      ]
    },
    {
      "cell_type": "code",
      "execution_count": null,
      "metadata": {
        "id": "ZWx9ySAlMgwd"
      },
      "outputs": [],
      "source": [
        "yhat = model_fit.predict()"
      ]
    },
    {
      "cell_type": "code",
      "execution_count": null,
      "metadata": {
        "colab": {
          "base_uri": "https://localhost:8080/"
        },
        "id": "2xDOdcSTMgwe",
        "outputId": "58dd8cb0-fe98-4f67-b816-aafa2e2465da"
      },
      "outputs": [
        {
          "output_type": "execute_result",
          "data": {
            "text/plain": [
              "2001-01-01    0.000000e+00\n",
              "2001-01-02    1.933025e-09\n",
              "2001-01-03    4.307164e-10\n",
              "2001-01-04    1.249954e-09\n",
              "2001-01-05    6.760789e-10\n",
              "                  ...     \n",
              "2014-06-29   -3.482950e+00\n",
              "2014-06-30    8.345323e+00\n",
              "2014-07-01    1.302949e+00\n",
              "2014-07-02   -1.930504e+01\n",
              "2014-07-03   -5.467132e+01\n",
              "Freq: D, Length: 4932, dtype: float64"
            ]
          },
          "metadata": {},
          "execution_count": 95
        }
      ],
      "source": [
        "yhat"
      ]
    },
    {
      "cell_type": "code",
      "execution_count": null,
      "metadata": {
        "colab": {
          "base_uri": "https://localhost:8080/",
          "height": 293
        },
        "id": "gDFuCDjbMgwe",
        "outputId": "1e7dac5f-714c-47a5-bb78-cc0eb0e5e277"
      },
      "outputs": [
        {
          "output_type": "execute_result",
          "data": {
            "text/plain": [
              "[<matplotlib.lines.Line2D at 0x7fe6a117df10>]"
            ]
          },
          "metadata": {},
          "execution_count": 96
        },
        {
          "output_type": "display_data",
          "data": {
            "text/plain": [
              "<Figure size 432x288 with 1 Axes>"
            ],
            "image/png": "[encoded data removed]"
          },
          "metadata": {
            "needs_background": "light"
          }
        }
      ],
      "source": [
        "plt.plot(yhat, color = 'red')"
      ]
    },
    {
      "cell_type": "code",
      "execution_count": null,
      "metadata": {
        "colab": {
          "base_uri": "https://localhost:8080/"
        },
        "id": "CWIQ1GYqMgwe",
        "outputId": "ac6e38ed-0791-4f89-d552-0bb30f8afb54"
      },
      "outputs": [
        {
          "output_type": "execute_result",
          "data": {
            "text/plain": [
              "0.9999042977076221"
            ]
          },
          "metadata": {},
          "execution_count": 97
        }
      ],
      "source": [
        "## R2 Score\n",
        "r2_score(df['fire_scaled'].values, yhat)"
      ]
    },
    {
      "cell_type": "code",
      "execution_count": null,
      "metadata": {
        "id": "Fj3FKMeWMgwf"
      },
      "outputs": [],
      "source": [
        "pred = pd.DataFrame(yhat)\n",
        "pred = pred.rename(columns={0: 'predicted_mean'})\n"
      ]
    },
    {
      "cell_type": "code",
      "source": [
        "pred"
      ],
      "metadata": {
        "colab": {
          "base_uri": "https://localhost:8080/",
          "height": 424
        },
        "id": "hsov89eBk0rm",
        "outputId": "aad46f0c-21e3-4c13-f528-beb5ba17ffba"
      },
      "execution_count": null,
      "outputs": [
        {
          "output_type": "execute_result",
          "data": {
            "text/plain": [
              "            predicted_mean\n",
              "2001-01-01    0.000000e+00\n",
              "2001-01-02    1.933025e-09\n",
              "2001-01-03    4.307164e-10\n",
              "2001-01-04    1.249954e-09\n",
              "2001-01-05    6.760789e-10\n",
              "...                    ...\n",
              "2014-06-29   -3.482950e+00\n",
              "2014-06-30    8.345323e+00\n",
              "2014-07-01    1.302949e+00\n",
              "2014-07-02   -1.930504e+01\n",
              "2014-07-03   -5.467132e+01\n",
              "\n",
              "[4932 rows x 1 columns]"
            ],
            "text/html": [
              "\n",
              "  <div id=\"df-0bb09c02-2f32-4b29-86e0-4ecd30d62278\">\n",
              "    <div class=\"colab-df-container\">\n",
              "      <div>\n",
              "<style scoped>\n",
              "    .dataframe tbody tr th:only-of-type {\n",
              "        vertical-align: middle;\n",
              "    }\n",
              "\n",
              "    .dataframe tbody tr th {\n",
              "        vertical-align: top;\n",
              "    }\n",
              "\n",
              "    .dataframe thead th {\n",
              "        text-align: right;\n",
              "    }\n",
              "</style>\n",
              "<table border=\"1\" class=\"dataframe\">\n",
              "  <thead>\n",
              "    <tr style=\"text-align: right;\">\n",
              "      <th></th>\n",
              "      <th>predicted_mean</th>\n",
              "    </tr>\n",
              "  </thead>\n",
              "  <tbody>\n",
              "    <tr>\n",
              "      <th>2001-01-01</th>\n",
              "      <td>0.000000e+00</td>\n",
              "    </tr>\n",
              "    <tr>\n",
              "      <th>2001-01-02</th>\n",
              "      <td>1.933025e-09</td>\n",
              "    </tr>\n",
              "    <tr>\n",
              "      <th>2001-01-03</th>\n",
              "      <td>4.307164e-10</td>\n",
              "    </tr>\n",
              "    <tr>\n",
              "      <th>2001-01-04</th>\n",
              "      <td>1.249954e-09</td>\n",
              "    </tr>\n",
              "    <tr>\n",
              "      <th>2001-01-05</th>\n",
              "      <td>6.760789e-10</td>\n",
              "    </tr>\n",
              "    <tr>\n",
              "      <th>...</th>\n",
              "      <td>...</td>\n",
              "    </tr>\n",
              "    <tr>\n",
              "      <th>2014-06-29</th>\n",
              "      <td>-3.482950e+00</td>\n",
              "    </tr>\n",
              "    <tr>\n",
              "      <th>2014-06-30</th>\n",
              "      <td>8.345323e+00</td>\n",
              "    </tr>\n",
              "    <tr>\n",
              "      <th>2014-07-01</th>\n",
              "      <td>1.302949e+00</td>\n",
              "    </tr>\n",
              "    <tr>\n",
              "      <th>2014-07-02</th>\n",
              "      <td>-1.930504e+01</td>\n",
              "    </tr>\n",
              "    <tr>\n",
              "      <th>2014-07-03</th>\n",
              "      <td>-5.467132e+01</td>\n",
              "    </tr>\n",
              "  </tbody>\n",
              "</table>\n",
              "<p>4932 rows × 1 columns</p>\n",
              "</div>\n",
              "      <button class=\"colab-df-convert\" onclick=\"convertToInteractive('df-0bb09c02-2f32-4b29-86e0-4ecd30d62278')\"\n",
              "              title=\"Convert this dataframe to an interactive table.\"\n",
              "              style=\"display:none;\">\n",
              "        \n",
              "  <svg xmlns=\"http://www.w3.org/2000/svg\" height=\"24px\"viewBox=\"0 0 24 24\"\n",
              "       width=\"24px\">\n",
              "    <path d=\"M0 0h24v24H0V0z\" fill=\"none\"/>\n",
              "    <path d=\"M18.56 5.44l.94 2.06.94-2.06 2.06-.94-2.06-.94-.94-2.06-.94 2.06-2.06.94zm-11 1L8.5 8.5l.94-2.06 2.06-.94-2.06-.94L8.5 2.5l-.94 2.06-2.06.94zm10 10l.94 2.06.94-2.06 2.06-.94-2.06-.94-.94-2.06-.94 2.06-2.06.94z\"/><path d=\"M17.41 7.96l-1.37-1.37c-.4-.4-.92-.59-1.43-.59-.52 0-1.04.2-1.43.59L10.3 9.45l-7.72 7.72c-.78.78-.78 2.05 0 2.83L4 21.41c.39.39.9.59 1.41.59.51 0 1.02-.2 1.41-.59l7.78-7.78 2.81-2.81c.8-.78.8-2.07 0-2.86zM5.41 20L4 18.59l7.72-7.72 1.47 1.35L5.41 20z\"/>\n",
              "  </svg>\n",
              "      </button>\n",
              "      \n",
              "  <style>\n",
              "    .colab-df-container {\n",
              "      display:flex;\n",
              "      flex-wrap:wrap;\n",
              "      gap: 12px;\n",
              "    }\n",
              "\n",
              "    .colab-df-convert {\n",
              "      background-color: #E8F0FE;\n",
              "      border: none;\n",
              "      border-radius: 50%;\n",
              "      cursor: pointer;\n",
              "      display: none;\n",
              "      fill: #1967D2;\n",
              "      height: 32px;\n",
              "      padding: 0 0 0 0;\n",
              "      width: 32px;\n",
              "    }\n",
              "\n",
              "    .colab-df-convert:hover {\n",
              "      background-color: #E2EBFA;\n",
              "      box-shadow: 0px 1px 2px rgba(60, 64, 67, 0.3), 0px 1px 3px 1px rgba(60, 64, 67, 0.15);\n",
              "      fill: #174EA6;\n",
              "    }\n",
              "\n",
              "    [theme=dark] .colab-df-convert {\n",
              "      background-color: #3B4455;\n",
              "      fill: #D2E3FC;\n",
              "    }\n",
              "\n",
              "    [theme=dark] .colab-df-convert:hover {\n",
              "      background-color: #434B5C;\n",
              "      box-shadow: 0px 1px 3px 1px rgba(0, 0, 0, 0.15);\n",
              "      filter: drop-shadow(0px 1px 2px rgba(0, 0, 0, 0.3));\n",
              "      fill: #FFFFFF;\n",
              "    }\n",
              "  </style>\n",
              "\n",
              "      <script>\n",
              "        const buttonEl =\n",
              "          document.querySelector('#df-0bb09c02-2f32-4b29-86e0-4ecd30d62278 button.colab-df-convert');\n",
              "        buttonEl.style.display =\n",
              "          google.colab.kernel.accessAllowed ? 'block' : 'none';\n",
              "\n",
              "        async function convertToInteractive(key) {\n",
              "          const element = document.querySelector('#df-0bb09c02-2f32-4b29-86e0-4ecd30d62278');\n",
              "          const dataTable =\n",
              "            await google.colab.kernel.invokeFunction('convertToInteractive',\n",
              "                                                     [key], {});\n",
              "          if (!dataTable) return;\n",
              "\n",
              "          const docLinkHtml = 'Like what you see? Visit the ' +\n",
              "            '<a target=\"_blank\" href=https://colab.research.google.com/notebooks/data_table.ipynb>data table notebook</a>'\n",
              "            + ' to learn more about interactive tables.';\n",
              "          element.innerHTML = '';\n",
              "          dataTable['output_type'] = 'display_data';\n",
              "          await google.colab.output.renderOutput(dataTable, element);\n",
              "          const docLink = document.createElement('div');\n",
              "          docLink.innerHTML = docLinkHtml;\n",
              "          element.appendChild(docLink);\n",
              "        }\n",
              "      </script>\n",
              "    </div>\n",
              "  </div>\n",
              "  "
            ]
          },
          "metadata": {},
          "execution_count": 99
        }
      ]
    },
    {
      "cell_type": "code",
      "execution_count": null,
      "metadata": {
        "colab": {
          "base_uri": "https://localhost:8080/"
        },
        "id": "e5Z0x4p7Mgwf",
        "outputId": "99e82f00-17b6-48db-efac-9bb0efd9fbe6"
      },
      "outputs": [
        {
          "output_type": "stream",
          "name": "stdout",
          "text": [
            "As predicted by the model;\n",
            "The month 8 of the year 2001 is when the maximum value of fire was recorded. The value was 2725627.9851791654\n",
            "The month 7 of the year 2002 is when the maximum value of fire was recorded. The value was 763250.6163289691\n",
            "The month 7 of the year 2003 is when the maximum value of fire was recorded. The value was 490579.6718378853\n",
            "The month 6 of the year 2004 is when the maximum value of fire was recorded. The value was 2727171.3589626397\n",
            "The month 7 of the year 2005 is when the maximum value of fire was recorded. The value was 36142574.413049966\n",
            "The month 7 of the year 2006 is when the maximum value of fire was recorded. The value was 4687874.744677736\n",
            "The month 1 of the year 2007 is when the maximum value of fire was recorded. The value was 394.29912842165896\n",
            "The month 1 of the year 2008 is when the maximum value of fire was recorded. The value was 234.51239181772186\n",
            "The month 8 of the year 2009 is when the maximum value of fire was recorded. The value was 2929630.0077339415\n",
            "The month 7 of the year 2010 is when the maximum value of fire was recorded. The value was 9095516.645940145\n",
            "The month 6 of the year 2011 is when the maximum value of fire was recorded. The value was 5508849.2869936135\n",
            "The month 1 of the year 2012 is when the maximum value of fire was recorded. The value was 130.42757575583067\n",
            "The month 8 of the year 2013 is when the maximum value of fire was recorded. The value was 2924194.7415116243\n",
            "The month 1 of the year 2014 is when the maximum value of fire was recorded. The value was 46.41018518185386\n"
          ]
        }
      ],
      "source": [
        "# Predicted Worst month in every year\n",
        "years = range(2001, 2015)\n",
        "print('As predicted by the model;')\n",
        "for i in years:\n",
        "    year_df = pred[pred.index.year.isin([i])].copy()\n",
        "    max_value = year_df['predicted_mean'].max()\n",
        "    worst_month = year_df['predicted_mean'].idxmax().month\n",
        "    print('The month {} of the year {} is when the maximum value of fire was recorded. The value was {}'.format(\n",
        "        worst_month,i,max_value))"
      ]
    },
    {
      "cell_type": "code",
      "execution_count": null,
      "metadata": {
        "id": "5rw32eFlMgwg"
      },
      "outputs": [],
      "source": [
        ""
      ]
    },
    {
      "cell_type": "markdown",
      "metadata": {
        "id": "9HStnKnUMgwg"
      },
      "source": [
        "### Future Prediction"
      ]
    },
    {
      "cell_type": "code",
      "execution_count": null,
      "metadata": {
        "id": "PfSRv4l4Mgwg"
      },
      "outputs": [],
      "source": [
        "def predict(days):#days-Number of days ahead that you want to be predicted\n",
        "    result = model_fit.forecast(days)\n",
        "    for i in range(0,days-1):\n",
        "        if result[i]>0.00001:\n",
        "            text = 'Possible Fire'\n",
        "        else:\n",
        "            text = 'No Possible Fire'\n",
        "        date = result.index[i]\n",
        "        print(date.strftime('%Y-%m-%d'),': {}'.format(text))"
      ]
    },
    {
      "cell_type": "code",
      "execution_count": null,
      "metadata": {
        "id": "upnSiujSMgwh",
        "colab": {
          "base_uri": "https://localhost:8080/"
        },
        "outputId": "3ae4a0d4-537b-45d1-cbfe-5fb1fb7ba623"
      },
      "outputs": [
        {
          "output_type": "stream",
          "name": "stdout",
          "text": [
            "2014-07-04 : Possible Fire\n",
            "2014-07-05 : Possible Fire\n",
            "2014-07-06 : No Possible Fire\n",
            "2014-07-07 : No Possible Fire\n",
            "2014-07-08 : No Possible Fire\n",
            "2014-07-09 : Possible Fire\n",
            "2014-07-10 : Possible Fire\n",
            "2014-07-11 : Possible Fire\n",
            "2014-07-12 : Possible Fire\n"
          ]
        }
      ],
      "source": [
        "future_pred = predict(10)"
      ]
    },
    {
      "cell_type": "code",
      "execution_count": null,
      "metadata": {
        "id": "SsqwUaViMgwh"
      },
      "outputs": [],
      "source": [
        ""
      ]
    },
    {
      "cell_type": "markdown",
      "metadata": {
        "id": "Pc8N87w-Mgwh"
      },
      "source": [
        "### Worst year and month by the model"
      ]
    },
    {
      "cell_type": "code",
      "execution_count": null,
      "metadata": {
        "id": "FxJdBCPtMgwh"
      },
      "outputs": [],
      "source": [
        "idx_max = np.argmax(yhat)\n",
        "time = yhat.index[idx_max]\n",
        "month = time.month\n",
        "year = time.year"
      ]
    },
    {
      "cell_type": "code",
      "execution_count": null,
      "metadata": {
        "id": "Nh1e19bZMgwi",
        "colab": {
          "base_uri": "https://localhost:8080/"
        },
        "outputId": "009f6260-22ba-4964-c3be-6c70bcf22bd6"
      },
      "outputs": [
        {
          "output_type": "stream",
          "name": "stdout",
          "text": [
            "Worst Year as per the model: 2005\n",
            "Worst Month as per the model: 7\n"
          ]
        }
      ],
      "source": [
        "print('Worst Year as per the model: {}'.format(year))\n",
        "print('Worst Month as per the model: {}'.format(month))"
      ]
    },
    {
      "cell_type": "code",
      "execution_count": null,
      "metadata": {
        "id": "wmSFMbO-Mgwi"
      },
      "outputs": [],
      "source": [
        ""
      ]
    },
    {
      "cell_type": "markdown",
      "metadata": {
        "id": "BHeaSnbuMgwi"
      },
      "source": [
        "## ConvLSTM Model"
      ]
    },
    {
      "cell_type": "code",
      "execution_count": null,
      "metadata": {
        "id": "TL4WXKvqMgwi"
      },
      "outputs": [],
      "source": [
        "from keras.models import Sequential\n",
        "from keras.layers import Dense, Conv1D, Flatten\n",
        "from sklearn.model_selection import train_test_split\n",
        "from keras.layers.convolutional_recurrent import ConvLSTM2D"
      ]
    },
    {
      "cell_type": "code",
      "execution_count": null,
      "metadata": {
        "id": "NE3KBINCMgwi"
      },
      "outputs": [],
      "source": [
        "xtrain_reshaped = x_train.reshape(x_train.shape[0], x_train.shape[1], 1) "
      ]
    },
    {
      "cell_type": "code",
      "source": [
        "from keras.layers import Input, Dense, LSTM, MaxPooling1D, Conv1D\n",
        "from keras.models import Model\n",
        "from tensorflow.keras import layers\n",
        "from keras.layers import InputLayer, ConvLSTM1D\n",
        "from keras import layers\n",
        "from keras.models import Sequential\n",
        "from keras.layers.convolutional import Conv3D\n",
        "from keras.layers import Conv2DTranspose, ConvLSTM2D, BatchNormalization, TimeDistributed, Conv2D, Dense, Activation, LSTM\n",
        "import tensorflow as tf\n",
        "from tensorflow.keras import activations\n",
        "from tensorflow.keras.optimizers import SGD, Adam\n"
      ],
      "metadata": {
        "id": "YXllR0EpRzXw"
      },
      "execution_count": null,
      "outputs": []
    },
    {
      "cell_type": "code",
      "source": [
        "model = Sequential()\n",
        "\n",
        "# Input shape: (samples, time, channels, rows, cols) see: https://keras.io/layers/recurrent/#convlstm2d\n",
        "model.add(ConvLSTM1D(\n",
        "        filters=32,\n",
        "        kernel_size=2 ,\n",
        "        input_shape=(None, 7,1),\n",
        "        padding='same',\n",
        "        return_sequences=True))\n",
        "model.add(layers.Activation(activations.relu))\n",
        "model.add(BatchNormalization())\n",
        "model.add(Flatten())\n",
        "\n",
        "model.add(Dense(64, kernel_initializer='TruncatedNormal'))\n",
        "model.add(layers.Activation(activations.relu))\n",
        "model.add(Dropout(0.2))\n",
        "\n",
        "model.add(Dense(32, kernel_initializer='TruncatedNormal'))\n",
        "model.add(layers.Activation(activations.relu))\n",
        "model.add(Dropout(0.2))\n",
        "\n",
        "model.add(Dense(1))\n"
      ],
      "metadata": {
        "id": "rEfhUqXhYiUD",
        "colab": {
          "base_uri": "https://localhost:8080/",
          "height": 432
        },
        "outputId": "8aa581a6-084b-4d2d-e35e-7392e4194784"
      },
      "execution_count": null,
      "outputs": [
        {
          "output_type": "error",
          "ename": "ValueError",
          "evalue": "ignored",
          "traceback": [
            "\u001b[0;31m---------------------------------------------------------------------------\u001b[0m",
            "\u001b[0;31mValueError\u001b[0m                                Traceback (most recent call last)",
            "\u001b[0;32m<ipython-input-141-4ddb286094b9>\u001b[0m in \u001b[0;36m<module>\u001b[0;34m()\u001b[0m\n\u001b[1;32m     12\u001b[0m \u001b[0mmodel\u001b[0m\u001b[0;34m.\u001b[0m\u001b[0madd\u001b[0m\u001b[0;34m(\u001b[0m\u001b[0mFlatten\u001b[0m\u001b[0;34m(\u001b[0m\u001b[0;34m)\u001b[0m\u001b[0;34m)\u001b[0m\u001b[0;34m\u001b[0m\u001b[0;34m\u001b[0m\u001b[0m\n\u001b[1;32m     13\u001b[0m \u001b[0;34m\u001b[0m\u001b[0m\n\u001b[0;32m---> 14\u001b[0;31m \u001b[0mmodel\u001b[0m\u001b[0;34m.\u001b[0m\u001b[0madd\u001b[0m\u001b[0;34m(\u001b[0m\u001b[0mDense\u001b[0m\u001b[0;34m(\u001b[0m\u001b[0;36m64\u001b[0m\u001b[0;34m,\u001b[0m \u001b[0mkernel_initializer\u001b[0m\u001b[0;34m=\u001b[0m\u001b[0;34m'TruncatedNormal'\u001b[0m\u001b[0;34m)\u001b[0m\u001b[0;34m)\u001b[0m\u001b[0;34m\u001b[0m\u001b[0;34m\u001b[0m\u001b[0m\n\u001b[0m\u001b[1;32m     15\u001b[0m \u001b[0mmodel\u001b[0m\u001b[0;34m.\u001b[0m\u001b[0madd\u001b[0m\u001b[0;34m(\u001b[0m\u001b[0mlayers\u001b[0m\u001b[0;34m.\u001b[0m\u001b[0mActivation\u001b[0m\u001b[0;34m(\u001b[0m\u001b[0mactivations\u001b[0m\u001b[0;34m.\u001b[0m\u001b[0mrelu\u001b[0m\u001b[0;34m)\u001b[0m\u001b[0;34m)\u001b[0m\u001b[0;34m\u001b[0m\u001b[0;34m\u001b[0m\u001b[0m\n\u001b[1;32m     16\u001b[0m \u001b[0mmodel\u001b[0m\u001b[0;34m.\u001b[0m\u001b[0madd\u001b[0m\u001b[0;34m(\u001b[0m\u001b[0mDropout\u001b[0m\u001b[0;34m(\u001b[0m\u001b[0;36m0.2\u001b[0m\u001b[0;34m)\u001b[0m\u001b[0;34m)\u001b[0m\u001b[0;34m\u001b[0m\u001b[0;34m\u001b[0m\u001b[0m\n",
            "\u001b[0;32m/usr/local/lib/python3.7/dist-packages/tensorflow/python/training/tracking/base.py\u001b[0m in \u001b[0;36m_method_wrapper\u001b[0;34m(self, *args, **kwargs)\u001b[0m\n\u001b[1;32m    627\u001b[0m     \u001b[0mself\u001b[0m\u001b[0;34m.\u001b[0m\u001b[0m_self_setattr_tracking\u001b[0m \u001b[0;34m=\u001b[0m \u001b[0;32mFalse\u001b[0m  \u001b[0;31m# pylint: disable=protected-access\u001b[0m\u001b[0;34m\u001b[0m\u001b[0;34m\u001b[0m\u001b[0m\n\u001b[1;32m    628\u001b[0m     \u001b[0;32mtry\u001b[0m\u001b[0;34m:\u001b[0m\u001b[0;34m\u001b[0m\u001b[0;34m\u001b[0m\u001b[0m\n\u001b[0;32m--> 629\u001b[0;31m       \u001b[0mresult\u001b[0m \u001b[0;34m=\u001b[0m \u001b[0mmethod\u001b[0m\u001b[0;34m(\u001b[0m\u001b[0mself\u001b[0m\u001b[0;34m,\u001b[0m \u001b[0;34m*\u001b[0m\u001b[0margs\u001b[0m\u001b[0;34m,\u001b[0m \u001b[0;34m**\u001b[0m\u001b[0mkwargs\u001b[0m\u001b[0;34m)\u001b[0m\u001b[0;34m\u001b[0m\u001b[0;34m\u001b[0m\u001b[0m\n\u001b[0m\u001b[1;32m    630\u001b[0m     \u001b[0;32mfinally\u001b[0m\u001b[0;34m:\u001b[0m\u001b[0;34m\u001b[0m\u001b[0;34m\u001b[0m\u001b[0m\n\u001b[1;32m    631\u001b[0m       \u001b[0mself\u001b[0m\u001b[0;34m.\u001b[0m\u001b[0m_self_setattr_tracking\u001b[0m \u001b[0;34m=\u001b[0m \u001b[0mprevious_value\u001b[0m  \u001b[0;31m# pylint: disable=protected-access\u001b[0m\u001b[0;34m\u001b[0m\u001b[0;34m\u001b[0m\u001b[0m\n",
            "\u001b[0;32m/usr/local/lib/python3.7/dist-packages/keras/utils/traceback_utils.py\u001b[0m in \u001b[0;36merror_handler\u001b[0;34m(*args, **kwargs)\u001b[0m\n\u001b[1;32m     65\u001b[0m     \u001b[0;32mexcept\u001b[0m \u001b[0mException\u001b[0m \u001b[0;32mas\u001b[0m \u001b[0me\u001b[0m\u001b[0;34m:\u001b[0m  \u001b[0;31m# pylint: disable=broad-except\u001b[0m\u001b[0;34m\u001b[0m\u001b[0;34m\u001b[0m\u001b[0m\n\u001b[1;32m     66\u001b[0m       \u001b[0mfiltered_tb\u001b[0m \u001b[0;34m=\u001b[0m \u001b[0m_process_traceback_frames\u001b[0m\u001b[0;34m(\u001b[0m\u001b[0me\u001b[0m\u001b[0;34m.\u001b[0m\u001b[0m__traceback__\u001b[0m\u001b[0;34m)\u001b[0m\u001b[0;34m\u001b[0m\u001b[0;34m\u001b[0m\u001b[0m\n\u001b[0;32m---> 67\u001b[0;31m       \u001b[0;32mraise\u001b[0m \u001b[0me\u001b[0m\u001b[0;34m.\u001b[0m\u001b[0mwith_traceback\u001b[0m\u001b[0;34m(\u001b[0m\u001b[0mfiltered_tb\u001b[0m\u001b[0;34m)\u001b[0m \u001b[0;32mfrom\u001b[0m \u001b[0;32mNone\u001b[0m\u001b[0;34m\u001b[0m\u001b[0;34m\u001b[0m\u001b[0m\n\u001b[0m\u001b[1;32m     68\u001b[0m     \u001b[0;32mfinally\u001b[0m\u001b[0;34m:\u001b[0m\u001b[0;34m\u001b[0m\u001b[0;34m\u001b[0m\u001b[0m\n\u001b[1;32m     69\u001b[0m       \u001b[0;32mdel\u001b[0m \u001b[0mfiltered_tb\u001b[0m\u001b[0;34m\u001b[0m\u001b[0;34m\u001b[0m\u001b[0m\n",
            "\u001b[0;32m/usr/local/lib/python3.7/dist-packages/keras/layers/core/dense.py\u001b[0m in \u001b[0;36mbuild\u001b[0;34m(self, input_shape)\u001b[0m\n\u001b[1;32m    137\u001b[0m     \u001b[0mlast_dim\u001b[0m \u001b[0;34m=\u001b[0m \u001b[0mtf\u001b[0m\u001b[0;34m.\u001b[0m\u001b[0mcompat\u001b[0m\u001b[0;34m.\u001b[0m\u001b[0mdimension_value\u001b[0m\u001b[0;34m(\u001b[0m\u001b[0minput_shape\u001b[0m\u001b[0;34m[\u001b[0m\u001b[0;34m-\u001b[0m\u001b[0;36m1\u001b[0m\u001b[0;34m]\u001b[0m\u001b[0;34m)\u001b[0m\u001b[0;34m\u001b[0m\u001b[0;34m\u001b[0m\u001b[0m\n\u001b[1;32m    138\u001b[0m     \u001b[0;32mif\u001b[0m \u001b[0mlast_dim\u001b[0m \u001b[0;32mis\u001b[0m \u001b[0;32mNone\u001b[0m\u001b[0;34m:\u001b[0m\u001b[0;34m\u001b[0m\u001b[0;34m\u001b[0m\u001b[0m\n\u001b[0;32m--> 139\u001b[0;31m       raise ValueError('The last dimension of the inputs to a Dense layer '\n\u001b[0m\u001b[1;32m    140\u001b[0m                        \u001b[0;34m'should be defined. Found None. '\u001b[0m\u001b[0;34m\u001b[0m\u001b[0;34m\u001b[0m\u001b[0m\n\u001b[1;32m    141\u001b[0m                        f'Full input shape received: {input_shape}')\n",
            "\u001b[0;31mValueError\u001b[0m: The last dimension of the inputs to a Dense layer should be defined. Found None. Full input shape received: (None, None)"
          ]
        }
      ]
    },
    {
      "cell_type": "code",
      "source": [
        "lr= 1e-1\n",
        "epochs = 50 #135\n",
        "bs = 2**8\n",
        "\n",
        "# compile & fit\n",
        "model.compile(optimizer=adam, loss = ['mse'], metrics=['mse'])\n",
        "\n",
        "model.summary()"
      ],
      "metadata": {
        "id": "jrgMbMireUBU",
        "colab": {
          "base_uri": "https://localhost:8080/"
        },
        "outputId": "eb0b5ed4-4869-49d2-8ae5-13d0ea3ff2a5"
      },
      "execution_count": null,
      "outputs": [
        {
          "output_type": "stream",
          "name": "stdout",
          "text": [
            "Model: \"sequential_3\"\n",
            "_________________________________________________________________\n",
            " Layer (type)                Output Shape              Param #   \n",
            "=================================================================\n",
            " conv_lstm1d_2 (ConvLSTM1D)  (None, None, 7, 32)       8576      \n",
            "                                                                 \n",
            " activation_4 (Activation)   (None, None, 7, 32)       0         \n",
            "                                                                 \n",
            " batch_normalization_2 (Batc  (None, None, 7, 32)      128       \n",
            " hNormalization)                                                 \n",
            "                                                                 \n",
            " conv_lstm1d_3 (ConvLSTM1D)  (None, 7, 32)             16512     \n",
            "                                                                 \n",
            " activation_5 (Activation)   (None, 7, 32)             0         \n",
            "                                                                 \n",
            " batch_normalization_3 (Batc  (None, 7, 32)            128       \n",
            " hNormalization)                                                 \n",
            "                                                                 \n",
            " dropout_3 (Dropout)         (None, 7, 32)             0         \n",
            "                                                                 \n",
            " flatten_1 (Flatten)         (None, 224)               0         \n",
            "                                                                 \n",
            " dense_9 (Dense)             (None, 64)                14400     \n",
            "                                                                 \n",
            " activation_6 (Activation)   (None, 64)                0         \n",
            "                                                                 \n",
            " dropout_4 (Dropout)         (None, 64)                0         \n",
            "                                                                 \n",
            " dense_10 (Dense)            (None, 32)                2080      \n",
            "                                                                 \n",
            " activation_7 (Activation)   (None, 32)                0         \n",
            "                                                                 \n",
            " dropout_5 (Dropout)         (None, 32)                0         \n",
            "                                                                 \n",
            " dense_11 (Dense)            (None, 1)                 33        \n",
            "                                                                 \n",
            "=================================================================\n",
            "Total params: 41,857\n",
            "Trainable params: 41,729\n",
            "Non-trainable params: 128\n",
            "_________________________________________________________________\n"
          ]
        },
        {
          "output_type": "stream",
          "name": "stderr",
          "text": [
            "/usr/local/lib/python3.7/dist-packages/keras/optimizer_v2/gradient_descent.py:102: UserWarning: The `lr` argument is deprecated, use `learning_rate` instead.\n",
            "  super(SGD, self).__init__(name, **kwargs)\n",
            "/usr/local/lib/python3.7/dist-packages/keras/optimizer_v2/adam.py:105: UserWarning: The `lr` argument is deprecated, use `learning_rate` instead.\n",
            "  super(Adam, self).__init__(name, **kwargs)\n"
          ]
        }
      ]
    },
    {
      "cell_type": "code",
      "source": [
        "input_layer = Input(shape=( 7, 1))\n",
        "conv1 = Conv1D(filters=32,\n",
        "kernel_size=2,\n",
        "strides=1,\n",
        "padding='same', \n",
        "activation='relu')(input_layer)\n",
        "pool1 = MaxPooling1D(pool_size=4)(conv1)\n",
        "lstm1 = LSTM(32)(pool1)\n",
        "output_layer = Dense(64, activation='relu')(lstm1)\n",
        "model = Model(inputs=input_layer, outputs=output_layer)"
      ],
      "metadata": {
        "id": "7ROR3BuvR2yY"
      },
      "execution_count": null,
      "outputs": []
    },
    {
      "cell_type": "code",
      "source": [
        "model.summary()"
      ],
      "metadata": {
        "id": "aBikz_usR-Cl",
        "colab": {
          "base_uri": "https://localhost:8080/"
        },
        "outputId": "11903ccb-cb21-4791-f69e-67c5ce5d79f9"
      },
      "execution_count": null,
      "outputs": [
        {
          "output_type": "stream",
          "name": "stdout",
          "text": [
            "Model: \"model_3\"\n",
            "_________________________________________________________________\n",
            " Layer (type)                Output Shape              Param #   \n",
            "=================================================================\n",
            " input_5 (InputLayer)        [(None, 7, 1)]            0         \n",
            "                                                                 \n",
            " conv1d_4 (Conv1D)           (None, 7, 32)             96        \n",
            "                                                                 \n",
            " max_pooling1d_4 (MaxPooling  (None, 1, 32)            0         \n",
            " 1D)                                                             \n",
            "                                                                 \n",
            " lstm_4 (LSTM)               (None, 32)                8320      \n",
            "                                                                 \n",
            " dense_15 (Dense)            (None, 64)                2112      \n",
            "                                                                 \n",
            "=================================================================\n",
            "Total params: 10,528\n",
            "Trainable params: 10,528\n",
            "Non-trainable params: 0\n",
            "_________________________________________________________________\n"
          ]
        }
      ]
    },
    {
      "cell_type": "code",
      "source": [
        "keras.utils.plot_model(model , to_file='model.png' , show_shapes = True)"
      ],
      "metadata": {
        "id": "QJCBjBfZSBHa",
        "colab": {
          "base_uri": "https://localhost:8080/",
          "height": 533
        },
        "outputId": "dfea68d3-841b-4cf6-846c-6e45a0c82eb9"
      },
      "execution_count": null,
      "outputs": [
        {
          "output_type": "execute_result",
          "data": {
            "text/plain": [
              "<IPython.core.display.Image object>"
            ],
            "image/png": "[encoded data removed]"
          },
          "metadata": {},
          "execution_count": 147
        }
      ]
    },
    {
      "cell_type": "code",
      "source": [
        "early_stopping_monitor = EarlyStopping(patience=5000)\n",
        "\n",
        "\n",
        "\n",
        "history = model.fit(xtrain_reshaped, y_train, epochs=epochs, batch_size=bs, verbose=1, callbacks=[early_stopping_monitor])\n",
        "\n",
        "print(model.summary())"
      ],
      "metadata": {
        "id": "N1WHmlnKfFA9",
        "colab": {
          "base_uri": "https://localhost:8080/",
          "height": 432
        },
        "outputId": "8115ab48-c2d3-498a-ef1b-ed2b69570f30"
      },
      "execution_count": null,
      "outputs": [
        {
          "output_type": "error",
          "ename": "RuntimeError",
          "evalue": "ignored",
          "traceback": [
            "\u001b[0;31m---------------------------------------------------------------------------\u001b[0m",
            "\u001b[0;31mRuntimeError\u001b[0m                              Traceback (most recent call last)",
            "\u001b[0;32m<ipython-input-140-4dab95283529>\u001b[0m in \u001b[0;36m<module>\u001b[0;34m()\u001b[0m\n\u001b[1;32m      3\u001b[0m \u001b[0;34m\u001b[0m\u001b[0m\n\u001b[1;32m      4\u001b[0m \u001b[0;34m\u001b[0m\u001b[0m\n\u001b[0;32m----> 5\u001b[0;31m \u001b[0mhistory\u001b[0m \u001b[0;34m=\u001b[0m \u001b[0mmodel\u001b[0m\u001b[0;34m.\u001b[0m\u001b[0mfit\u001b[0m\u001b[0;34m(\u001b[0m\u001b[0mxtrain_reshaped\u001b[0m\u001b[0;34m,\u001b[0m \u001b[0my_train\u001b[0m\u001b[0;34m,\u001b[0m \u001b[0mepochs\u001b[0m\u001b[0;34m=\u001b[0m\u001b[0mepochs\u001b[0m\u001b[0;34m,\u001b[0m \u001b[0mbatch_size\u001b[0m\u001b[0;34m=\u001b[0m\u001b[0mbs\u001b[0m\u001b[0;34m,\u001b[0m \u001b[0mverbose\u001b[0m\u001b[0;34m=\u001b[0m\u001b[0;36m1\u001b[0m\u001b[0;34m,\u001b[0m \u001b[0mcallbacks\u001b[0m\u001b[0;34m=\u001b[0m\u001b[0;34m[\u001b[0m\u001b[0mearly_stopping_monitor\u001b[0m\u001b[0;34m]\u001b[0m\u001b[0;34m)\u001b[0m\u001b[0;34m\u001b[0m\u001b[0;34m\u001b[0m\u001b[0m\n\u001b[0m\u001b[1;32m      6\u001b[0m \u001b[0;34m\u001b[0m\u001b[0m\n\u001b[1;32m      7\u001b[0m \u001b[0mprint\u001b[0m\u001b[0;34m(\u001b[0m\u001b[0mmodel\u001b[0m\u001b[0;34m.\u001b[0m\u001b[0msummary\u001b[0m\u001b[0;34m(\u001b[0m\u001b[0;34m)\u001b[0m\u001b[0;34m)\u001b[0m\u001b[0;34m\u001b[0m\u001b[0;34m\u001b[0m\u001b[0m\n",
            "\u001b[0;32m/usr/local/lib/python3.7/dist-packages/keras/utils/traceback_utils.py\u001b[0m in \u001b[0;36merror_handler\u001b[0;34m(*args, **kwargs)\u001b[0m\n\u001b[1;32m     65\u001b[0m     \u001b[0;32mexcept\u001b[0m \u001b[0mException\u001b[0m \u001b[0;32mas\u001b[0m \u001b[0me\u001b[0m\u001b[0;34m:\u001b[0m  \u001b[0;31m# pylint: disable=broad-except\u001b[0m\u001b[0;34m\u001b[0m\u001b[0;34m\u001b[0m\u001b[0m\n\u001b[1;32m     66\u001b[0m       \u001b[0mfiltered_tb\u001b[0m \u001b[0;34m=\u001b[0m \u001b[0m_process_traceback_frames\u001b[0m\u001b[0;34m(\u001b[0m\u001b[0me\u001b[0m\u001b[0;34m.\u001b[0m\u001b[0m__traceback__\u001b[0m\u001b[0;34m)\u001b[0m\u001b[0;34m\u001b[0m\u001b[0;34m\u001b[0m\u001b[0m\n\u001b[0;32m---> 67\u001b[0;31m       \u001b[0;32mraise\u001b[0m \u001b[0me\u001b[0m\u001b[0;34m.\u001b[0m\u001b[0mwith_traceback\u001b[0m\u001b[0;34m(\u001b[0m\u001b[0mfiltered_tb\u001b[0m\u001b[0;34m)\u001b[0m \u001b[0;32mfrom\u001b[0m \u001b[0;32mNone\u001b[0m\u001b[0;34m\u001b[0m\u001b[0;34m\u001b[0m\u001b[0m\n\u001b[0m\u001b[1;32m     68\u001b[0m     \u001b[0;32mfinally\u001b[0m\u001b[0;34m:\u001b[0m\u001b[0;34m\u001b[0m\u001b[0;34m\u001b[0m\u001b[0m\n\u001b[1;32m     69\u001b[0m       \u001b[0;32mdel\u001b[0m \u001b[0mfiltered_tb\u001b[0m\u001b[0;34m\u001b[0m\u001b[0;34m\u001b[0m\u001b[0m\n",
            "\u001b[0;32m/usr/local/lib/python3.7/dist-packages/keras/engine/training.py\u001b[0m in \u001b[0;36m_assert_compile_was_called\u001b[0;34m(self)\u001b[0m\n\u001b[1;32m   3057\u001b[0m     \u001b[0;31m# (i.e. whether the model is built and its inputs/outputs are set).\u001b[0m\u001b[0;34m\u001b[0m\u001b[0;34m\u001b[0m\u001b[0;34m\u001b[0m\u001b[0m\n\u001b[1;32m   3058\u001b[0m     \u001b[0;32mif\u001b[0m \u001b[0;32mnot\u001b[0m \u001b[0mself\u001b[0m\u001b[0;34m.\u001b[0m\u001b[0m_is_compiled\u001b[0m\u001b[0;34m:\u001b[0m\u001b[0;34m\u001b[0m\u001b[0;34m\u001b[0m\u001b[0m\n\u001b[0;32m-> 3059\u001b[0;31m       raise RuntimeError('You must compile your model before '\n\u001b[0m\u001b[1;32m   3060\u001b[0m                          \u001b[0;34m'training/testing. '\u001b[0m\u001b[0;34m\u001b[0m\u001b[0;34m\u001b[0m\u001b[0m\n\u001b[1;32m   3061\u001b[0m                          'Use `model.compile(optimizer, loss)`.')\n",
            "\u001b[0;31mRuntimeError\u001b[0m: You must compile your model before training/testing. Use `model.compile(optimizer, loss)`."
          ]
        }
      ]
    },
    {
      "cell_type": "code",
      "source": [
        "model.compile(optimizer='adam', loss='categorical_crossentropy',metrics = 'mae')"
      ],
      "metadata": {
        "id": "XIUSlCppSK6w"
      },
      "execution_count": null,
      "outputs": []
    },
    {
      "cell_type": "code",
      "source": [
        ""
      ],
      "metadata": {
        "id": "bETg0PwBwVZD"
      },
      "execution_count": null,
      "outputs": []
    },
    {
      "cell_type": "code",
      "execution_count": null,
      "metadata": {
        "id": "IxR0D8TSMgwj"
      },
      "outputs": [],
      "source": [
        "model = Sequential()\n",
        "model.add(Conv1D(32, 2, activation=\"relu\", input_shape=(7, 1)))\n",
        "model.add(Flatten())\n",
        "model.add(Dense(64, activation=\"relu\"))\n",
        "model.add(Dense(1))\n",
        "model.compile(optimizer=keras.optimizers.Adam(learning_rate = 1e-1), loss = 'mean_squared_error',metrics = 'mae')"
      ]
    },
    {
      "cell_type": "code",
      "execution_count": null,
      "metadata": {
        "id": "x0WqTFgfMgwj"
      },
      "outputs": [],
      "source": [
        "model.summary()"
      ]
    },
    {
      "cell_type": "code",
      "source": [
        "keras.utils.plot_model(model , to_file='model.png' , show_shapes = True)"
      ],
      "metadata": {
        "id": "FS4v2-J6RHH1"
      },
      "execution_count": null,
      "outputs": []
    },
    {
      "cell_type": "code",
      "source": [
        "history = model.fit(xtrain_reshaped, y_train, batch_size = 10, epochs = 277)"
      ],
      "metadata": {
        "id": "BcYhQm81fCRR",
        "colab": {
          "base_uri": "https://localhost:8080/",
          "height": 936
        },
        "outputId": "96d73f6f-91c9-4e10-a0c4-5dba890b150f"
      },
      "execution_count": null,
      "outputs": [
        {
          "output_type": "stream",
          "name": "stdout",
          "text": [
            "Epoch 1/277\n"
          ]
        },
        {
          "output_type": "error",
          "ename": "ValueError",
          "evalue": "ignored",
          "traceback": [
            "\u001b[0;31m---------------------------------------------------------------------------\u001b[0m",
            "\u001b[0;31mValueError\u001b[0m                                Traceback (most recent call last)",
            "\u001b[0;32m<ipython-input-150-7fa1728bbf6c>\u001b[0m in \u001b[0;36m<module>\u001b[0;34m()\u001b[0m\n\u001b[0;32m----> 1\u001b[0;31m \u001b[0mhistory\u001b[0m \u001b[0;34m=\u001b[0m \u001b[0mmodel\u001b[0m\u001b[0;34m.\u001b[0m\u001b[0mfit\u001b[0m\u001b[0;34m(\u001b[0m\u001b[0mxtrain_reshaped\u001b[0m\u001b[0;34m,\u001b[0m \u001b[0my_train\u001b[0m\u001b[0;34m,\u001b[0m \u001b[0mbatch_size\u001b[0m \u001b[0;34m=\u001b[0m \u001b[0;36m10\u001b[0m\u001b[0;34m,\u001b[0m \u001b[0mepochs\u001b[0m \u001b[0;34m=\u001b[0m \u001b[0;36m277\u001b[0m\u001b[0;34m)\u001b[0m\u001b[0;34m\u001b[0m\u001b[0;34m\u001b[0m\u001b[0m\n\u001b[0m",
            "\u001b[0;32m/usr/local/lib/python3.7/dist-packages/keras/utils/traceback_utils.py\u001b[0m in \u001b[0;36merror_handler\u001b[0;34m(*args, **kwargs)\u001b[0m\n\u001b[1;32m     65\u001b[0m     \u001b[0;32mexcept\u001b[0m \u001b[0mException\u001b[0m \u001b[0;32mas\u001b[0m \u001b[0me\u001b[0m\u001b[0;34m:\u001b[0m  \u001b[0;31m# pylint: disable=broad-except\u001b[0m\u001b[0;34m\u001b[0m\u001b[0;34m\u001b[0m\u001b[0m\n\u001b[1;32m     66\u001b[0m       \u001b[0mfiltered_tb\u001b[0m \u001b[0;34m=\u001b[0m \u001b[0m_process_traceback_frames\u001b[0m\u001b[0;34m(\u001b[0m\u001b[0me\u001b[0m\u001b[0;34m.\u001b[0m\u001b[0m__traceback__\u001b[0m\u001b[0;34m)\u001b[0m\u001b[0;34m\u001b[0m\u001b[0;34m\u001b[0m\u001b[0m\n\u001b[0;32m---> 67\u001b[0;31m       \u001b[0;32mraise\u001b[0m \u001b[0me\u001b[0m\u001b[0;34m.\u001b[0m\u001b[0mwith_traceback\u001b[0m\u001b[0;34m(\u001b[0m\u001b[0mfiltered_tb\u001b[0m\u001b[0;34m)\u001b[0m \u001b[0;32mfrom\u001b[0m \u001b[0;32mNone\u001b[0m\u001b[0;34m\u001b[0m\u001b[0;34m\u001b[0m\u001b[0m\n\u001b[0m\u001b[1;32m     68\u001b[0m     \u001b[0;32mfinally\u001b[0m\u001b[0;34m:\u001b[0m\u001b[0;34m\u001b[0m\u001b[0;34m\u001b[0m\u001b[0m\n\u001b[1;32m     69\u001b[0m       \u001b[0;32mdel\u001b[0m \u001b[0mfiltered_tb\u001b[0m\u001b[0;34m\u001b[0m\u001b[0;34m\u001b[0m\u001b[0m\n",
            "\u001b[0;32m/usr/local/lib/python3.7/dist-packages/tensorflow/python/framework/func_graph.py\u001b[0m in \u001b[0;36mautograph_handler\u001b[0;34m(*args, **kwargs)\u001b[0m\n\u001b[1;32m   1145\u001b[0m           \u001b[0;32mexcept\u001b[0m \u001b[0mException\u001b[0m \u001b[0;32mas\u001b[0m \u001b[0me\u001b[0m\u001b[0;34m:\u001b[0m  \u001b[0;31m# pylint:disable=broad-except\u001b[0m\u001b[0;34m\u001b[0m\u001b[0;34m\u001b[0m\u001b[0m\n\u001b[1;32m   1146\u001b[0m             \u001b[0;32mif\u001b[0m \u001b[0mhasattr\u001b[0m\u001b[0;34m(\u001b[0m\u001b[0me\u001b[0m\u001b[0;34m,\u001b[0m \u001b[0;34m\"ag_error_metadata\"\u001b[0m\u001b[0;34m)\u001b[0m\u001b[0;34m:\u001b[0m\u001b[0;34m\u001b[0m\u001b[0;34m\u001b[0m\u001b[0m\n\u001b[0;32m-> 1147\u001b[0;31m               \u001b[0;32mraise\u001b[0m \u001b[0me\u001b[0m\u001b[0;34m.\u001b[0m\u001b[0mag_error_metadata\u001b[0m\u001b[0;34m.\u001b[0m\u001b[0mto_exception\u001b[0m\u001b[0;34m(\u001b[0m\u001b[0me\u001b[0m\u001b[0;34m)\u001b[0m\u001b[0;34m\u001b[0m\u001b[0;34m\u001b[0m\u001b[0m\n\u001b[0m\u001b[1;32m   1148\u001b[0m             \u001b[0;32melse\u001b[0m\u001b[0;34m:\u001b[0m\u001b[0;34m\u001b[0m\u001b[0;34m\u001b[0m\u001b[0m\n\u001b[1;32m   1149\u001b[0m               \u001b[0;32mraise\u001b[0m\u001b[0;34m\u001b[0m\u001b[0;34m\u001b[0m\u001b[0m\n",
            "\u001b[0;31mValueError\u001b[0m: in user code:\n\n    File \"/usr/local/lib/python3.7/dist-packages/keras/engine/training.py\", line 1021, in train_function  *\n        return step_function(self, iterator)\n    File \"/usr/local/lib/python3.7/dist-packages/keras/engine/training.py\", line 1010, in step_function  **\n        outputs = model.distribute_strategy.run(run_step, args=(data,))\n    File \"/usr/local/lib/python3.7/dist-packages/keras/engine/training.py\", line 1000, in run_step  **\n        outputs = model.train_step(data)\n    File \"/usr/local/lib/python3.7/dist-packages/keras/engine/training.py\", line 860, in train_step\n        loss = self.compute_loss(x, y, y_pred, sample_weight)\n    File \"/usr/local/lib/python3.7/dist-packages/keras/engine/training.py\", line 919, in compute_loss\n        y, y_pred, sample_weight, regularization_losses=self.losses)\n    File \"/usr/local/lib/python3.7/dist-packages/keras/engine/compile_utils.py\", line 201, in __call__\n        loss_value = loss_obj(y_t, y_p, sample_weight=sw)\n    File \"/usr/local/lib/python3.7/dist-packages/keras/losses.py\", line 141, in __call__\n        losses = call_fn(y_true, y_pred)\n    File \"/usr/local/lib/python3.7/dist-packages/keras/losses.py\", line 245, in call  **\n        return ag_fn(y_true, y_pred, **self._fn_kwargs)\n    File \"/usr/local/lib/python3.7/dist-packages/keras/losses.py\", line 1790, in categorical_crossentropy\n        y_true, y_pred, from_logits=from_logits, axis=axis)\n    File \"/usr/local/lib/python3.7/dist-packages/keras/backend.py\", line 5083, in categorical_crossentropy\n        target.shape.assert_is_compatible_with(output.shape)\n\n    ValueError: Shapes (None, 1) and (None, 64) are incompatible\n"
          ]
        }
      ]
    },
    {
      "cell_type": "code",
      "execution_count": null,
      "metadata": {
        "id": "zo05fnBkMgwj",
        "colab": {
          "base_uri": "https://localhost:8080/",
          "height": 130
        },
        "outputId": "f41efd87-bc00-4860-dd75-c01d5e3b6574"
      },
      "outputs": [
        {
          "output_type": "error",
          "ename": "SyntaxError",
          "evalue": "ignored",
          "traceback": [
            "\u001b[0;36m  File \u001b[0;32m\"<ipython-input-149-fab4268a1296>\"\u001b[0;36m, line \u001b[0;32m1\u001b[0m\n\u001b[0;31m    history = model.fit((xtrain_reshaped, y_train, batch_size = bs, epochs = 50)\u001b[0m\n\u001b[0m                                                              ^\u001b[0m\n\u001b[0;31mSyntaxError\u001b[0m\u001b[0;31m:\u001b[0m invalid syntax\n"
          ]
        }
      ],
      "source": [
        "history = model.fit((xtrain_reshaped, y_train, batch_size = bs, epochs = 50)"
      ]
    },
    {
      "cell_type": "code",
      "execution_count": null,
      "metadata": {
        "id": "NeATU0mmMgwj",
        "colab": {
          "base_uri": "https://localhost:8080/",
          "height": 1000
        },
        "outputId": "83987f94-1b2d-45eb-c348-493d49f2c64f"
      },
      "outputs": [
        {
          "output_type": "execute_result",
          "data": {
            "text/plain": [
              "            loss           mae\n",
              "0   5.897180e+12  482920.06250\n",
              "1   5.897179e+12  482920.09375\n",
              "2   5.897179e+12  482920.15625\n",
              "3   5.897180e+12  482920.15625\n",
              "4   5.897179e+12  482920.09375\n",
              "5   5.897179e+12  482920.09375\n",
              "6   5.897179e+12  482920.18750\n",
              "7   5.897179e+12  482920.09375\n",
              "8   5.897179e+12  482920.09375\n",
              "9   5.897179e+12  482920.09375\n",
              "10  5.897179e+12  482920.15625\n",
              "11  5.897180e+12  482920.09375\n",
              "12  5.897179e+12  482920.09375\n",
              "13  5.897179e+12  482920.15625\n",
              "14  5.897179e+12  482920.18750\n",
              "15  5.897179e+12  482920.09375\n",
              "16  5.897180e+12  482920.15625\n",
              "17  5.897179e+12  482920.15625\n",
              "18  5.897180e+12  482920.15625\n",
              "19  5.897179e+12  482920.18750\n",
              "20  5.897179e+12  482920.09375\n",
              "21  5.897179e+12  482920.09375\n",
              "22  5.897180e+12  482920.15625\n",
              "23  5.897179e+12  482920.15625\n",
              "24  5.897180e+12  482920.15625\n",
              "25  5.897180e+12  482920.09375\n",
              "26  5.897180e+12  482920.15625\n",
              "27  5.897179e+12  482920.15625\n",
              "28  5.897180e+12  482920.09375\n",
              "29  5.897179e+12  482920.15625\n",
              "30  5.897179e+12  482920.15625\n",
              "31  5.897179e+12  482920.15625\n",
              "32  5.897179e+12  482920.15625\n",
              "33  5.897180e+12  482920.09375\n",
              "34  5.897180e+12  482920.15625\n",
              "35  5.897179e+12  482920.15625\n",
              "36  5.897179e+12  482920.09375\n",
              "37  5.897179e+12  482920.09375\n",
              "38  5.897179e+12  482920.15625\n",
              "39  5.897180e+12  482920.15625\n",
              "40  5.897179e+12  482920.15625\n",
              "41  5.897179e+12  482920.09375\n",
              "42  5.897179e+12  482920.15625\n",
              "43  5.897180e+12  482920.09375\n",
              "44  5.897179e+12  482920.15625\n",
              "45  5.897179e+12  482920.09375\n",
              "46  5.897179e+12  482920.09375\n",
              "47  5.897180e+12  482920.09375\n",
              "48  5.897180e+12  482920.09375\n",
              "49  5.897179e+12  482920.09375"
            ],
            "text/html": [
              "\n",
              "  <div id=\"df-b98022c3-d6a1-4a09-8293-297b2734af28\">\n",
              "    <div class=\"colab-df-container\">\n",
              "      <div>\n",
              "<style scoped>\n",
              "    .dataframe tbody tr th:only-of-type {\n",
              "        vertical-align: middle;\n",
              "    }\n",
              "\n",
              "    .dataframe tbody tr th {\n",
              "        vertical-align: top;\n",
              "    }\n",
              "\n",
              "    .dataframe thead th {\n",
              "        text-align: right;\n",
              "    }\n",
              "</style>\n",
              "<table border=\"1\" class=\"dataframe\">\n",
              "  <thead>\n",
              "    <tr style=\"text-align: right;\">\n",
              "      <th></th>\n",
              "      <th>loss</th>\n",
              "      <th>mae</th>\n",
              "    </tr>\n",
              "  </thead>\n",
              "  <tbody>\n",
              "    <tr>\n",
              "      <th>0</th>\n",
              "      <td>5.897180e+12</td>\n",
              "      <td>482920.06250</td>\n",
              "    </tr>\n",
              "    <tr>\n",
              "      <th>1</th>\n",
              "      <td>5.897179e+12</td>\n",
              "      <td>482920.09375</td>\n",
              "    </tr>\n",
              "    <tr>\n",
              "      <th>2</th>\n",
              "      <td>5.897179e+12</td>\n",
              "      <td>482920.15625</td>\n",
              "    </tr>\n",
              "    <tr>\n",
              "      <th>3</th>\n",
              "      <td>5.897180e+12</td>\n",
              "      <td>482920.15625</td>\n",
              "    </tr>\n",
              "    <tr>\n",
              "      <th>4</th>\n",
              "      <td>5.897179e+12</td>\n",
              "      <td>482920.09375</td>\n",
              "    </tr>\n",
              "    <tr>\n",
              "      <th>5</th>\n",
              "      <td>5.897179e+12</td>\n",
              "      <td>482920.09375</td>\n",
              "    </tr>\n",
              "    <tr>\n",
              "      <th>6</th>\n",
              "      <td>5.897179e+12</td>\n",
              "      <td>482920.18750</td>\n",
              "    </tr>\n",
              "    <tr>\n",
              "      <th>7</th>\n",
              "      <td>5.897179e+12</td>\n",
              "      <td>482920.09375</td>\n",
              "    </tr>\n",
              "    <tr>\n",
              "      <th>8</th>\n",
              "      <td>5.897179e+12</td>\n",
              "      <td>482920.09375</td>\n",
              "    </tr>\n",
              "    <tr>\n",
              "      <th>9</th>\n",
              "      <td>5.897179e+12</td>\n",
              "      <td>482920.09375</td>\n",
              "    </tr>\n",
              "    <tr>\n",
              "      <th>10</th>\n",
              "      <td>5.897179e+12</td>\n",
              "      <td>482920.15625</td>\n",
              "    </tr>\n",
              "    <tr>\n",
              "      <th>11</th>\n",
              "      <td>5.897180e+12</td>\n",
              "      <td>482920.09375</td>\n",
              "    </tr>\n",
              "    <tr>\n",
              "      <th>12</th>\n",
              "      <td>5.897179e+12</td>\n",
              "      <td>482920.09375</td>\n",
              "    </tr>\n",
              "    <tr>\n",
              "      <th>13</th>\n",
              "      <td>5.897179e+12</td>\n",
              "      <td>482920.15625</td>\n",
              "    </tr>\n",
              "    <tr>\n",
              "      <th>14</th>\n",
              "      <td>5.897179e+12</td>\n",
              "      <td>482920.18750</td>\n",
              "    </tr>\n",
              "    <tr>\n",
              "      <th>15</th>\n",
              "      <td>5.897179e+12</td>\n",
              "      <td>482920.09375</td>\n",
              "    </tr>\n",
              "    <tr>\n",
              "      <th>16</th>\n",
              "      <td>5.897180e+12</td>\n",
              "      <td>482920.15625</td>\n",
              "    </tr>\n",
              "    <tr>\n",
              "      <th>17</th>\n",
              "      <td>5.897179e+12</td>\n",
              "      <td>482920.15625</td>\n",
              "    </tr>\n",
              "    <tr>\n",
              "      <th>18</th>\n",
              "      <td>5.897180e+12</td>\n",
              "      <td>482920.15625</td>\n",
              "    </tr>\n",
              "    <tr>\n",
              "      <th>19</th>\n",
              "      <td>5.897179e+12</td>\n",
              "      <td>482920.18750</td>\n",
              "    </tr>\n",
              "    <tr>\n",
              "      <th>20</th>\n",
              "      <td>5.897179e+12</td>\n",
              "      <td>482920.09375</td>\n",
              "    </tr>\n",
              "    <tr>\n",
              "      <th>21</th>\n",
              "      <td>5.897179e+12</td>\n",
              "      <td>482920.09375</td>\n",
              "    </tr>\n",
              "    <tr>\n",
              "      <th>22</th>\n",
              "      <td>5.897180e+12</td>\n",
              "      <td>482920.15625</td>\n",
              "    </tr>\n",
              "    <tr>\n",
              "      <th>23</th>\n",
              "      <td>5.897179e+12</td>\n",
              "      <td>482920.15625</td>\n",
              "    </tr>\n",
              "    <tr>\n",
              "      <th>24</th>\n",
              "      <td>5.897180e+12</td>\n",
              "      <td>482920.15625</td>\n",
              "    </tr>\n",
              "    <tr>\n",
              "      <th>25</th>\n",
              "      <td>5.897180e+12</td>\n",
              "      <td>482920.09375</td>\n",
              "    </tr>\n",
              "    <tr>\n",
              "      <th>26</th>\n",
              "      <td>5.897180e+12</td>\n",
              "      <td>482920.15625</td>\n",
              "    </tr>\n",
              "    <tr>\n",
              "      <th>27</th>\n",
              "      <td>5.897179e+12</td>\n",
              "      <td>482920.15625</td>\n",
              "    </tr>\n",
              "    <tr>\n",
              "      <th>28</th>\n",
              "      <td>5.897180e+12</td>\n",
              "      <td>482920.09375</td>\n",
              "    </tr>\n",
              "    <tr>\n",
              "      <th>29</th>\n",
              "      <td>5.897179e+12</td>\n",
              "      <td>482920.15625</td>\n",
              "    </tr>\n",
              "    <tr>\n",
              "      <th>30</th>\n",
              "      <td>5.897179e+12</td>\n",
              "      <td>482920.15625</td>\n",
              "    </tr>\n",
              "    <tr>\n",
              "      <th>31</th>\n",
              "      <td>5.897179e+12</td>\n",
              "      <td>482920.15625</td>\n",
              "    </tr>\n",
              "    <tr>\n",
              "      <th>32</th>\n",
              "      <td>5.897179e+12</td>\n",
              "      <td>482920.15625</td>\n",
              "    </tr>\n",
              "    <tr>\n",
              "      <th>33</th>\n",
              "      <td>5.897180e+12</td>\n",
              "      <td>482920.09375</td>\n",
              "    </tr>\n",
              "    <tr>\n",
              "      <th>34</th>\n",
              "      <td>5.897180e+12</td>\n",
              "      <td>482920.15625</td>\n",
              "    </tr>\n",
              "    <tr>\n",
              "      <th>35</th>\n",
              "      <td>5.897179e+12</td>\n",
              "      <td>482920.15625</td>\n",
              "    </tr>\n",
              "    <tr>\n",
              "      <th>36</th>\n",
              "      <td>5.897179e+12</td>\n",
              "      <td>482920.09375</td>\n",
              "    </tr>\n",
              "    <tr>\n",
              "      <th>37</th>\n",
              "      <td>5.897179e+12</td>\n",
              "      <td>482920.09375</td>\n",
              "    </tr>\n",
              "    <tr>\n",
              "      <th>38</th>\n",
              "      <td>5.897179e+12</td>\n",
              "      <td>482920.15625</td>\n",
              "    </tr>\n",
              "    <tr>\n",
              "      <th>39</th>\n",
              "      <td>5.897180e+12</td>\n",
              "      <td>482920.15625</td>\n",
              "    </tr>\n",
              "    <tr>\n",
              "      <th>40</th>\n",
              "      <td>5.897179e+12</td>\n",
              "      <td>482920.15625</td>\n",
              "    </tr>\n",
              "    <tr>\n",
              "      <th>41</th>\n",
              "      <td>5.897179e+12</td>\n",
              "      <td>482920.09375</td>\n",
              "    </tr>\n",
              "    <tr>\n",
              "      <th>42</th>\n",
              "      <td>5.897179e+12</td>\n",
              "      <td>482920.15625</td>\n",
              "    </tr>\n",
              "    <tr>\n",
              "      <th>43</th>\n",
              "      <td>5.897180e+12</td>\n",
              "      <td>482920.09375</td>\n",
              "    </tr>\n",
              "    <tr>\n",
              "      <th>44</th>\n",
              "      <td>5.897179e+12</td>\n",
              "      <td>482920.15625</td>\n",
              "    </tr>\n",
              "    <tr>\n",
              "      <th>45</th>\n",
              "      <td>5.897179e+12</td>\n",
              "      <td>482920.09375</td>\n",
              "    </tr>\n",
              "    <tr>\n",
              "      <th>46</th>\n",
              "      <td>5.897179e+12</td>\n",
              "      <td>482920.09375</td>\n",
              "    </tr>\n",
              "    <tr>\n",
              "      <th>47</th>\n",
              "      <td>5.897180e+12</td>\n",
              "      <td>482920.09375</td>\n",
              "    </tr>\n",
              "    <tr>\n",
              "      <th>48</th>\n",
              "      <td>5.897180e+12</td>\n",
              "      <td>482920.09375</td>\n",
              "    </tr>\n",
              "    <tr>\n",
              "      <th>49</th>\n",
              "      <td>5.897179e+12</td>\n",
              "      <td>482920.09375</td>\n",
              "    </tr>\n",
              "  </tbody>\n",
              "</table>\n",
              "</div>\n",
              "      <button class=\"colab-df-convert\" onclick=\"convertToInteractive('df-b98022c3-d6a1-4a09-8293-297b2734af28')\"\n",
              "              title=\"Convert this dataframe to an interactive table.\"\n",
              "              style=\"display:none;\">\n",
              "        \n",
              "  <svg xmlns=\"http://www.w3.org/2000/svg\" height=\"24px\"viewBox=\"0 0 24 24\"\n",
              "       width=\"24px\">\n",
              "    <path d=\"M0 0h24v24H0V0z\" fill=\"none\"/>\n",
              "    <path d=\"M18.56 5.44l.94 2.06.94-2.06 2.06-.94-2.06-.94-.94-2.06-.94 2.06-2.06.94zm-11 1L8.5 8.5l.94-2.06 2.06-.94-2.06-.94L8.5 2.5l-.94 2.06-2.06.94zm10 10l.94 2.06.94-2.06 2.06-.94-2.06-.94-.94-2.06-.94 2.06-2.06.94z\"/><path d=\"M17.41 7.96l-1.37-1.37c-.4-.4-.92-.59-1.43-.59-.52 0-1.04.2-1.43.59L10.3 9.45l-7.72 7.72c-.78.78-.78 2.05 0 2.83L4 21.41c.39.39.9.59 1.41.59.51 0 1.02-.2 1.41-.59l7.78-7.78 2.81-2.81c.8-.78.8-2.07 0-2.86zM5.41 20L4 18.59l7.72-7.72 1.47 1.35L5.41 20z\"/>\n",
              "  </svg>\n",
              "      </button>\n",
              "      \n",
              "  <style>\n",
              "    .colab-df-container {\n",
              "      display:flex;\n",
              "      flex-wrap:wrap;\n",
              "      gap: 12px;\n",
              "    }\n",
              "\n",
              "    .colab-df-convert {\n",
              "      background-color: #E8F0FE;\n",
              "      border: none;\n",
              "      border-radius: 50%;\n",
              "      cursor: pointer;\n",
              "      display: none;\n",
              "      fill: #1967D2;\n",
              "      height: 32px;\n",
              "      padding: 0 0 0 0;\n",
              "      width: 32px;\n",
              "    }\n",
              "\n",
              "    .colab-df-convert:hover {\n",
              "      background-color: #E2EBFA;\n",
              "      box-shadow: 0px 1px 2px rgba(60, 64, 67, 0.3), 0px 1px 3px 1px rgba(60, 64, 67, 0.15);\n",
              "      fill: #174EA6;\n",
              "    }\n",
              "\n",
              "    [theme=dark] .colab-df-convert {\n",
              "      background-color: #3B4455;\n",
              "      fill: #D2E3FC;\n",
              "    }\n",
              "\n",
              "    [theme=dark] .colab-df-convert:hover {\n",
              "      background-color: #434B5C;\n",
              "      box-shadow: 0px 1px 3px 1px rgba(0, 0, 0, 0.15);\n",
              "      filter: drop-shadow(0px 1px 2px rgba(0, 0, 0, 0.3));\n",
              "      fill: #FFFFFF;\n",
              "    }\n",
              "  </style>\n",
              "\n",
              "      <script>\n",
              "        const buttonEl =\n",
              "          document.querySelector('#df-b98022c3-d6a1-4a09-8293-297b2734af28 button.colab-df-convert');\n",
              "        buttonEl.style.display =\n",
              "          google.colab.kernel.accessAllowed ? 'block' : 'none';\n",
              "\n",
              "        async function convertToInteractive(key) {\n",
              "          const element = document.querySelector('#df-b98022c3-d6a1-4a09-8293-297b2734af28');\n",
              "          const dataTable =\n",
              "            await google.colab.kernel.invokeFunction('convertToInteractive',\n",
              "                                                     [key], {});\n",
              "          if (!dataTable) return;\n",
              "\n",
              "          const docLinkHtml = 'Like what you see? Visit the ' +\n",
              "            '<a target=\"_blank\" href=https://colab.research.google.com/notebooks/data_table.ipynb>data table notebook</a>'\n",
              "            + ' to learn more about interactive tables.';\n",
              "          element.innerHTML = '';\n",
              "          dataTable['output_type'] = 'display_data';\n",
              "          await google.colab.output.renderOutput(dataTable, element);\n",
              "          const docLink = document.createElement('div');\n",
              "          docLink.innerHTML = docLinkHtml;\n",
              "          element.appendChild(docLink);\n",
              "        }\n",
              "      </script>\n",
              "    </div>\n",
              "  </div>\n",
              "  "
            ]
          },
          "metadata": {},
          "execution_count": 122
        }
      ],
      "source": [
        "loss = pd.DataFrame(history.history)\n",
        "loss"
      ]
    },
    {
      "cell_type": "code",
      "execution_count": null,
      "metadata": {
        "id": "ju84kBHHMgwk",
        "colab": {
          "base_uri": "https://localhost:8080/",
          "height": 298
        },
        "outputId": "cd2462b3-dbd8-4ece-aebd-6e05986c0ecc"
      },
      "outputs": [
        {
          "output_type": "execute_result",
          "data": {
            "text/plain": [
              "Text(0.5, 1.0, 'Loss vs Epochs')"
            ]
          },
          "metadata": {},
          "execution_count": 117
        },
        {
          "output_type": "display_data",
          "data": {
            "text/plain": [
              "<Figure size 432x288 with 1 Axes>"
            ],
            "image/png": "[encoded data removed]"
          },
          "metadata": {
            "needs_background": "light"
          }
        }
      ],
      "source": [
        "plt.plot(loss['loss'],label = 'loss')\n",
        "plt.legend()\n",
        "plt.title('Loss vs Epochs')"
      ]
    },
    {
      "cell_type": "code",
      "execution_count": null,
      "metadata": {
        "id": "nSVEs2MzMgwk",
        "colab": {
          "base_uri": "https://localhost:8080/",
          "height": 298
        },
        "outputId": "c7976aee-d4bb-407e-92f3-efde4edddb97"
      },
      "outputs": [
        {
          "output_type": "execute_result",
          "data": {
            "text/plain": [
              "Text(0.5, 1.0, 'mae vs epochs')"
            ]
          },
          "metadata": {},
          "execution_count": 118
        },
        {
          "output_type": "display_data",
          "data": {
            "text/plain": [
              "<Figure size 432x288 with 1 Axes>"
            ],
            "image/png": "[encoded data removed]"
          },
          "metadata": {
            "needs_background": "light"
          }
        }
      ],
      "source": [
        "plt.plot(loss['mae'],label = 'mae')\n",
        "plt.legend()\n",
        "plt.title('mae vs epochs')"
      ]
    },
    {
      "cell_type": "code",
      "execution_count": null,
      "metadata": {
        "id": "He-9_BCfMgwl",
        "colab": {
          "base_uri": "https://localhost:8080/",
          "height": 380
        },
        "outputId": "8dd0ae27-56f3-475d-bd76-080ca4a9aae4"
      },
      "outputs": [
        {
          "output_type": "error",
          "ename": "ValueError",
          "evalue": "ignored",
          "traceback": [
            "\u001b[0;31m---------------------------------------------------------------------------\u001b[0m",
            "\u001b[0;31mValueError\u001b[0m                                Traceback (most recent call last)",
            "\u001b[0;32m<ipython-input-120-cd4dd8054b30>\u001b[0m in \u001b[0;36m<module>\u001b[0;34m()\u001b[0m\n\u001b[1;32m      1\u001b[0m \u001b[0;31m## R2 score\u001b[0m\u001b[0;34m\u001b[0m\u001b[0;34m\u001b[0m\u001b[0;34m\u001b[0m\u001b[0m\n\u001b[1;32m      2\u001b[0m \u001b[0;34m\u001b[0m\u001b[0m\n\u001b[0;32m----> 3\u001b[0;31m \u001b[0mr2_score\u001b[0m\u001b[0;34m(\u001b[0m\u001b[0my_test\u001b[0m\u001b[0;34m,\u001b[0m \u001b[0mmodel\u001b[0m\u001b[0;34m.\u001b[0m\u001b[0mpredict\u001b[0m\u001b[0;34m(\u001b[0m\u001b[0mx_test\u001b[0m\u001b[0;34m)\u001b[0m\u001b[0;34m)\u001b[0m\u001b[0;34m\u001b[0m\u001b[0;34m\u001b[0m\u001b[0m\n\u001b[0m",
            "\u001b[0;32m/usr/local/lib/python3.7/dist-packages/sklearn/metrics/_regression.py\u001b[0m in \u001b[0;36mr2_score\u001b[0;34m(y_true, y_pred, sample_weight, multioutput)\u001b[0m\n\u001b[1;32m    788\u001b[0m     \"\"\"\n\u001b[1;32m    789\u001b[0m     y_type, y_true, y_pred, multioutput = _check_reg_targets(\n\u001b[0;32m--> 790\u001b[0;31m         \u001b[0my_true\u001b[0m\u001b[0;34m,\u001b[0m \u001b[0my_pred\u001b[0m\u001b[0;34m,\u001b[0m \u001b[0mmultioutput\u001b[0m\u001b[0;34m\u001b[0m\u001b[0;34m\u001b[0m\u001b[0m\n\u001b[0m\u001b[1;32m    791\u001b[0m     )\n\u001b[1;32m    792\u001b[0m     \u001b[0mcheck_consistent_length\u001b[0m\u001b[0;34m(\u001b[0m\u001b[0my_true\u001b[0m\u001b[0;34m,\u001b[0m \u001b[0my_pred\u001b[0m\u001b[0;34m,\u001b[0m \u001b[0msample_weight\u001b[0m\u001b[0;34m)\u001b[0m\u001b[0;34m\u001b[0m\u001b[0;34m\u001b[0m\u001b[0m\n",
            "\u001b[0;32m/usr/local/lib/python3.7/dist-packages/sklearn/metrics/_regression.py\u001b[0m in \u001b[0;36m_check_reg_targets\u001b[0;34m(y_true, y_pred, multioutput, dtype)\u001b[0m\n\u001b[1;32m    105\u001b[0m         raise ValueError(\n\u001b[1;32m    106\u001b[0m             \"y_true and y_pred have different number of output ({0}!={1})\".format(\n\u001b[0;32m--> 107\u001b[0;31m                 \u001b[0my_true\u001b[0m\u001b[0;34m.\u001b[0m\u001b[0mshape\u001b[0m\u001b[0;34m[\u001b[0m\u001b[0;36m1\u001b[0m\u001b[0;34m]\u001b[0m\u001b[0;34m,\u001b[0m \u001b[0my_pred\u001b[0m\u001b[0;34m.\u001b[0m\u001b[0mshape\u001b[0m\u001b[0;34m[\u001b[0m\u001b[0;36m1\u001b[0m\u001b[0;34m]\u001b[0m\u001b[0;34m\u001b[0m\u001b[0;34m\u001b[0m\u001b[0m\n\u001b[0m\u001b[1;32m    108\u001b[0m             )\n\u001b[1;32m    109\u001b[0m         )\n",
            "\u001b[0;31mValueError\u001b[0m: y_true and y_pred have different number of output (1!=64)"
          ]
        }
      ],
      "source": [
        "## R2 score\n",
        "\n",
        "r2_score(y_test, model.predict(x_test))"
      ]
    },
    {
      "cell_type": "code",
      "execution_count": null,
      "metadata": {
        "id": "VwfRJLHTMgwl",
        "colab": {
          "base_uri": "https://localhost:8080/",
          "height": 363
        },
        "outputId": "6f60821b-ae6f-4bf2-fa12-2dd5c9cf6dfa"
      },
      "outputs": [
        {
          "output_type": "error",
          "ename": "ValueError",
          "evalue": "ignored",
          "traceback": [
            "\u001b[0;31m---------------------------------------------------------------------------\u001b[0m",
            "\u001b[0;31mValueError\u001b[0m                                Traceback (most recent call last)",
            "\u001b[0;32m<ipython-input-121-e59f48f1f04b>\u001b[0m in \u001b[0;36m<module>\u001b[0;34m()\u001b[0m\n\u001b[0;32m----> 1\u001b[0;31m \u001b[0mr2_score\u001b[0m\u001b[0;34m(\u001b[0m\u001b[0my_train\u001b[0m\u001b[0;34m,\u001b[0m \u001b[0my_train_pred\u001b[0m\u001b[0;34m)\u001b[0m\u001b[0;34m\u001b[0m\u001b[0;34m\u001b[0m\u001b[0m\n\u001b[0m",
            "\u001b[0;32m/usr/local/lib/python3.7/dist-packages/sklearn/metrics/_regression.py\u001b[0m in \u001b[0;36mr2_score\u001b[0;34m(y_true, y_pred, sample_weight, multioutput)\u001b[0m\n\u001b[1;32m    788\u001b[0m     \"\"\"\n\u001b[1;32m    789\u001b[0m     y_type, y_true, y_pred, multioutput = _check_reg_targets(\n\u001b[0;32m--> 790\u001b[0;31m         \u001b[0my_true\u001b[0m\u001b[0;34m,\u001b[0m \u001b[0my_pred\u001b[0m\u001b[0;34m,\u001b[0m \u001b[0mmultioutput\u001b[0m\u001b[0;34m\u001b[0m\u001b[0;34m\u001b[0m\u001b[0m\n\u001b[0m\u001b[1;32m    791\u001b[0m     )\n\u001b[1;32m    792\u001b[0m     \u001b[0mcheck_consistent_length\u001b[0m\u001b[0;34m(\u001b[0m\u001b[0my_true\u001b[0m\u001b[0;34m,\u001b[0m \u001b[0my_pred\u001b[0m\u001b[0;34m,\u001b[0m \u001b[0msample_weight\u001b[0m\u001b[0;34m)\u001b[0m\u001b[0;34m\u001b[0m\u001b[0;34m\u001b[0m\u001b[0m\n",
            "\u001b[0;32m/usr/local/lib/python3.7/dist-packages/sklearn/metrics/_regression.py\u001b[0m in \u001b[0;36m_check_reg_targets\u001b[0;34m(y_true, y_pred, multioutput, dtype)\u001b[0m\n\u001b[1;32m     92\u001b[0m         \u001b[0mthe\u001b[0m \u001b[0mdtype\u001b[0m \u001b[0margument\u001b[0m \u001b[0mpassed\u001b[0m \u001b[0mto\u001b[0m \u001b[0mcheck_array\u001b[0m\u001b[0;34m.\u001b[0m\u001b[0;34m\u001b[0m\u001b[0;34m\u001b[0m\u001b[0m\n\u001b[1;32m     93\u001b[0m     \"\"\"\n\u001b[0;32m---> 94\u001b[0;31m     \u001b[0mcheck_consistent_length\u001b[0m\u001b[0;34m(\u001b[0m\u001b[0my_true\u001b[0m\u001b[0;34m,\u001b[0m \u001b[0my_pred\u001b[0m\u001b[0;34m)\u001b[0m\u001b[0;34m\u001b[0m\u001b[0;34m\u001b[0m\u001b[0m\n\u001b[0m\u001b[1;32m     95\u001b[0m     \u001b[0my_true\u001b[0m \u001b[0;34m=\u001b[0m \u001b[0mcheck_array\u001b[0m\u001b[0;34m(\u001b[0m\u001b[0my_true\u001b[0m\u001b[0;34m,\u001b[0m \u001b[0mensure_2d\u001b[0m\u001b[0;34m=\u001b[0m\u001b[0;32mFalse\u001b[0m\u001b[0;34m,\u001b[0m \u001b[0mdtype\u001b[0m\u001b[0;34m=\u001b[0m\u001b[0mdtype\u001b[0m\u001b[0;34m)\u001b[0m\u001b[0;34m\u001b[0m\u001b[0;34m\u001b[0m\u001b[0m\n\u001b[1;32m     96\u001b[0m     \u001b[0my_pred\u001b[0m \u001b[0;34m=\u001b[0m \u001b[0mcheck_array\u001b[0m\u001b[0;34m(\u001b[0m\u001b[0my_pred\u001b[0m\u001b[0;34m,\u001b[0m \u001b[0mensure_2d\u001b[0m\u001b[0;34m=\u001b[0m\u001b[0;32mFalse\u001b[0m\u001b[0;34m,\u001b[0m \u001b[0mdtype\u001b[0m\u001b[0;34m=\u001b[0m\u001b[0mdtype\u001b[0m\u001b[0;34m)\u001b[0m\u001b[0;34m\u001b[0m\u001b[0;34m\u001b[0m\u001b[0m\n",
            "\u001b[0;32m/usr/local/lib/python3.7/dist-packages/sklearn/utils/validation.py\u001b[0m in \u001b[0;36mcheck_consistent_length\u001b[0;34m(*arrays)\u001b[0m\n\u001b[1;32m    332\u001b[0m         raise ValueError(\n\u001b[1;32m    333\u001b[0m             \u001b[0;34m\"Found input variables with inconsistent numbers of samples: %r\"\u001b[0m\u001b[0;34m\u001b[0m\u001b[0;34m\u001b[0m\u001b[0m\n\u001b[0;32m--> 334\u001b[0;31m             \u001b[0;34m%\u001b[0m \u001b[0;34m[\u001b[0m\u001b[0mint\u001b[0m\u001b[0;34m(\u001b[0m\u001b[0ml\u001b[0m\u001b[0;34m)\u001b[0m \u001b[0;32mfor\u001b[0m \u001b[0ml\u001b[0m \u001b[0;32min\u001b[0m \u001b[0mlengths\u001b[0m\u001b[0;34m]\u001b[0m\u001b[0;34m\u001b[0m\u001b[0;34m\u001b[0m\u001b[0m\n\u001b[0m\u001b[1;32m    335\u001b[0m         )\n\u001b[1;32m    336\u001b[0m \u001b[0;34m\u001b[0m\u001b[0m\n",
            "\u001b[0;31mValueError\u001b[0m: Found input variables with inconsistent numbers of samples: [2774, 3945]"
          ]
        }
      ],
      "source": [
        "r2_score(y_train, y_train_pred)"
      ]
    },
    {
      "cell_type": "code",
      "execution_count": null,
      "metadata": {
        "id": "VvZ2ULc1Mgwl"
      },
      "outputs": [],
      "source": [
        ""
      ]
    },
    {
      "cell_type": "code",
      "execution_count": null,
      "metadata": {
        "id": "wEpo-FFxMgwl"
      },
      "outputs": [],
      "source": [
        ""
      ]
    }
  ],
  "metadata": {
    "kernelspec": {
      "display_name": "Python 3",
      "language": "python",
      "name": "python3"
    },
    "language_info": {
      "codemirror_mode": {
        "name": "ipython",
        "version": 3
      },
      "file_extension": ".py",
      "mimetype": "text/x-python",
      "name": "python",
      "nbconvert_exporter": "python",
      "pygments_lexer": "ipython3",
      "version": "3.8.8"
    },
    "colab": {
      "name": "Fire_Prediction_final.ipynb",
      "provenance": [],
      "collapsed_sections": [
        "9HStnKnUMgwg",
        "Pc8N87w-Mgwh"
      ]
    }
  },
  "nbformat": 4,
  "nbformat_minor": 0
}